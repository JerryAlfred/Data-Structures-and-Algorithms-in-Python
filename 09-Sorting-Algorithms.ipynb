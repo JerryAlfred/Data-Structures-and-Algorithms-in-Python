{
 "cells": [
  {
   "cell_type": "markdown",
   "metadata": {
    "slideshow": {
     "slide_type": "slide"
    }
   },
   "source": [
    "### <center>2018 Winter CS101.09</center>\n",
    "\n",
    "# <center>排序算法</center>\n",
    "\n",
    "##### <center>by tanzhuxiaqiu@huawei.com</center>"
   ]
  },
  {
   "cell_type": "markdown",
   "metadata": {
    "slideshow": {
     "slide_type": "slide"
    }
   },
   "source": [
    "## 作业-05\n",
    "\n",
    "- 3/12 19:00PM\n",
    "- 简单讲解"
   ]
  },
  {
   "cell_type": "markdown",
   "metadata": {
    "slideshow": {
     "slide_type": "slide"
    }
   },
   "source": [
    "## 回顾\n",
    "\n",
    "1. 算法的时间复杂度，最坏时间、最好时间和平均时间\n",
    "2. 时间复杂度的系数，常数和低阶\n",
    "3. 内存消耗和稳定性"
   ]
  },
  {
   "cell_type": "markdown",
   "metadata": {
    "slideshow": {
     "slide_type": "subslide"
    }
   },
   "source": [
    "### 排序算法的分析要点\n",
    "\n",
    "1. 排序数据的状态对算法影响很大，所以要熟悉排序算法的最坏、最好和平均时间复杂度；\n",
    "2. 排序的数据规模有时候不大，所以需要更精细的把系数、常数和低阶等因素考虑进来；\n",
    "3. 排序在内存中是否原地(in-place)完成，整个过程是否稳定(待排序的序列中值相等的元素在经过排序之后位置是否变化）。"
   ]
  },
  {
   "cell_type": "markdown",
   "metadata": {
    "slideshow": {
     "slide_type": "slide"
    }
   },
   "source": [
    "## 今日议程\n",
    "\n",
    "1. 冒泡排序、插入排序和选择排序\n",
    "2. 快速排序和归并排序\n",
    "3. 桶排序、计数排序和基数排序"
   ]
  },
  {
   "cell_type": "markdown",
   "metadata": {
    "slideshow": {
     "slide_type": "slide"
    }
   },
   "source": [
    "## 冒泡排序(Bubble Sort)\n",
    "\n",
    "1. 比较相邻的元素。如果第一个比第二个大，就交换他们两个。\n",
    "2. 对每一对相邻元素作同样的工作，从开始第一对到结尾的最后一对。这步做完后，最后的元素会是最大的数。\n",
    "3. 针对所有的元素重复以上的步骤，除了最后一个。\n",
    "4. 持续每次对越来越少的元素重复上面的步骤，直到没有任何一对数字需要比较。"
   ]
  },
  {
   "cell_type": "markdown",
   "metadata": {
    "slideshow": {
     "slide_type": "fragment"
    }
   },
   "source": [
    "![](img/9-1.gif)"
   ]
  },
  {
   "cell_type": "markdown",
   "metadata": {
    "slideshow": {
     "slide_type": "slide"
    }
   },
   "source": [
    "### 冒泡排序的时间和空间复杂度\n",
    "\n",
    "| | |\n",
    "|---|---|\n",
    "| Worst-case performance | $O(n^{2})$ comparisons, $O(n^{2})$ swaps |\n",
    "| Best-case performance\t| $O(n)$ comparisons, $O(1)$ swaps |\n",
    "| Average performance | $O(n^{2})$ comparisons, $O(n^{2})$ swaps |\n",
    "| Worst-case space complexity | $O(n)$ total, $O(1)$ auxiliary |"
   ]
  },
  {
   "cell_type": "markdown",
   "metadata": {
    "slideshow": {
     "slide_type": "fragment"
    }
   },
   "source": [
    "- 冒泡只涉及交换操作，是一个原地排序算法\n",
    "- 冒泡排序只有两个元素不相等时才发生交换，所以是稳定的排序"
   ]
  },
  {
   "cell_type": "code",
   "execution_count": 1,
   "metadata": {
    "slideshow": {
     "slide_type": "slide"
    }
   },
   "outputs": [],
   "source": [
    "def bubble_sort(data, sim=False):\n",
    "    def swap(i, j):\n",
    "        data[i], data[j] = data[j], data[i]\n",
    "\n",
    "    iteration = 0\n",
    "    if sim:\n",
    "        print(\"== Bubble Sort ===\")\n",
    "        print(\"iteration\", iteration, \":\", *data)\n",
    "\n",
    "    swapped = True\n",
    "    p = -1\n",
    "    while swapped:\n",
    "        swapped = False\n",
    "        p += 1\n",
    "        for i in range(1, len(data) - p):\n",
    "            if data[i - 1] > data[i]:\n",
    "                swap(i - 1, i)\n",
    "                swapped = True\n",
    "                if sim:\n",
    "                    iteration += 1\n",
    "                    print(\"iteration\", iteration, \":\", *data)\n",
    "\n",
    "    return data"
   ]
  },
  {
   "cell_type": "code",
   "execution_count": 6,
   "metadata": {
    "slideshow": {
     "slide_type": "subslide"
    }
   },
   "outputs": [
    {
     "data": {
      "text/plain": [
       "[9, 4, 6, 1, 7, 5, 3, 8, 2]"
      ]
     },
     "execution_count": 6,
     "metadata": {},
     "output_type": "execute_result"
    }
   ],
   "source": [
    "import random\n",
    "data = list(range(1, 10))\n",
    "random.shuffle(data)\n",
    "data"
   ]
  },
  {
   "cell_type": "code",
   "execution_count": 8,
   "metadata": {
    "slideshow": {
     "slide_type": "fragment"
    }
   },
   "outputs": [
    {
     "name": "stdout",
     "output_type": "stream",
     "text": [
      "== Bubble Sort ===\n",
      "iteration 0 : 9 4 6 1 7 5 3 8 2\n",
      "iteration 1 : 4 9 6 1 7 5 3 8 2\n",
      "iteration 2 : 4 6 9 1 7 5 3 8 2\n",
      "iteration 3 : 4 6 1 9 7 5 3 8 2\n",
      "iteration 4 : 4 6 1 7 9 5 3 8 2\n",
      "iteration 5 : 4 6 1 7 5 9 3 8 2\n",
      "iteration 6 : 4 6 1 7 5 3 9 8 2\n",
      "iteration 7 : 4 6 1 7 5 3 8 9 2\n",
      "iteration 8 : 4 6 1 7 5 3 8 2 9\n",
      "iteration 9 : 4 1 6 7 5 3 8 2 9\n",
      "iteration 10 : 4 1 6 5 7 3 8 2 9\n",
      "iteration 11 : 4 1 6 5 3 7 8 2 9\n",
      "iteration 12 : 4 1 6 5 3 7 2 8 9\n",
      "iteration 13 : 1 4 6 5 3 7 2 8 9\n",
      "iteration 14 : 1 4 5 6 3 7 2 8 9\n",
      "iteration 15 : 1 4 5 3 6 7 2 8 9\n",
      "iteration 16 : 1 4 5 3 6 2 7 8 9\n",
      "iteration 17 : 1 4 3 5 6 2 7 8 9\n",
      "iteration 18 : 1 4 3 5 2 6 7 8 9\n",
      "iteration 19 : 1 3 4 5 2 6 7 8 9\n",
      "iteration 20 : 1 3 4 2 5 6 7 8 9\n",
      "iteration 21 : 1 3 2 4 5 6 7 8 9\n",
      "iteration 22 : 1 2 3 4 5 6 7 8 9\n"
     ]
    },
    {
     "data": {
      "text/plain": [
       "[1, 2, 3, 4, 5, 6, 7, 8, 9]"
      ]
     },
     "execution_count": 8,
     "metadata": {},
     "output_type": "execute_result"
    }
   ],
   "source": [
    "bubble_sort(data, True)"
   ]
  },
  {
   "cell_type": "markdown",
   "metadata": {
    "slideshow": {
     "slide_type": "slide"
    }
   },
   "source": [
    "## 插入排序(Insertion Sort)\n",
    "\n",
    "1. 从第一个元素开始，该元素可以认为已经被排序\n",
    "2. 取出下一个元素，在已经排序的元素序列中从后向前扫描\n",
    "3. 如果该元素（已排序）大于新元素，将该元素移到下一位置\n",
    "4. 重复步骤3，直到找到已排序的元素小于或者等于新元素的位置\n",
    "5. 将新元素插入到该位置后\n",
    "6. 重复步骤2~5"
   ]
  },
  {
   "cell_type": "markdown",
   "metadata": {
    "slideshow": {
     "slide_type": "fragment"
    }
   },
   "source": [
    "![](img/9-2.gif)"
   ]
  },
  {
   "cell_type": "markdown",
   "metadata": {
    "slideshow": {
     "slide_type": "slide"
    }
   },
   "source": [
    "### 插入排序的时间和空间复杂度\n",
    "\n",
    "| | |\n",
    "|---|---|\n",
    "| Worst-case performance | $O(n^{2})$ comparisons, $O(n^{2})$ swaps |\n",
    "| Best-case performance\t| $O(n)$ comparisons, $O(1)$ swaps |\n",
    "| Average performance | $O(n^{2})$ comparisons, $O(n^{2})$ swaps |\n",
    "| Worst-case space complexity | $O(n)$ total, $O(1)$ auxiliary |"
   ]
  },
  {
   "cell_type": "markdown",
   "metadata": {
    "slideshow": {
     "slide_type": "fragment"
    }
   },
   "source": [
    "- 插入排序不需要额外的空间，是一个原地排序算法\n",
    "- 插入排序对于相同两个元素可以将后出现的元素插入到前出现元素的后面，从而保证相对位置不变，所以是稳定的排序\n",
    "- 数组插入一个元素的平均时间复杂度是O(n)，所以插入排序的平时间复杂度是$O(n^2)$"
   ]
  },
  {
   "cell_type": "code",
   "execution_count": 9,
   "metadata": {
    "slideshow": {
     "slide_type": "slide"
    }
   },
   "outputs": [],
   "source": [
    "def insertion_sort(data, sim=False):\n",
    "    iteration = 0\n",
    "    if sim:\n",
    "        print(\"== Insertion Sort ===\")\n",
    "        print(\"iteration\", iteration, \":\", *data)\n",
    "\n",
    "    for i in range(len(data)):\n",
    "        cur = data[i]\n",
    "        pos = i\n",
    "\n",
    "        while pos > 0 and data[pos - 1] > cur:\n",
    "            data[pos] = data[pos - 1]\n",
    "            pos = pos - 1\n",
    "        data[pos] = cur\n",
    "\n",
    "        if sim:\n",
    "            iteration += 1\n",
    "            print(\"iteration\", iteration, \":\", *data)\n",
    "\n",
    "    return data\n"
   ]
  },
  {
   "cell_type": "code",
   "execution_count": 10,
   "metadata": {
    "slideshow": {
     "slide_type": "subslide"
    }
   },
   "outputs": [
    {
     "data": {
      "text/plain": [
       "[5, 3, 4, 9, 2, 8, 7, 6, 1]"
      ]
     },
     "execution_count": 10,
     "metadata": {},
     "output_type": "execute_result"
    }
   ],
   "source": [
    "random.shuffle(data)\n",
    "data"
   ]
  },
  {
   "cell_type": "code",
   "execution_count": 12,
   "metadata": {
    "slideshow": {
     "slide_type": "fragment"
    }
   },
   "outputs": [
    {
     "name": "stdout",
     "output_type": "stream",
     "text": [
      "== Insertion Sort ===\n",
      "iteration 0 : 5 3 4 9 2 8 7 6 1\n",
      "iteration 1 : 5 3 4 9 2 8 7 6 1\n",
      "iteration 2 : 3 5 4 9 2 8 7 6 1\n",
      "iteration 3 : 3 4 5 9 2 8 7 6 1\n",
      "iteration 4 : 3 4 5 9 2 8 7 6 1\n",
      "iteration 5 : 2 3 4 5 9 8 7 6 1\n",
      "iteration 6 : 2 3 4 5 8 9 7 6 1\n",
      "iteration 7 : 2 3 4 5 7 8 9 6 1\n",
      "iteration 8 : 2 3 4 5 6 7 8 9 1\n",
      "iteration 9 : 1 2 3 4 5 6 7 8 9\n"
     ]
    },
    {
     "data": {
      "text/plain": [
       "[1, 2, 3, 4, 5, 6, 7, 8, 9]"
      ]
     },
     "execution_count": 12,
     "metadata": {},
     "output_type": "execute_result"
    }
   ],
   "source": [
    "insertion_sort(data, True)"
   ]
  },
  {
   "cell_type": "markdown",
   "metadata": {
    "slideshow": {
     "slide_type": "slide"
    }
   },
   "source": [
    "## 选择排序(Selection Sort)\n",
    "\n",
    "1. 在未排序序列中找到最小（大）元素，存放到排序序列的起始位置\n",
    "2. 再从剩余未排序元素中继续寻找最小（大）元素，然后放到已排序序列的末尾\n",
    "3. 以此类推，直到所有元素均排序完毕"
   ]
  },
  {
   "cell_type": "markdown",
   "metadata": {
    "slideshow": {
     "slide_type": "fragment"
    }
   },
   "source": [
    "![](img/9-3.gif)"
   ]
  },
  {
   "cell_type": "markdown",
   "metadata": {
    "slideshow": {
     "slide_type": "slide"
    }
   },
   "source": [
    "### 选择排序的时间和空间复杂度\n",
    "\n",
    "| | |\n",
    "|---|---|\n",
    "| Worst-case performance | $O(n^{2})$ comparisons, $O(n)$ swaps |\n",
    "| Best-case performance\t| $O(n^2)$ comparisons, $O(n)$ swaps |\n",
    "| Average performance | $O(n^{2})$ comparisons, $O(n)$ swaps |\n",
    "| Worst-case space complexity | $O(n)$ total, $O(1)$ auxiliary |"
   ]
  },
  {
   "cell_type": "markdown",
   "metadata": {
    "slideshow": {
     "slide_type": "fragment"
    }
   },
   "source": [
    "- 选择排序是一个原地排序算法\n",
    "- 选择排序是不稳定的排序\n",
    "- 最好、最坏和平均时间复杂度都是$O(n^2)$"
   ]
  },
  {
   "cell_type": "code",
   "execution_count": 13,
   "metadata": {
    "slideshow": {
     "slide_type": "slide"
    }
   },
   "outputs": [],
   "source": [
    "def selection_sort(data, sim=False):\n",
    "    iteration = 0\n",
    "    if sim:\n",
    "        print(\"=== Selection Sort ===\")\n",
    "        print(\"iteration\", iteration, \":\", *data)\n",
    "\n",
    "    for i in range(len(data)):\n",
    "        minPos = i\n",
    "\n",
    "        for j in range(i + 1, len(data)):\n",
    "            if data[j] < data[minPos]:\n",
    "                minPos = j\n",
    "\n",
    "        data[minPos], data[i] = data[i], data[minPos]\n",
    "\n",
    "        if sim:\n",
    "            iteration += 1\n",
    "            print(\"iteration\", iteration, \":\", *data)\n",
    "\n",
    "    return data"
   ]
  },
  {
   "cell_type": "code",
   "execution_count": 14,
   "metadata": {
    "slideshow": {
     "slide_type": "subslide"
    }
   },
   "outputs": [
    {
     "name": "stdout",
     "output_type": "stream",
     "text": [
      "=== Selection Sort ===\n",
      "iteration 0 : 3 9 1 8 6 2 4 5 7\n",
      "iteration 1 : 1 9 3 8 6 2 4 5 7\n",
      "iteration 2 : 1 2 3 8 6 9 4 5 7\n",
      "iteration 3 : 1 2 3 8 6 9 4 5 7\n",
      "iteration 4 : 1 2 3 4 6 9 8 5 7\n",
      "iteration 5 : 1 2 3 4 5 9 8 6 7\n",
      "iteration 6 : 1 2 3 4 5 6 8 9 7\n",
      "iteration 7 : 1 2 3 4 5 6 7 9 8\n",
      "iteration 8 : 1 2 3 4 5 6 7 8 9\n",
      "iteration 9 : 1 2 3 4 5 6 7 8 9\n"
     ]
    },
    {
     "data": {
      "text/plain": [
       "[1, 2, 3, 4, 5, 6, 7, 8, 9]"
      ]
     },
     "execution_count": 14,
     "metadata": {},
     "output_type": "execute_result"
    }
   ],
   "source": [
    "random.shuffle(data)\n",
    "selection_sort(data, True)"
   ]
  },
  {
   "cell_type": "markdown",
   "metadata": {
    "slideshow": {
     "slide_type": "slide"
    }
   },
   "source": [
    "### 三种排序总结\n",
    "\n",
    "- 时间复杂度都是$O(n^2)$，空间复杂度都是$O(1)$，但现实中使用会选择插入排序\n",
    "- 实现的代码都很简单\n",
    "- 适合小规模的数据排序(<1k)的场景"
   ]
  },
  {
   "cell_type": "markdown",
   "metadata": {
    "slideshow": {
     "slide_type": "slide"
    }
   },
   "source": [
    "## 归并排序(Merge Sort)\n",
    "\n",
    "#### 分治(Divide and Conquer)思想\n",
    "\n",
    "- 分割：递归地把当前序列平均分割成两半\n",
    "- 集成：在保持元素顺序的同时将上一步得到的子序列集成到一起（归并）"
   ]
  },
  {
   "cell_type": "markdown",
   "metadata": {
    "slideshow": {
     "slide_type": "subslide"
    }
   },
   "source": [
    "#### 递归法(Top-down):\n",
    "\n",
    "1. 申请空间，使其大小为两个已经排序序列之和，该空间用来存放合并后的序列\n",
    "2. 设定两个指针，最初位置分别为两个已经排序序列的起始位置\n",
    "3. 比较两个指针所指向的元素，选择相对小的元素放入到合并空间，并移动指针到下一位置\n",
    "4. 重复步骤3直到某一指针到达序列尾\n",
    "5. 将另一序列剩下的所有元素直接复制到合并序列尾"
   ]
  },
  {
   "cell_type": "markdown",
   "metadata": {
    "slideshow": {
     "slide_type": "fragment"
    }
   },
   "source": [
    "![](img/9-4.gif)"
   ]
  },
  {
   "cell_type": "markdown",
   "metadata": {
    "slideshow": {
     "slide_type": "subslide"
    }
   },
   "source": [
    "####  递归公式\n",
    "\n",
    ">merge_sort(p…r) = merge(merge_sort(p, q), merge_sort(q+1, r))  \n",
    ">终止条件：p >= r "
   ]
  },
  {
   "cell_type": "markdown",
   "metadata": {
    "slideshow": {
     "slide_type": "slide"
    }
   },
   "source": [
    "### 归并排序的时间和空间复杂度\n",
    "\n",
    "| | |\n",
    "|---|---|\n",
    "| Worst-case performance | $O(n log n)$ |\n",
    "| Best-case performance\t| $O(n log n)$ |\n",
    "| Average performance | $O(n log n)$ |\n",
    "| Worst-case space complexity | $O(n)$ total with $O(n)$ auxiliary, $O(1)$ auxiliary with linked lists |"
   ]
  },
  {
   "cell_type": "markdown",
   "metadata": {
    "slideshow": {
     "slide_type": "fragment"
    }
   },
   "source": [
    "- 归并排序在归并时不改变相等元素的次序，所以归并是一个稳定的排序算法\n",
    "- 最好、最坏和平均时间复杂度都是$O(n log n)$\n",
    "- 如果是用类似数组结构进行归并，每次合并操作都需要申请额外的内存空间，但在合并完成之后，临时的空间会被回收，所以实际上额外的空间不会超过n，所以空间复杂度是$O(n)$"
   ]
  },
  {
   "cell_type": "code",
   "execution_count": 17,
   "metadata": {
    "slideshow": {
     "slide_type": "slide"
    }
   },
   "outputs": [],
   "source": [
    "def merge_sort(data, sim=False):\n",
    "\n",
    "    if len(data) <= 1:\n",
    "        return data\n",
    "\n",
    "    mid = len(data) // 2\n",
    "\n",
    "    left, right = merge_sort(data[:mid]), merge_sort(data[mid:])\n",
    "    return merge(left, right, data.copy(), sim)\n",
    "\n",
    "\n",
    "def merge(left, right, merged, sim):\n",
    "\n",
    "    left_cur, right_cur = 0, 0\n",
    "\n",
    "    while left_cur < len(left) and right_cur < len(right):\n",
    "        if left[left_cur] <= right[right_cur]:\n",
    "            merged[left_cur + right_cur] = left[left_cur]\n",
    "            left_cur += 1\n",
    "        else:\n",
    "            merged[left_cur + right_cur] = right[right_cur]\n",
    "            right_cur += 1\n",
    "\n",
    "    for left_cur in range(left_cur, len(left)):\n",
    "        merged[left_cur + right_cur] = left[left_cur]\n",
    "\n",
    "    for right_cur in range(right_cur, len(right)):\n",
    "        merged[left_cur + right_cur] = right[right_cur]\n",
    "    \n",
    "    if sim:\n",
    "        print(*merged)\n",
    "    return merged\n"
   ]
  },
  {
   "cell_type": "code",
   "execution_count": 20,
   "metadata": {
    "slideshow": {
     "slide_type": "subslide"
    }
   },
   "outputs": [
    {
     "data": {
      "text/plain": [
       "[4, 1, 6, 8, 5, 3, 7, 9, 2]"
      ]
     },
     "execution_count": 20,
     "metadata": {},
     "output_type": "execute_result"
    }
   ],
   "source": [
    "random.shuffle(data)\n",
    "data"
   ]
  },
  {
   "cell_type": "code",
   "execution_count": 21,
   "metadata": {
    "slideshow": {
     "slide_type": "fragment"
    }
   },
   "outputs": [
    {
     "name": "stdout",
     "output_type": "stream",
     "text": [
      "1 4\n",
      "6 8\n",
      "1 4 6 8\n",
      "3 5\n",
      "2 9\n",
      "2 7 9\n",
      "2 3 5 7 9\n",
      "1 2 3 4 5 6 7 8 9\n"
     ]
    },
    {
     "data": {
      "text/plain": [
       "[1, 2, 3, 4, 5, 6, 7, 8, 9]"
      ]
     },
     "execution_count": 21,
     "metadata": {},
     "output_type": "execute_result"
    }
   ],
   "source": [
    "merge_sort(data)"
   ]
  },
  {
   "cell_type": "markdown",
   "metadata": {
    "slideshow": {
     "slide_type": "slide"
    }
   },
   "source": [
    "## 快速排序(Quick Sort)\n",
    "\n",
    "1. 从数列中挑出一个元素，称为“基准”（pivot）\n",
    "2. 重新排序数列，所有比基准值小的元素摆放在基准前面，所有比基准值大的元素摆在基准后面（相同的数可以到任何一边）。在这个分割结束之后，该基准就处于数列的中间位置。这个称为分割（partition）操作\n",
    "3. 递归地把小于基准值元素的子数列和大于基准值元素的子数列排序"
   ]
  },
  {
   "cell_type": "markdown",
   "metadata": {
    "slideshow": {
     "slide_type": "fragment"
    }
   },
   "source": [
    "![](img/9-5.gif)"
   ]
  },
  {
   "cell_type": "markdown",
   "metadata": {
    "slideshow": {
     "slide_type": "subslide"
    }
   },
   "source": [
    "####  递归公式\n",
    "\n",
    ">quick_sort(p...r) = quick_sort(p...q-1) + quick_sort(q+1...r)  \n",
    ">终止条件：p >= r "
   ]
  },
  {
   "cell_type": "markdown",
   "metadata": {
    "slideshow": {
     "slide_type": "slide"
    }
   },
   "source": [
    "### 快速排序的时间和空间复杂度\n",
    "\n",
    "| | |\n",
    "|---|---|\n",
    "| Worst-case performance | $O(n^2)$ |\n",
    "| Best-case performance\t| $O(n log n)$ |\n",
    "| Average performance | $O(n log n)$ |\n",
    "| Worst-case space complexity | $O(n)$ auxiliary (naive) $O(log n)$ auxiliary (Sedgewick 1978) |"
   ]
  },
  {
   "cell_type": "markdown",
   "metadata": {
    "slideshow": {
     "slide_type": "fragment"
    }
   },
   "source": [
    "- 快速排序是一个原地排序算法\n",
    "- 快速排序是不稳定的排序\n",
    "- 一般来说时间复杂度是$O(n log n)$，极端情况下会退化成$O(n^2)$"
   ]
  },
  {
   "cell_type": "code",
   "execution_count": 22,
   "metadata": {
    "slideshow": {
     "slide_type": "slide"
    }
   },
   "outputs": [],
   "source": [
    "def quick_sort(data, sim=False):\n",
    "    iteration = 0\n",
    "    if sim:\n",
    "        print(\"== Quick Sort ===\")\n",
    "        print(\"iteration\", iteration, \":\", *data)\n",
    "    data, _ = quick_sort_recur(data, 0, len(data) - 1, iteration, sim)\n",
    "    return data\n",
    "\n",
    "\n",
    "def quick_sort_recur(data, first, last, iteration, sim):\n",
    "    if first < last:\n",
    "        pos = partition(data, first, last)\n",
    "        if sim:\n",
    "            iteration += 1\n",
    "            print(\"iteration\", iteration, \":\", *data)\n",
    "\n",
    "        _, iteration = quick_sort_recur(data, first, pos - 1, iteration, sim)\n",
    "        _, iteration = quick_sort_recur(data, pos + 1, last, iteration, sim)\n",
    "\n",
    "    return data, iteration\n",
    "\n",
    "\n",
    "def partition(data, first, last):\n",
    "    pos = first\n",
    "    for cur in range(first, last):\n",
    "        if data[cur] < data[last]:  # last is the pivot\n",
    "            data[cur], data[pos] = data[pos], data[cur]\n",
    "            pos += 1\n",
    "    data[pos], data[last] = data[last], data[pos]\n",
    "    return pos\n"
   ]
  },
  {
   "cell_type": "code",
   "execution_count": 23,
   "metadata": {
    "slideshow": {
     "slide_type": "subslide"
    }
   },
   "outputs": [
    {
     "name": "stdout",
     "output_type": "stream",
     "text": [
      "== Quick Sort ===\n",
      "iteration 0 : 4 9 2 6 5 8 1 7 3\n",
      "iteration 1 : 2 1 3 6 5 8 9 7 4\n",
      "iteration 2 : 1 2 3 6 5 8 9 7 4\n",
      "iteration 3 : 1 2 3 4 5 8 9 7 6\n",
      "iteration 4 : 1 2 3 4 5 6 9 7 8\n",
      "iteration 5 : 1 2 3 4 5 6 7 8 9\n"
     ]
    },
    {
     "data": {
      "text/plain": [
       "[1, 2, 3, 4, 5, 6, 7, 8, 9]"
      ]
     },
     "execution_count": 23,
     "metadata": {},
     "output_type": "execute_result"
    }
   ],
   "source": [
    "random.shuffle(data)\n",
    "quick_sort(data, True)"
   ]
  },
  {
   "cell_type": "markdown",
   "metadata": {
    "slideshow": {
     "slide_type": "slide"
    }
   },
   "source": [
    "### 思考题\n",
    "\n",
    "> 如果想在O(n) 时间复杂度内从n个数中找出第k大的元素，可以用上面介绍的排序方法实现吗？应该用哪种排序方法？"
   ]
  },
  {
   "cell_type": "markdown",
   "metadata": {
    "slideshow": {
     "slide_type": "slide"
    }
   },
   "source": [
    "## 线性排序(Linear Sort)\n",
    "\n",
    "- 时间复杂度可以优化到O(n)\n",
    "- 基于非比较的排序，不涉及元素间的比较\n",
    "- 只适用于一些特殊的场景，有前提条件(数据本身的特性）"
   ]
  },
  {
   "cell_type": "markdown",
   "metadata": {
    "slideshow": {
     "slide_type": "slide"
    }
   },
   "source": [
    "## 桶排序(Bucket Sort)\n",
    "\n",
    "> 思考：如何按年龄给100万用户排序？\n",
    "\n",
    "- 将要排序的数据分到不同的“桶”中\n",
    "- 对每个“桶”中的元素单独进行排序\n",
    "- 最后把每个“桶”中的元素依次取出"
   ]
  },
  {
   "cell_type": "markdown",
   "metadata": {
    "slideshow": {
     "slide_type": "fragment"
    }
   },
   "source": [
    "![](img/9-6.png)\n",
    "\n",
    "![](img/9-7.png)"
   ]
  },
  {
   "cell_type": "markdown",
   "metadata": {
    "slideshow": {
     "slide_type": "slide"
    }
   },
   "source": [
    "### 桶排序的时间和空间复杂度\n",
    "\n",
    "| | |\n",
    "|---|---|\n",
    "| Worst-case performance | $O(n^2)$ |\n",
    "| Best-case performance\t| $O(n+k)$ |\n",
    "| Average performance | $O(n + {\\frac {n^2} {k}} + k)$, where k is the number of buckets. |\n",
    "| space complexity | $k O(n)$ |"
   ]
  },
  {
   "cell_type": "markdown",
   "metadata": {
    "slideshow": {
     "slide_type": "fragment"
    }
   },
   "source": [
    "- 桶排序不是一个原地排序算法(?)，常常用于大规模数据的外排序\n",
    "- 桶排序的稳定性取决于桶内选择的排序算法\n",
    "- 一般来说时间复杂度是$O(n + k)$，分好的桶要求有大小顺序，且分部比较均匀"
   ]
  },
  {
   "cell_type": "code",
   "execution_count": 24,
   "metadata": {
    "slideshow": {
     "slide_type": "slide"
    }
   },
   "outputs": [],
   "source": [
    "def bucket_sort(data):\n",
    "\n",
    "    bucket_num = len(data)\n",
    "    buckets = [[] for _ in range(bucket_num)]\n",
    "\n",
    "    for v in data:\n",
    "        index = v * bucket_num // (max(data) + 1)\n",
    "        buckets[index].append(v)\n",
    "\n",
    "    sorted_data = []\n",
    "    for i in range(bucket_num):\n",
    "        sorted_data.extend(sorted(buckets[i]))\n",
    "    return sorted_data"
   ]
  },
  {
   "cell_type": "code",
   "execution_count": 26,
   "metadata": {
    "slideshow": {
     "slide_type": "subslide"
    }
   },
   "outputs": [
    {
     "name": "stdout",
     "output_type": "stream",
     "text": [
      "[2922, 8308, 6096, 1132, 3819, 4797, 4667, 5753, 674, 9243, 2100, 4196, 9802, 6743, 6050, 6780, 3545, 6019, 7262, 5524, 4706, 6883, 3231, 4159, 2573, 8234, 4020, 6618, 793, 4873, 226, 5994, 6818, 2567, 6494, 5578, 3443, 4579, 9171, 3752, 4046, 964, 804, 4538, 3418, 9847, 1626, 4054, 6168, 2323, 8443, 3208, 2512, 9972, 5985, 8844, 2419, 2878, 6575, 3595, 8034, 9114, 3317, 7781, 2089, 5005, 6098, 9941, 8189, 405, 1796, 4250, 4772, 4549, 4530, 1059, 27, 2126, 4052, 1495, 6145, 6127, 1997, 7197, 4259, 9609, 3228, 1450, 1481, 6917, 5246, 4943, 2013, 7614, 4298, 5521, 2773, 7988, 105, 9469]\n"
     ]
    }
   ],
   "source": [
    "data = [random.randrange(1, 10000, 1) for _ in range(100)]\n",
    "print(data)"
   ]
  },
  {
   "cell_type": "code",
   "execution_count": 28,
   "metadata": {
    "slideshow": {
     "slide_type": "fragment"
    }
   },
   "outputs": [
    {
     "name": "stdout",
     "output_type": "stream",
     "text": [
      "[27, 105, 226, 405, 674, 793, 804, 964, 1059, 1132, 1450, 1481, 1495, 1626, 1796, 1997, 2013, 2089, 2100, 2126, 2323, 2419, 2512, 2567, 2573, 2773, 2878, 2922, 3208, 3228, 3231, 3317, 3418, 3443, 3545, 3595, 3752, 3819, 4020, 4046, 4052, 4054, 4159, 4196, 4250, 4259, 4298, 4530, 4538, 4549, 4579, 4667, 4706, 4772, 4797, 4873, 4943, 5005, 5246, 5521, 5524, 5578, 5753, 5985, 5994, 6019, 6050, 6096, 6098, 6127, 6145, 6168, 6494, 6575, 6618, 6743, 6780, 6818, 6883, 6917, 7197, 7262, 7614, 7781, 7988, 8034, 8189, 8234, 8308, 8443, 8844, 9114, 9171, 9243, 9469, 9609, 9802, 9847, 9941, 9972]\n"
     ]
    }
   ],
   "source": [
    "print(bucket_sort(data))"
   ]
  },
  {
   "cell_type": "markdown",
   "metadata": {
    "slideshow": {
     "slide_type": "slide"
    }
   },
   "source": [
    "## 计数排序(Counting Sort)\n",
    "\n",
    "> 思考：如何根据高考成绩对某年的考生进行排序？\n",
    "\n",
    "- 可以看成是通排序的一种特殊形式，划分桶时以排序数列中的最大值为基础来划分桶的个数\n",
    "- 计数排序适合桶数量k不太大的场景，如果k远远大于排序的数n，则不适合用计数排序\n",
    "- 计数排序适合非负整数的排序，如果是其它类型需要先转换成非负整数"
   ]
  },
  {
   "cell_type": "markdown",
   "metadata": {
    "slideshow": {
     "slide_type": "slide"
    }
   },
   "source": [
    "![](img/9-8.gif)"
   ]
  },
  {
   "cell_type": "markdown",
   "metadata": {
    "slideshow": {
     "slide_type": "subslide"
    }
   },
   "source": [
    "![](img/9-9.png)"
   ]
  },
  {
   "cell_type": "markdown",
   "metadata": {
    "slideshow": {
     "slide_type": "subslide"
    }
   },
   "source": [
    "![](img/9-10.gif)"
   ]
  },
  {
   "cell_type": "markdown",
   "metadata": {
    "slideshow": {
     "slide_type": "slide"
    }
   },
   "source": [
    "### 计数排序的时间和空间复杂度\n",
    "\n",
    "| | |\n",
    "|---|----|\n",
    "| Worst-case performance | $O(n+k)$ |\n",
    "| Best-case performance\t| $O(n+k)$ |\n",
    "| Average performance | $O(n+k)$ |\n",
    "| space complexity | $ O(n+k)$ |"
   ]
  },
  {
   "cell_type": "markdown",
   "metadata": {
    "slideshow": {
     "slide_type": "fragment"
    }
   },
   "source": [
    "- 计数排序不是一个原地排序算法\n",
    "- 计数排序是稳定的排序算法（因为无需做桶内排序）\n",
    "- 时间和空间复杂度是$O(n + k)$"
   ]
  },
  {
   "cell_type": "code",
   "execution_count": 29,
   "metadata": {
    "slideshow": {
     "slide_type": "slide"
    }
   },
   "outputs": [],
   "source": [
    "def counting_sort(data):\n",
    "    k = max(data)\n",
    "    temp = [0] * (k + 1)  # arr contain the number i appear counts in data\n",
    "\n",
    "    for i in range(len(data)):\n",
    "        temp[data[i]] = temp[data[i]] + 1\n",
    "\n",
    "    for i in range(1, k + 1):\n",
    "        temp[i] = temp[i - 1] + temp[i]\n",
    "\n",
    "    sorted_data = data.copy()\n",
    "    # for i in range(len(data) - 1, -1, -1):\n",
    "    for i in range(len(data)):\n",
    "        sorted_data[temp[data[i]] - 1] = data[i]\n",
    "        temp[data[i]] -= 1\n",
    "\n",
    "    return sorted_data"
   ]
  },
  {
   "cell_type": "code",
   "execution_count": 30,
   "metadata": {
    "slideshow": {
     "slide_type": "subslide"
    }
   },
   "outputs": [
    {
     "name": "stdout",
     "output_type": "stream",
     "text": [
      "[7, 0, 2, 9, 1, 5, 9, 8, 5, 6, 2, 8, 6, 8, 4, 6, 4, 5, 8, 0, 7, 7, 9, 4, 6, 6, 2, 2, 5, 5, 1, 8, 8, 3, 6, 7, 5, 2, 1, 6, 6, 6, 6, 4, 4, 0, 4, 6, 7, 8, 1, 6, 1, 9, 4, 8, 7, 1, 6, 6, 0, 3, 6, 3, 0, 6, 8, 3, 0, 9, 5, 8, 1, 2, 3, 6, 9, 3, 8, 8, 6, 6, 5, 1, 5, 9, 5, 2, 2, 5, 7, 8, 8, 2, 2, 4, 3, 4, 4, 9]\n"
     ]
    }
   ],
   "source": [
    "data = [random.randrange(0, 10, 1) for _ in range(100)]\n",
    "print(data)"
   ]
  },
  {
   "cell_type": "code",
   "execution_count": 31,
   "metadata": {
    "slideshow": {
     "slide_type": "fragment"
    }
   },
   "outputs": [
    {
     "name": "stdout",
     "output_type": "stream",
     "text": [
      "[0, 0, 0, 0, 0, 0, 1, 1, 1, 1, 1, 1, 1, 1, 2, 2, 2, 2, 2, 2, 2, 2, 2, 2, 3, 3, 3, 3, 3, 3, 3, 4, 4, 4, 4, 4, 4, 4, 4, 4, 4, 5, 5, 5, 5, 5, 5, 5, 5, 5, 5, 5, 6, 6, 6, 6, 6, 6, 6, 6, 6, 6, 6, 6, 6, 6, 6, 6, 6, 6, 6, 7, 7, 7, 7, 7, 7, 7, 8, 8, 8, 8, 8, 8, 8, 8, 8, 8, 8, 8, 8, 8, 9, 9, 9, 9, 9, 9, 9, 9]\n"
     ]
    }
   ],
   "source": [
    "print(counting_sort(data))"
   ]
  },
  {
   "cell_type": "markdown",
   "metadata": {
    "slideshow": {
     "slide_type": "slide"
    }
   },
   "source": [
    "## 基数排序(Radix Sort)\n",
    "\n",
    "> 思考：如何按手机号给100万用户排序？\n",
    "\n",
    "- 把带排序的数分割成独立的“位”来进行排序\n",
    "- 用稳定的排序方法进行比较，如果数“位”的范围不大最好用线性排序(桶排序或计数排序)的方法"
   ]
  },
  {
   "cell_type": "markdown",
   "metadata": {
    "slideshow": {
     "slide_type": "fragment"
    }
   },
   "source": [
    "![](img/9-11.png)"
   ]
  },
  {
   "cell_type": "markdown",
   "metadata": {
    "slideshow": {
     "slide_type": "slide"
    }
   },
   "source": [
    "### 计数排序的时间和空间复杂度\n",
    "\n",
    "| | |\n",
    "|---|----|\n",
    "| Worst-case performance | $O(nk)$ |\n",
    "| Best-case performance\t| $O(nk)$ |\n",
    "| Average performance | $O(nk)$ |\n",
    "| space complexity | $ O(n+k)$ |"
   ]
  },
  {
   "cell_type": "markdown",
   "metadata": {
    "slideshow": {
     "slide_type": "fragment"
    }
   },
   "source": [
    "- 计数排序是否稳定，是否是原地排序都取决于“位”比较时采用哪种排序算法\n",
    "- 如果“位”排序时采用线性排序，时间复杂度可以优化到$O(k n)$"
   ]
  },
  {
   "cell_type": "code",
   "execution_count": 33,
   "metadata": {
    "slideshow": {
     "slide_type": "slide"
    }
   },
   "outputs": [],
   "source": [
    "def radix_sort(data, simulation=False):\n",
    "    position = 1\n",
    "    max_number = max(data)\n",
    "\n",
    "    iteration = 0\n",
    "    if simulation:\n",
    "        print(\"=== Radix Sort ===\")\n",
    "        print(\"iteration\", iteration, \":\", *data)\n",
    "\n",
    "    while position < max_number:\n",
    "        queue_list = [list() for _ in range(10)]\n",
    "\n",
    "        for num in data:\n",
    "            digit_number = num // position % 10\n",
    "            queue_list[digit_number].append(num)\n",
    "\n",
    "        index = 0\n",
    "        for numbers in queue_list:\n",
    "            for num in numbers:\n",
    "                data[index] = num\n",
    "                index += 1\n",
    "\n",
    "        if simulation:\n",
    "            iteration = iteration + 1\n",
    "            print(\"iteration\", iteration, \":\", *data)\n",
    "\n",
    "        position *= 10\n",
    "    return data"
   ]
  },
  {
   "cell_type": "code",
   "execution_count": 34,
   "metadata": {
    "slideshow": {
     "slide_type": "subslide"
    }
   },
   "outputs": [
    {
     "name": "stdout",
     "output_type": "stream",
     "text": [
      "=== Radix Sort ===\n",
      "iteration 0 : 82788 32515 74874 54728 65477 62034 24502 80412 56866 74768\n",
      "iteration 1 : 24502 80412 74874 62034 32515 56866 65477 82788 54728 74768\n",
      "iteration 2 : 24502 80412 32515 54728 62034 56866 74768 74874 65477 82788\n",
      "iteration 3 : 62034 80412 65477 24502 32515 54728 74768 82788 56866 74874\n",
      "iteration 4 : 80412 62034 32515 82788 24502 54728 74768 74874 65477 56866\n",
      "iteration 5 : 24502 32515 54728 56866 62034 65477 74768 74874 80412 82788\n"
     ]
    },
    {
     "data": {
      "text/plain": [
       "[24502, 32515, 54728, 56866, 62034, 65477, 74768, 74874, 80412, 82788]"
      ]
     },
     "execution_count": 34,
     "metadata": {},
     "output_type": "execute_result"
    }
   ],
   "source": [
    "data = [random.randrange(10**4, 10**5, 1) for _ in range(10)]\n",
    "radix_sort(data, True)"
   ]
  },
  {
   "cell_type": "markdown",
   "metadata": {
    "slideshow": {
     "slide_type": "slide"
    }
   },
   "source": [
    "# Any Questions?"
   ]
  },
  {
   "cell_type": "markdown",
   "metadata": {
    "slideshow": {
     "slide_type": "slide"
    }
   },
   "source": []
  }
 ],
 "metadata": {
  "celltoolbar": "Slideshow",
  "kernelspec": {
   "display_name": "Python 3",
   "language": "python",
   "name": "python3"
  },
  "language_info": {
   "codemirror_mode": {
    "name": "ipython",
    "version": 3
   },
   "file_extension": ".py",
   "mimetype": "text/x-python",
   "name": "python",
   "nbconvert_exporter": "python",
   "pygments_lexer": "ipython3",
   "version": "3.6.5"
  }
 },
 "nbformat": 4,
 "nbformat_minor": 2
}
