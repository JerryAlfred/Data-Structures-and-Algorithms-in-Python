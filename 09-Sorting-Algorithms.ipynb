{
 "cells": [
  {
   "cell_type": "markdown",
   "metadata": {
    "slideshow": {
     "slide_type": "slide"
    }
   },
   "source": [
    "### <center>2018 Winter CS101.09</center>\n",
    "\n",
    "# <center>排序算法</center>\n",
    "\n",
    "##### <center>by tanzhuxiaqiu@huawei.com</center>"
   ]
  },
  {
   "cell_type": "markdown",
   "metadata": {
    "slideshow": {
     "slide_type": "slide"
    }
   },
   "source": [
    "## 作业-05\n",
    "\n",
    "- 3/12 19:00PM\n",
    "- 简单讲解"
   ]
  },
  {
   "cell_type": "markdown",
   "metadata": {
    "slideshow": {
     "slide_type": "slide"
    }
   },
   "source": [
    "## 回顾\n",
    "\n",
    "1. 算法的时间复杂度，最坏时间、最好时间和平均时间\n",
    "2. 时间复杂度的系数，常数和低阶\n",
    "3. 内存消耗和稳定性"
   ]
  },
  {
   "cell_type": "markdown",
   "metadata": {
    "slideshow": {
     "slide_type": "subslide"
    }
   },
   "source": [
    "### 排序算法的分析要点\n",
    "\n",
    "1. 排序数据的状态对算法影响很大，所以要熟悉排序算法的最坏、最好和平均时间复杂度；\n",
    "2. 排序的数据规模有时候不大，所以需要更精细的把系数、常数和低阶等因素考虑进来；\n",
    "3. 排序在内存中是否原地(in-place)完成，整个过程是否稳定(待排序的序列中值相等的元素在经过排序之后位置是否变化）。"
   ]
  },
  {
   "cell_type": "markdown",
   "metadata": {
    "slideshow": {
     "slide_type": "slide"
    }
   },
   "source": [
    "## 今日议程\n",
    "\n",
    "1. 冒泡排序、插入排序和选择排序\n",
    "2. 快速排序和归并排序\n",
    "3. 桶排序、计数排序和基数排序"
   ]
  },
  {
   "cell_type": "markdown",
   "metadata": {
    "slideshow": {
     "slide_type": "slide"
    }
   },
   "source": [
    "## 冒泡排序(Bubble Sort)\n",
    "\n",
    "1. 比较相邻的元素。如果第一个比第二个大，就交换他们两个。\n",
    "2. 对每一对相邻元素作同样的工作，从开始第一对到结尾的最后一对。这步做完后，最后的元素会是最大的数。\n",
    "3. 针对所有的元素重复以上的步骤，除了最后一个。\n",
    "4. 持续每次对越来越少的元素重复上面的步骤，直到没有任何一对数字需要比较。\n",
    "\n",
    "![](img/9-1.gif)"
   ]
  },
  {
   "cell_type": "markdown",
   "metadata": {
    "slideshow": {
     "slide_type": "slide"
    }
   },
   "source": [
    "### 冒泡排序的时间和空间复杂度\n",
    "\n",
    "| | |\n",
    "|---|---|\n",
    "| Worst-case performance | $O(n^{2})$ comparisons, $O(n^{2})$ swaps |\n",
    "| Best-case performance\t| $O(n)$ comparisons, $O(1)$ swaps |\n",
    "| Average performance | $O(n^{2})$ comparisons, $O(n^{2})$ swaps |\n",
    "| Worst-case space complexity | $O(1)$ auxiliary |"
   ]
  },
  {
   "cell_type": "markdown",
   "metadata": {
    "slideshow": {
     "slide_type": "fragment"
    }
   },
   "source": [
    "- 冒泡只涉及交换操作，是一个原地排序算法\n",
    "- 冒泡排序只有两个元素不相等时才发生交换，所以是稳定的排序"
   ]
  },
  {
   "cell_type": "markdown",
   "metadata": {
    "slideshow": {
     "slide_type": "slide"
    }
   },
   "source": [
    "## 插入排序(Insertion Sort)\n",
    "\n"
   ]
  },
  {
   "cell_type": "markdown",
   "metadata": {
    "slideshow": {
     "slide_type": "slide"
    }
   },
   "source": [
    "# Any Questions?"
   ]
  },
  {
   "cell_type": "code",
   "execution_count": null,
   "metadata": {},
   "outputs": [],
   "source": []
  }
 ],
 "metadata": {
  "celltoolbar": "Slideshow",
  "kernelspec": {
   "display_name": "Python 3",
   "language": "python",
   "name": "python3"
  },
  "language_info": {
   "codemirror_mode": {
    "name": "ipython",
    "version": 3
   },
   "file_extension": ".py",
   "mimetype": "text/x-python",
   "name": "python",
   "nbconvert_exporter": "python",
   "pygments_lexer": "ipython3",
   "version": "3.6.5"
  }
 },
 "nbformat": 4,
 "nbformat_minor": 2
}
