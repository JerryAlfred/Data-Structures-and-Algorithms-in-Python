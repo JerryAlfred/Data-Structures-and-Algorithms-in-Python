{
 "cells": [
  {
   "cell_type": "markdown",
   "metadata": {
    "slideshow": {
     "slide_type": "slide"
    }
   },
   "source": [
    "### <center>2018 Winter CS101.09</center>\n",
    "\n",
    "# <center>排序算法</center>\n",
    "\n",
    "##### <center>by tanzhuxiaqiu@huawei.com</center>"
   ]
  },
  {
   "cell_type": "markdown",
   "metadata": {
    "slideshow": {
     "slide_type": "slide"
    }
   },
   "source": [
    "## 作业-05\n",
    "\n",
    "- 3/12 19:00PM\n",
    "- 简单讲解"
   ]
  },
  {
   "cell_type": "markdown",
   "metadata": {
    "slideshow": {
     "slide_type": "slide"
    }
   },
   "source": [
    "## 回顾\n",
    "\n",
    "1. 算法的时间复杂度，最坏时间、最好时间和平均时间\n",
    "2. 时间复杂度的系数，常数和低阶\n",
    "3. 内存消耗和稳定性"
   ]
  },
  {
   "cell_type": "markdown",
   "metadata": {
    "slideshow": {
     "slide_type": "subslide"
    }
   },
   "source": [
    "### 排序算法的分析要点\n",
    "\n",
    "1. 排序数据的状态对算法影响很大，所以要熟悉排序算法的最坏、最好和平均时间复杂度；\n",
    "2. 排序的数据规模有时候不大，所以需要更精细的把系数、常数和低阶等因素考虑进来；\n",
    "3. 排序在内存中是否原地(in-place)完成，整个过程是否稳定(待排序的序列中值相等的元素在经过排序之后位置是否变化）。"
   ]
  },
  {
   "cell_type": "markdown",
   "metadata": {
    "slideshow": {
     "slide_type": "slide"
    }
   },
   "source": [
    "## 今日议程\n",
    "\n",
    "1. 冒泡排序、插入排序和选择排序\n",
    "2. 快速排序和归并排序\n",
    "3. 桶排序、计数排序和基数排序"
   ]
  },
  {
   "cell_type": "markdown",
   "metadata": {
    "slideshow": {
     "slide_type": "slide"
    }
   },
   "source": [
    "## 冒泡排序(Bubble Sort)\n",
    "\n",
    "1. 比较相邻的元素。如果第一个比第二个大，就交换他们两个。\n",
    "2. 对每一对相邻元素作同样的工作，从开始第一对到结尾的最后一对。这步做完后，最后的元素会是最大的数。\n",
    "3. 针对所有的元素重复以上的步骤，除了最后一个。\n",
    "4. 持续每次对越来越少的元素重复上面的步骤，直到没有任何一对数字需要比较。"
   ]
  },
  {
   "cell_type": "markdown",
   "metadata": {
    "slideshow": {
     "slide_type": "fragment"
    }
   },
   "source": [
    "![](img/9-1.gif)"
   ]
  },
  {
   "cell_type": "markdown",
   "metadata": {
    "slideshow": {
     "slide_type": "slide"
    }
   },
   "source": [
    "### 冒泡排序的时间和空间复杂度\n",
    "\n",
    "| | |\n",
    "|---|---|\n",
    "| Worst-case performance | $O(n^{2})$ comparisons, $O(n^{2})$ swaps |\n",
    "| Best-case performance\t| $O(n)$ comparisons, $O(1)$ swaps |\n",
    "| Average performance | $O(n^{2})$ comparisons, $O(n^{2})$ swaps |\n",
    "| Worst-case space complexity | $O(n)$ total, $O(1)$ auxiliary |"
   ]
  },
  {
   "cell_type": "markdown",
   "metadata": {
    "slideshow": {
     "slide_type": "fragment"
    }
   },
   "source": [
    "- 冒泡只涉及交换操作，是一个原地排序算法\n",
    "- 冒泡排序只有两个元素不相等时才发生交换，所以是稳定的排序"
   ]
  },
  {
   "cell_type": "markdown",
   "metadata": {
    "slideshow": {
     "slide_type": "slide"
    }
   },
   "source": [
    "## 插入排序(Insertion Sort)\n",
    "\n",
    "1. 从第一个元素开始，该元素可以认为已经被排序\n",
    "2. 取出下一个元素，在已经排序的元素序列中从后向前扫描\n",
    "3. 如果该元素（已排序）大于新元素，将该元素移到下一位置\n",
    "4. 重复步骤3，直到找到已排序的元素小于或者等于新元素的位置\n",
    "5. 将新元素插入到该位置后\n",
    "6. 重复步骤2~5"
   ]
  },
  {
   "cell_type": "markdown",
   "metadata": {
    "slideshow": {
     "slide_type": "fragment"
    }
   },
   "source": [
    "![](img/9-2.gif)"
   ]
  },
  {
   "cell_type": "markdown",
   "metadata": {
    "slideshow": {
     "slide_type": "slide"
    }
   },
   "source": [
    "### 插入排序的时间和空间复杂度\n",
    "\n",
    "| | |\n",
    "|---|---|\n",
    "| Worst-case performance | $O(n^{2})$ comparisons, $O(n^{2})$ swaps |\n",
    "| Best-case performance\t| $O(n)$ comparisons, $O(1)$ swaps |\n",
    "| Average performance | $O(n^{2})$ comparisons, $O(n^{2})$ swaps |\n",
    "| Worst-case space complexity | $O(n)$ total, $O(1)$ auxiliary |"
   ]
  },
  {
   "cell_type": "markdown",
   "metadata": {
    "slideshow": {
     "slide_type": "fragment"
    }
   },
   "source": [
    "- 插入排序不需要额外的空间，是一个原地排序算法\n",
    "- 插入排序对于相同两个元素可以将后出现的元素插入到前出现元素的后面，从而保证相对位置不变，所以是稳定的排序\n",
    "- 数组插入一个元素的平均时间复杂度是O(n)，所以插入排序的平时间复杂度是$O(n^2)$"
   ]
  },
  {
   "cell_type": "markdown",
   "metadata": {
    "slideshow": {
     "slide_type": "slide"
    }
   },
   "source": [
    "## 选择排序(Selection Sort)\n",
    "\n",
    "1. 在未排序序列中找到最小（大）元素，存放到排序序列的起始位置\n",
    "2. 再从剩余未排序元素中继续寻找最小（大）元素，然后放到已排序序列的末尾\n",
    "3. 以此类推，直到所有元素均排序完毕"
   ]
  },
  {
   "cell_type": "markdown",
   "metadata": {
    "slideshow": {
     "slide_type": "fragment"
    }
   },
   "source": [
    "![](img/9-3.gif)"
   ]
  },
  {
   "cell_type": "markdown",
   "metadata": {
    "slideshow": {
     "slide_type": "slide"
    }
   },
   "source": [
    "### 选择排序的时间和空间复杂度\n",
    "\n",
    "| | |\n",
    "|---|---|\n",
    "| Worst-case performance | $O(n^{2})$ comparisons, $O(n)$ swaps |\n",
    "| Best-case performance\t| $O(n^2)$ comparisons, $O(n)$ swaps |\n",
    "| Average performance | $O(n^{2})$ comparisons, $O(n)$ swaps |\n",
    "| Worst-case space complexity | $O(n)$ total, $O(1)$ auxiliary |"
   ]
  },
  {
   "cell_type": "markdown",
   "metadata": {
    "slideshow": {
     "slide_type": "fragment"
    }
   },
   "source": [
    "- 选择排序是一个原地排序算法\n",
    "- 选择排序是不稳定的排序\n",
    "- 最好、最坏和平均时间复杂度都是$O(n^2)$"
   ]
  },
  {
   "cell_type": "markdown",
   "metadata": {
    "slideshow": {
     "slide_type": "slide"
    }
   },
   "source": [
    "### 三种排序总结\n",
    "\n",
    "- 时间复杂度都是$O(n^2)$，空间复杂度都是$O(1)$，但现实中使用会选择插入排序\n",
    "- 实现的代码都很简单\n",
    "- 适合小规模的数据排序(<1k)的场景"
   ]
  },
  {
   "cell_type": "markdown",
   "metadata": {
    "slideshow": {
     "slide_type": "slide"
    }
   },
   "source": [
    "## 归并排序(Merge Sort)\n",
    "\n",
    "#### 分治(Divide and Conquer)思想\n",
    "\n",
    "- 分割：递归地把当前序列平均分割成两半\n",
    "- 集成：在保持元素顺序的同时将上一步得到的子序列集成到一起（归并）"
   ]
  },
  {
   "cell_type": "markdown",
   "metadata": {
    "slideshow": {
     "slide_type": "subslide"
    }
   },
   "source": [
    "#### 递归法(Top-down):\n",
    "\n",
    "1. 申请空间，使其大小为两个已经排序序列之和，该空间用来存放合并后的序列\n",
    "2. 设定两个指针，最初位置分别为两个已经排序序列的起始位置\n",
    "3. 比较两个指针所指向的元素，选择相对小的元素放入到合并空间，并移动指针到下一位置\n",
    "4. 重复步骤3直到某一指针到达序列尾\n",
    "5. 将另一序列剩下的所有元素直接复制到合并序列尾"
   ]
  },
  {
   "cell_type": "markdown",
   "metadata": {
    "slideshow": {
     "slide_type": "fragment"
    }
   },
   "source": [
    "![](img/9-4.gif)"
   ]
  },
  {
   "cell_type": "markdown",
   "metadata": {
    "slideshow": {
     "slide_type": "subslide"
    }
   },
   "source": [
    "####  递归公式\n",
    "\n",
    ">merge_sort(p…r) = merge(merge_sort(p, q), merge_sort(q+1, r))  \n",
    ">终止条件：p >= r "
   ]
  },
  {
   "cell_type": "markdown",
   "metadata": {
    "slideshow": {
     "slide_type": "slide"
    }
   },
   "source": [
    "### 归并排序的时间和空间复杂度\n",
    "\n",
    "| | |\n",
    "|---|---|\n",
    "| Worst-case performance | $O(n log n)$ |\n",
    "| Best-case performance\t| $O(n log n)$ |\n",
    "| Average performance | $O(n log n)$ |\n",
    "| Worst-case space complexity | $O(n)$ total with $O(n)$ auxiliary, $O(1)$ auxiliary with linked lists |"
   ]
  },
  {
   "cell_type": "markdown",
   "metadata": {
    "slideshow": {
     "slide_type": "fragment"
    }
   },
   "source": [
    "- 归并排序在归并时不改变相等元素的次序，所以归并是一个稳定的排序算法\n",
    "- 最好、最坏和平均时间复杂度都是$O(n log n)$"
   ]
  },
  {
   "cell_type": "code",
   "execution_count": null,
   "metadata": {},
   "outputs": [],
   "source": []
  },
  {
   "cell_type": "markdown",
   "metadata": {
    "slideshow": {
     "slide_type": "slide"
    }
   },
   "source": [
    "# Any Questions?"
   ]
  },
  {
   "cell_type": "code",
   "execution_count": null,
   "metadata": {},
   "outputs": [],
   "source": []
  }
 ],
 "metadata": {
  "celltoolbar": "Slideshow",
  "kernelspec": {
   "display_name": "Python 3",
   "language": "python",
   "name": "python3"
  },
  "language_info": {
   "codemirror_mode": {
    "name": "ipython",
    "version": 3
   },
   "file_extension": ".py",
   "mimetype": "text/x-python",
   "name": "python",
   "nbconvert_exporter": "python",
   "pygments_lexer": "ipython3",
   "version": "3.6.5"
  }
 },
 "nbformat": 4,
 "nbformat_minor": 2
}
