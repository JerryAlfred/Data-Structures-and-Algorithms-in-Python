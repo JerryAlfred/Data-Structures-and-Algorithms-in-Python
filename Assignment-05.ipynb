{
 "cells": [
  {
   "cell_type": "markdown",
   "metadata": {
    "slideshow": {
     "slide_type": "slide"
    }
   },
   "source": [
    "## 课后作业 Assignment-05\n",
    "\n",
    "1) 课程中我们已经学习了环形链表，但在实际应用中，链表可能会存在非首尾相接的环形结构（如下图所示），请提供一种有效的算法来检测一个单向链表中是否包含环。\n",
    "\n",
    "![](img/7-5.png)"
   ]
  }
 ],
 "metadata": {
  "kernelspec": {
   "display_name": "Python 3",
   "language": "python",
   "name": "python3"
  },
  "language_info": {
   "codemirror_mode": {
    "name": "ipython",
    "version": 3
   },
   "file_extension": ".py",
   "mimetype": "text/x-python",
   "name": "python",
   "nbconvert_exporter": "python",
   "pygments_lexer": "ipython3",
   "version": "3.6.5"
  }
 },
 "nbformat": 4,
 "nbformat_minor": 2
}
