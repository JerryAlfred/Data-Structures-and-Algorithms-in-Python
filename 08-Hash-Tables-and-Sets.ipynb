{
 "cells": [
  {
   "cell_type": "markdown",
   "metadata": {
    "slideshow": {
     "slide_type": "slide"
    }
   },
   "source": [
    "### <center>2018 Winter CS101.08</center>\n",
    "\n",
    "# <center>散列表和集合</center>\n",
    "\n",
    "##### <center>by tanzhuxiaqiu@huawei.com</center>"
   ]
  },
  {
   "cell_type": "markdown",
   "metadata": {
    "slideshow": {
     "slide_type": "slide"
    }
   },
   "source": [
    "## 今日议程\n",
    "\n",
    "1. 映射和字典\n",
    "2. 散列表\n",
    "3. 集合"
   ]
  },
  {
   "cell_type": "markdown",
   "metadata": {
    "slideshow": {
     "slide_type": "slide"
    }
   },
   "source": [
    "## 映射和字典\n",
    "\n",
    "- 映射（Mapping）可以理解通过一个函数过程将两个（类）对象一一对应起来。\n",
    "- 字典（Dictionary）通常指可以实现映射功能的一种数据结构，Python中用dict关键字或‘{}’来表示，在其他语言中也被称作Map。\n",
    "\n"
   ]
  },
  {
   "cell_type": "markdown",
   "metadata": {
    "slideshow": {
     "slide_type": "slide"
    }
   },
   "source": [
    "### Python中的通用映射类型\n",
    "\n",
    "- collections.abc中提供了Mapping和MutableMapping，描述了dict和其衍生类的实现接口\n",
    "    - collections.defaultdict\n",
    "    - collections.OrderedDict\n",
    "    - collections.ChainMap\n",
    "    - collections.Counter\n",
    "    - collections.UserDict\n",
    "\n",
    "![](img/8-1.png)"
   ]
  },
  {
   "cell_type": "code",
   "execution_count": null,
   "metadata": {
    "slideshow": {
     "slide_type": "slide"
    }
   },
   "outputs": [],
   "source": [
    "from collections.abc import MutableMapping\n",
    "a = dict(a=1, b=2, c=3)\n",
    "b = {'a': 1, 'b': 2, 'c': 3}\n",
    "c = dict(zip(['a', 'b', 'c'], [1, 2, 3]))\n",
    "d = dict([('a', 1), ('b', 2), ('c', 3)])\n",
    "e = {k:v for v, k in enumerate(list('abc'), 1)}\n",
    "print(a == b == c == d == e)\n",
    "isinstance(d, MutableMapping)"
   ]
  },
  {
   "cell_type": "code",
   "execution_count": null,
   "metadata": {
    "slideshow": {
     "slide_type": "fragment"
    }
   },
   "outputs": [],
   "source": [
    "issubclass(dict, MutableMapping)"
   ]
  },
  {
   "cell_type": "code",
   "execution_count": null,
   "metadata": {
    "slideshow": {
     "slide_type": "slide"
    }
   },
   "outputs": [],
   "source": [
    "import this"
   ]
  },
  {
   "cell_type": "code",
   "execution_count": null,
   "metadata": {
    "slideshow": {
     "slide_type": "slide"
    }
   },
   "outputs": [],
   "source": [
    "import re\n",
    "import collections\n",
    "\n",
    "WORD_RE = re.compile(r'\\w+')\n",
    "\n",
    "# raise KeyError when using index = {}\n",
    "index = collections.defaultdict(list)\n",
    "with open('src/ch08/zen_of_python.txt', encoding='utf-8') as fp:\n",
    "    for line_no, line in enumerate(fp, 1):\n",
    "        for match in WORD_RE.finditer(line):\n",
    "            word = match.group()\n",
    "            column_no = match.start() + 1\n",
    "            location = (line_no, column_no)\n",
    "\n",
    "            index[word].append(location)\n",
    "\n",
    "for word in sorted(index, key=str.upper):\n",
    "    print(word, index[word])"
   ]
  },
  {
   "cell_type": "code",
   "execution_count": null,
   "metadata": {
    "slideshow": {
     "slide_type": "slide"
    }
   },
   "outputs": [],
   "source": [
    "words = re.findall(r'\\w+', open('src/ch08/zen_of_python.txt').read().lower())\n",
    "collections.Counter(words).most_common(10)"
   ]
  },
  {
   "cell_type": "code",
   "execution_count": null,
   "metadata": {
    "slideshow": {
     "slide_type": "slide"
    }
   },
   "outputs": [],
   "source": [
    "class LRU(collections.OrderedDict):\n",
    "    'Limit size, evicting the least recently looked-up key when full'\n",
    "\n",
    "    def __init__(self, maxsize=4, *args, **kwds):\n",
    "        self.maxsize = maxsize\n",
    "        super().__init__(*args, **kwds)\n",
    "\n",
    "    def __getitem__(self, key):\n",
    "        value = super().__getitem__(key)\n",
    "        self.move_to_end(key)\n",
    "        return value\n",
    "\n",
    "    def __setitem__(self, key, value):\n",
    "        super().__setitem__(key, value)\n",
    "        if len(self) > self.maxsize:\n",
    "            oldest = next(iter(self))\n",
    "            del self[oldest]\n",
    "\n",
    "lru = LRU()\n",
    "for v, k in enumerate(list('abcd')):\n",
    "    lru[k] = v\n",
    "print(lru)"
   ]
  },
  {
   "cell_type": "code",
   "execution_count": null,
   "metadata": {
    "scrolled": true,
    "slideshow": {
     "slide_type": "fragment"
    }
   },
   "outputs": [],
   "source": [
    "print(lru['a'])\n",
    "print(lru)"
   ]
  },
  {
   "cell_type": "code",
   "execution_count": null,
   "metadata": {
    "slideshow": {
     "slide_type": "fragment"
    }
   },
   "outputs": [],
   "source": [
    "lru['e'] = 4\n",
    "print(lru)"
   ]
  },
  {
   "cell_type": "code",
   "execution_count": null,
   "metadata": {
    "slideshow": {
     "slide_type": "slide"
    }
   },
   "outputs": [],
   "source": [
    "da = {k:v for v, k in enumerate(list('abcd'))}\n",
    "db = {k:v for v, k in enumerate(list('xyz'))}\n",
    "print(da)\n",
    "print(db)\n",
    "cm = collections.ChainMap(da, db)\n",
    "cm"
   ]
  },
  {
   "cell_type": "code",
   "execution_count": null,
   "metadata": {},
   "outputs": [],
   "source": [
    "print(cm['a'], cm['x'])\n",
    "db['x'] = 10\n",
    "cm"
   ]
  },
  {
   "cell_type": "code",
   "execution_count": null,
   "metadata": {},
   "outputs": [],
   "source": [
    "cm['a'] = 100\n",
    "cm"
   ]
  },
  {
   "cell_type": "code",
   "execution_count": null,
   "metadata": {
    "slideshow": {
     "slide_type": "slide"
    }
   },
   "outputs": [],
   "source": [
    "class WeakDict(dict):\n",
    "    def __setitem__(self, key, value):\n",
    "        super().__setitem__(key, value + value)\n",
    "        \n",
    "wd = WeakDict(a=1)\n",
    "wd"
   ]
  },
  {
   "cell_type": "code",
   "execution_count": null,
   "metadata": {
    "slideshow": {
     "slide_type": "fragment"
    }
   },
   "outputs": [],
   "source": [
    "wd['b'] = 2\n",
    "wd"
   ]
  },
  {
   "cell_type": "code",
   "execution_count": null,
   "metadata": {
    "slideshow": {
     "slide_type": "fragment"
    }
   },
   "outputs": [],
   "source": [
    "wd.update({'c': 3})\n",
    "wd"
   ]
  },
  {
   "cell_type": "code",
   "execution_count": null,
   "metadata": {
    "slideshow": {
     "slide_type": "fragment"
    }
   },
   "outputs": [],
   "source": [
    "class MyDict(collections.UserDict):\n",
    "    def __setitem__(self, key, value):\n",
    "        super().__setitem__(key, value + value)\n",
    "\n",
    "md = MyDict(a=1)\n",
    "md['b'] = 2\n",
    "md.update({'c': 3})\n",
    "md"
   ]
  },
  {
   "cell_type": "markdown",
   "metadata": {
    "slideshow": {
     "slide_type": "slide"
    }
   },
   "source": [
    "### Python中dict的映射方法\n",
    "\n",
    "![](img/8-2.png)"
   ]
  },
  {
   "cell_type": "markdown",
   "metadata": {
    "slideshow": {
     "slide_type": "slide"
    }
   },
   "source": [
    "### Immutable Mapping\n",
    "\n",
    "Python3.3的types包提供了一个MappingProxyType类型，可以对一个dict提供只读的封装"
   ]
  },
  {
   "cell_type": "code",
   "execution_count": null,
   "metadata": {
    "slideshow": {
     "slide_type": "fragment"
    }
   },
   "outputs": [],
   "source": [
    "from types import MappingProxyType\n",
    "d = {'A': 1}\n",
    "dp = MappingProxyType(d)\n",
    "dp"
   ]
  },
  {
   "cell_type": "code",
   "execution_count": null,
   "metadata": {
    "slideshow": {
     "slide_type": "fragment"
    }
   },
   "outputs": [],
   "source": [
    "dp['A']"
   ]
  },
  {
   "cell_type": "code",
   "execution_count": null,
   "metadata": {
    "slideshow": {
     "slide_type": "fragment"
    }
   },
   "outputs": [],
   "source": [
    "dp['B'] = 2"
   ]
  },
  {
   "cell_type": "code",
   "execution_count": null,
   "metadata": {
    "slideshow": {
     "slide_type": "fragment"
    }
   },
   "outputs": [],
   "source": [
    "d['B'] = 2\n",
    "dp"
   ]
  },
  {
   "cell_type": "markdown",
   "metadata": {
    "slideshow": {
     "slide_type": "slide"
    }
   },
   "source": [
    "## 散列表\n",
    "\n",
    "散列表（Hash Table）也称哈希表，可以看做是数组结构的扩展，支持按键值或关键字随机访问数据\n",
    "\n",
    "- 查找操作的时间复杂度为O(1)\n",
    "- 把关键字转换成数组索引的函数称为散列函数或哈希函数\n",
    "- \n",
    "\n",
    "![](img/8-3.jpg)"
   ]
  },
  {
   "cell_type": "markdown",
   "metadata": {
    "slideshow": {
     "slide_type": "slide"
    }
   },
   "source": [
    "### Python中的hash函数\n",
    "\n",
    "> An object is hashable if it has a hash value which never changes during its lifetime (it needs a __hash__() method), and can be compared to other objects (it needs an __eq__() method). Hashable objects which compare equal must have the same hash value.\n",
    "\n",
    "- 原子的immutable类型，如str，bytes，数字类型都是可以hash的\n",
    "- forzenset是可以hansh的，因为它包含的元素必须是可以hash的\n",
    "- tuple只有当包含的元素都是可hash的元素时，整个tuple才是可以hash的\n",
    "- 自定义的类型默认是可以hash的，其值和id()相关"
   ]
  },
  {
   "cell_type": "code",
   "execution_count": null,
   "metadata": {
    "slideshow": {
     "slide_type": "slide"
    }
   },
   "outputs": [],
   "source": [
    "tt = (1, 2, (30, 40))\n",
    "hash(tt)"
   ]
  },
  {
   "cell_type": "code",
   "execution_count": null,
   "metadata": {
    "slideshow": {
     "slide_type": "fragment"
    }
   },
   "outputs": [],
   "source": [
    "tl = (1, 2, [30, 40])\n",
    "hash(tl)"
   ]
  },
  {
   "cell_type": "code",
   "execution_count": null,
   "metadata": {
    "slideshow": {
     "slide_type": "fragment"
    }
   },
   "outputs": [],
   "source": [
    "tf = (1, 2, frozenset([30, 40]))\n",
    "hash(tf)"
   ]
  },
  {
   "cell_type": "markdown",
   "metadata": {
    "slideshow": {
     "slide_type": "slide"
    }
   },
   "source": [
    "### 散列冲突\n",
    "\n",
    "对不同的关键字可能得到同一散列地址，即 $k_{1}\\neq k_{2}$，而 $ hash(k_{1})=hash(k_{2})$，这种情况称为散列冲突或哈希冲突(hash collision)\n",
    "\n",
    "![](img/8-4.png)\n",
    "\n"
   ]
  },
  {
   "cell_type": "markdown",
   "metadata": {
    "slideshow": {
     "slide_type": "slide"
    }
   },
   "source": [
    "#### 解决冲突的方法：\n",
    "\n",
    "- 开放寻址法(Open Addressing)\n",
    "\n",
    "    - 线性探测(Linear probing)\n",
    "    \n",
    "    ![](img/8-5.png)\n",
    "    \n",
    "    - 二次探测(Quadratic probing)\n",
    "    \n",
    "    ![](img/8-6.png)"
   ]
  },
  {
   "cell_type": "markdown",
   "metadata": {
    "slideshow": {
     "slide_type": "subslide"
    }
   },
   "source": [
    "- 开放寻址法(Open Addressing)\n",
    "\n",
    "    - 双重散列(Double hashing)\n",
    "    \n",
    "    ![](img/8-7.png)\n",
    "    \n",
    "- 链表法(Separate Chaining)\n",
    "    \n",
    "    ![](img/8-8.png)"
   ]
  },
  {
   "cell_type": "markdown",
   "metadata": {
    "slideshow": {
     "slide_type": "slide"
    }
   },
   "source": [
    "### 如何设计散列表\n",
    "\n",
    "- 散列函数不仅要简单，而且其生成的值尽可能随机且均匀的分布\n",
    "    - [MurmurHash](https://github.com/aappleby/smhasher)\n",
    "    - Google [CityHash](https://github.com/google/cityhash) [FarmHash](https://github.com/google/farmhash)\n",
    "    - [CLHash](https://github.com/lemire/clhash)\n",
    "- 适时地进行动态的扩容和缩容，减少散列冲突的发生和高效利用内存空间\n",
    "    - 装载因子 = 填入表中的元素个数 / 散列表的长度\n",
    "- 设计高效的扩容策略，比如分批迁移数据到新的扩容空间\n",
    "- 选择合适的散列冲突解决方案：\n",
    "    - 开放寻址需要维持装载因子不能过高，适合数据量较小或者需要序列化的对象\n",
    "    - 链表法适合存储大对象和大数据量的情况，甚至可以将链表升级成更高级的数据结构\n"
   ]
  },
  {
   "cell_type": "markdown",
   "metadata": {
    "slideshow": {
     "slide_type": "slide"
    }
   },
   "source": [
    "### Python中dict的散列表\n",
    "\n",
    "#### dict所用散列表的一些特点\n",
    "\n",
    "- dict的散列表在结构上是一个稀疏数组(Sparse Array)，数组的每个单元(Cell)称为桶(Bucket)或槽(Slot)\n",
    "- 每个桶中存储的元素包括三个成员(hash, key, value)\n",
    "- Python的中的策略是维持至少1/3的桶是空的，如果散列表的值太多就会动态的分配新的空间，并将原表拷贝过来\n",
    "- 散列表中每个元素的分配位置都是通过内置的函数hash()来计算得到的\n",
    "- CPython遇到散列冲突时采用开放寻址的方式来定位空的插入位置，但是探测的公式较复杂可以理解为随机探测(Random probing)\n",
    " "
   ]
  },
  {
   "cell_type": "markdown",
   "metadata": {
    "slideshow": {
     "slide_type": "slide"
    }
   },
   "source": [
    "#### 使用dict的一些经验\n",
    "\n",
    "- dick的key必须是可以哈希的对象\n",
    "- dict的查询速度非常快，但相应的内存空间利用率低\n",
    "- dict的key顺序和插入的次序相关，而且增加key可能会改变现有的顺序*\n",
    "    - 所以当你遍历一个dict时，注意是否存在同时有并发的逻辑在修改dict\n",
    "- 在Python3中，d.keys(), d.items(), d.values()分别会返回相应的view，它们类似与set而且是随着dict的变化而动态更新的"
   ]
  },
  {
   "cell_type": "markdown",
   "metadata": {
    "slideshow": {
     "slide_type": "slide"
    }
   },
   "source": [
    "## 集合\n",
    "\n",
    "集合(Set)是一种无序且不重复的元素合集\n",
    "\n",
    "python中使用set和frozenset来表示数学上集合的概念：\n",
    "\n",
    "- 最基本的功能是去重\n",
    "- 因为底层也是用散列表所实现，所以要求每个元素都必须是可hash的\n",
    "- set本身不能被hash，但是frozenset可以hash"
   ]
  },
  {
   "cell_type": "code",
   "execution_count": null,
   "metadata": {
    "slideshow": {
     "slide_type": "slide"
    }
   },
   "outputs": [],
   "source": [
    "l = ['foo', 'bar', 'foo', 'baz']\n",
    "set(l)"
   ]
  },
  {
   "cell_type": "code",
   "execution_count": null,
   "metadata": {
    "slideshow": {
     "slide_type": "fragment"
    }
   },
   "outputs": [],
   "source": [
    "s = {1}\n",
    "type(s)"
   ]
  },
  {
   "cell_type": "code",
   "execution_count": null,
   "metadata": {
    "slideshow": {
     "slide_type": "fragment"
    }
   },
   "outputs": [],
   "source": [
    "hash(s)"
   ]
  },
  {
   "cell_type": "code",
   "execution_count": null,
   "metadata": {
    "slideshow": {
     "slide_type": "fragment"
    }
   },
   "outputs": [],
   "source": [
    "fs = frozenset(range(10))\n",
    "hash(fs)"
   ]
  },
  {
   "cell_type": "code",
   "execution_count": null,
   "metadata": {
    "slideshow": {
     "slide_type": "fragment"
    }
   },
   "outputs": [],
   "source": [
    "s = {x for x in range(3)} #setcomps\n",
    "s"
   ]
  },
  {
   "cell_type": "code",
   "execution_count": null,
   "metadata": {
    "slideshow": {
     "slide_type": "fragment"
    }
   },
   "outputs": [],
   "source": [
    "s.add(fs)\n",
    "s"
   ]
  },
  {
   "cell_type": "markdown",
   "metadata": {
    "slideshow": {
     "slide_type": "slide"
    }
   },
   "source": [
    "### Set的抽象类\n",
    "\n",
    "![](img/8-9.png)"
   ]
  },
  {
   "cell_type": "markdown",
   "metadata": {
    "slideshow": {
     "slide_type": "slide"
    }
   },
   "source": [
    "### Set的基本操作\n",
    "\n",
    "#### 数学操作符\n",
    "\n",
    "![](img/8-10.png)"
   ]
  },
  {
   "cell_type": "markdown",
   "metadata": {
    "slideshow": {
     "slide_type": "subslide"
    }
   },
   "source": [
    "![](img/8-11.png)"
   ]
  },
  {
   "cell_type": "markdown",
   "metadata": {
    "slideshow": {
     "slide_type": "slide"
    }
   },
   "source": [
    "#### Set和Frozenset的方法\n",
    "\n",
    "![](img/8-12.png)"
   ]
  },
  {
   "cell_type": "markdown",
   "metadata": {
    "slideshow": {
     "slide_type": "slide"
    }
   },
   "source": [
    "# Any Questions?"
   ]
  },
  {
   "cell_type": "markdown",
   "metadata": {
    "slideshow": {
     "slide_type": "slide"
    }
   },
   "source": [
    "## 课后作业 Assignment-06\n",
    "\n",
    "1) 给出两个字符串s和t，判断这两个字符串是否采用相似的拼写模式。具体见下面的例子：\n",
    "\n",
    ">Example 1:  \n",
    "Input: s = \"add\", t = \"tee\"  \n",
    "Output: true\n",
    "\n",
    ">Example 2:  \n",
    "Input: s = \"man\", t = \"mom\"  \n",
    "Output: false\n",
    "\n",
    ">Example 3:  \n",
    "Input: s = \"paper\", t = \"title\"  \n",
    "Output: true\n",
    "\n",
    "注：两个字符串s和t是等长的。"
   ]
  },
  {
   "cell_type": "markdown",
   "metadata": {
    "slideshow": {
     "slide_type": "slide"
    }
   },
   "source": []
  }
 ],
 "metadata": {
  "celltoolbar": "Slideshow",
  "kernelspec": {
   "display_name": "Python 3",
   "language": "python",
   "name": "python3"
  },
  "language_info": {
   "codemirror_mode": {
    "name": "ipython",
    "version": 3
   },
   "file_extension": ".py",
   "mimetype": "text/x-python",
   "name": "python",
   "nbconvert_exporter": "python",
   "pygments_lexer": "ipython3",
   "version": "3.6.5"
  }
 },
 "nbformat": 4,
 "nbformat_minor": 2
}
