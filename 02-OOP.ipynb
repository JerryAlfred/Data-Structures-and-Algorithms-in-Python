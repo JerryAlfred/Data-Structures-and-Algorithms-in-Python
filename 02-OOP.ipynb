{
 "cells": [
  {
   "cell_type": "code",
   "execution_count": 30,
   "metadata": {
    "scrolled": true,
    "slideshow": {
     "slide_type": "slide"
    }
   },
   "outputs": [],
   "source": [
    "class CreditCard:\n",
    "    \"\"\"A consumer credit card.\"\"\"\n",
    "    \n",
    "    def __init__(self, customer, bank, acnt, limit):\n",
    "        \"\"\"Create a new credit card instance.\n",
    "        \n",
    "        The initial balance is zero.\n",
    "        \n",
    "        customer the name of the customer (e.g. Sean Tan)\n",
    "        bank     the name of the bank (e.g. ICBC)\n",
    "        acnt     the account identifier (e.g. 6200 0375 9983 1024)\n",
    "        limit    credit limit (measured in RMB)\n",
    "        \"\"\"\n",
    "        self._customer = customer\n",
    "        self._bank = bank\n",
    "        self._account = acnt\n",
    "        self._limit = limit\n",
    "        self._balance = 0\n",
    "        \n",
    "    def get_customer(self):\n",
    "        \"\"\"Return name of the customer.\"\"\"\n",
    "        return self._customer\n",
    "    \n",
    "    def get_bank(self):\n",
    "        \"\"\"Return the bank's name.\"\"\"\n",
    "        return self._bank\n",
    "    \n",
    "    def get_account(self):\n",
    "        \"\"\"Return the card identifying number(typically stored as a string).\"\"\"\n",
    "        return self._account\n",
    "    \n",
    "    def get_limit(self):\n",
    "        \"\"\"Return current credit limit.\"\"\"\n",
    "        return self._limit\n",
    "    \n",
    "    def get_balance(self):\n",
    "        \"\"\"Return current balance.\"\"\"\n",
    "        return self._balance\n",
    "    \n",
    "    def charge(self, price):\n",
    "        \"\"\"Charge given price to the card, assuming sufficient credit limit.\n",
    "        \n",
    "        Return True if charge was processed; False if charge was denied.\n",
    "        \"\"\"\n",
    "        if price + self._balance > self._limit:\n",
    "            return False\n",
    "        self._balance += price\n",
    "        return True\n",
    "    \n",
    "    def make_payment(self, amount):\n",
    "        \"\"\"Process customer payment that reduces balance.\"\"\"\n",
    "        self._balance -= amount"
   ]
  },
  {
   "cell_type": "code",
   "execution_count": 29,
   "metadata": {
    "slideshow": {
     "slide_type": "subslide"
    }
   },
   "outputs": [
    {
     "name": "stdout",
     "output_type": "stream",
     "text": [
      "Customer: Sean Tan, Bank: ICBC, Limit: 10000\n",
      "Balance: 136\n",
      "New balance:  36\n",
      "\n",
      "Customer: Sean Tan, Bank: CMB, Limit: 20000\n",
      "Balance: 272\n",
      "New balance:  172\n",
      "New balance:  72\n",
      "\n",
      "Customer: Sean Tan, Bank: HKSC, Limit: 5000\n",
      "Balance: 408\n",
      "New balance:  308\n",
      "New balance:  208\n",
      "New balance:  108\n",
      "New balance:  8\n",
      "\n"
     ]
    }
   ],
   "source": [
    "wallet = []\n",
    "wallet.append(CreditCard('Sean Tan', 'ICBC', '6200 0375 9983 1024', 10000))\n",
    "wallet.append(CreditCard('Sean Tan', 'CMB', '6200 0375 9983 1024', 20000))\n",
    "wallet.append(CreditCard('Sean Tan', 'HKSC', '6200 0375 9983 1024', 5000))\n",
    "\n",
    "for val in range(1, 17):\n",
    "    wallet[0].charge(val)\n",
    "    wallet[1].charge(val*2)\n",
    "    wallet[2].charge(val*3)\n",
    "    \n",
    "for c in range(3):\n",
    "    print(\"Customer: %s, Bank: %s, Limit: %d\\nBalance: %d\" % (wallet[c].get_customer(), wallet[c].get_bank(), wallet[c].get_limit(), wallet[c].get_balance()))\n",
    "    while wallet[c].get_balance() > 100:\n",
    "        wallet[c].make_payment(100)\n",
    "        print(\"New balance: \", wallet[c].get_balance())\n",
    "    print()"
   ]
  },
  {
   "cell_type": "code",
   "execution_count": null,
   "metadata": {},
   "outputs": [],
   "source": []
  },
  {
   "cell_type": "code",
   "execution_count": null,
   "metadata": {},
   "outputs": [],
   "source": []
  }
 ],
 "metadata": {
  "celltoolbar": "Slideshow",
  "kernelspec": {
   "display_name": "Python 3",
   "language": "python",
   "name": "python3"
  },
  "language_info": {
   "codemirror_mode": {
    "name": "ipython",
    "version": 3
   },
   "file_extension": ".py",
   "mimetype": "text/x-python",
   "name": "python",
   "nbconvert_exporter": "python",
   "pygments_lexer": "ipython3",
   "version": "3.6.5"
  }
 },
 "nbformat": 4,
 "nbformat_minor": 2
}
