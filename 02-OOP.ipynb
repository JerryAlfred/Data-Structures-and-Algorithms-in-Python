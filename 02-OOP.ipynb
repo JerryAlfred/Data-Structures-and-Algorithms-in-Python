{
 "cells": [
  {
   "cell_type": "markdown",
   "metadata": {
    "slideshow": {
     "slide_type": "slide"
    }
   },
   "source": [
    "### <center>2018 Winter CS101.02</center>\n",
    "\n",
    "# <center>面向对象编程</center>\n",
    "\n",
    "##### <center>by tanzhuxiaqiu@huawei.com</center>"
   ]
  },
  {
   "cell_type": "markdown",
   "metadata": {
    "slideshow": {
     "slide_type": "slide"
    }
   },
   "source": [
    "## 目标、原则和模式\n",
    "\n",
    "- 每个对象(object)都是类(class)的实例(instance)\n",
    "- 类的定义包含了变量(variable)和方法(methods)，又称为数据成员(data member)或成员函数(member function)"
   ]
  },
  {
   "cell_type": "markdown",
   "metadata": {
    "slideshow": {
     "slide_type": "slide"
    }
   },
   "source": [
    "### 面向对象的设计目标\n",
    "\n",
    "- 健壮性(robustness)\n",
    "- 适应性(adapatability)\n",
    "- 可重用性(resuability)"
   ]
  },
  {
   "cell_type": "markdown",
   "metadata": {
    "slideshow": {
     "slide_type": "slide"
    }
   },
   "source": [
    "### 面向对象的设计原则\n",
    "\n",
    "- 模块化(Modularity)\n",
    "- 抽象化(Abstraction)\n",
    "    - 抽象数据类型(ADT, Abstract Data Types)\n",
    "    - 抽象基类(ABC, Abstract Base Class)\n",
    "- 封装(Encapsulation)"
   ]
  },
  {
   "cell_type": "code",
   "execution_count": 1,
   "metadata": {
    "slideshow": {
     "slide_type": "fragment"
    }
   },
   "outputs": [
    {
     "data": {
      "text/plain": [
       "True"
      ]
     },
     "execution_count": 1,
     "metadata": {},
     "output_type": "execute_result"
    }
   ],
   "source": [
    "from collections import abc\n",
    "d = dict()\n",
    "isinstance(d, abc.Mapping)"
   ]
  },
  {
   "cell_type": "markdown",
   "metadata": {
    "slideshow": {
     "slide_type": "slide"
    }
   },
   "source": [
    "### 设计模式\n",
    "\n",
    "- 算法设计模式\n",
    "    - Recursion\n",
    "    - Amortization\n",
    "    - Divide-and-conquer\n",
    "    - Dynamic programming\n",
    "    - Greed method\n",
    "- 软件工程设计模式\n",
    "    - Iterator\n",
    "    - Adaptor\n",
    "    - Position\n",
    "    - Composition\n",
    "    - Template method\n",
    "    - Locator\n",
    "    - Factory method"
   ]
  },
  {
   "cell_type": "markdown",
   "metadata": {
    "slideshow": {
     "slide_type": "slide"
    }
   },
   "source": [
    "## 软件开发\n",
    "\n",
    "1. 设计\n",
    "2. 实现\n",
    "3. 测试和调试"
   ]
  },
  {
   "cell_type": "markdown",
   "metadata": {
    "slideshow": {
     "slide_type": "slide"
    }
   },
   "source": [
    "### 设计\n",
    "\n",
    "- 责任(Responsibility)\n",
    "- 独立(Independence)\n",
    "- 行为(Behavior)"
   ]
  },
  {
   "cell_type": "markdown",
   "metadata": {
    "slideshow": {
     "slide_type": "slide"
    }
   },
   "source": [
    "### 编码风格和文档\n",
    "\n",
    "- [PEP8](https://www.python.org/dev/peps/pep-0008/)\n",
    "- docstring"
   ]
  },
  {
   "cell_type": "markdown",
   "metadata": {
    "slideshow": {
     "slide_type": "slide"
    }
   },
   "source": [
    "### 测试和调试\n",
    "\n",
    "- 自动化测试\n",
    "    - unittest\n",
    "- 调试\n",
    "    - print statement\n",
    "    - debugger"
   ]
  },
  {
   "cell_type": "markdown",
   "metadata": {
    "slideshow": {
     "slide_type": "slide"
    }
   },
   "source": [
    "## 类定义\n",
    "\n",
    "- Unified Modeling Language\n",
    "- 信用卡类UML图\n",
    "![](./img/2-1.svg)"
   ]
  },
  {
   "cell_type": "markdown",
   "metadata": {
    "slideshow": {
     "slide_type": "fragment"
    }
   },
   "source": [
    "- 信用卡类代码实例\n",
    "    - self标识符\n",
    "    - 构造函数\n",
    "    - 封装\n",
    "    - 附加方法\n",
    "    - 测试"
   ]
  },
  {
   "cell_type": "code",
   "execution_count": 2,
   "metadata": {
    "scrolled": true,
    "slideshow": {
     "slide_type": "slide"
    }
   },
   "outputs": [],
   "source": [
    "class CreditCard:\n",
    "    \"\"\"A consumer credit card.\"\"\"\n",
    "    \n",
    "    def __init__(self, customer, bank, acnt, limit):\n",
    "        \"\"\"Create a new credit card instance.\n",
    "        \n",
    "        The initial balance is zero.\n",
    "        \n",
    "        customer the name of the customer (e.g. Sean Tan)\n",
    "        bank     the name of the bank (e.g. ICBC)\n",
    "        acnt     the account identifier (e.g. 6200 0375 9983 1024)\n",
    "        limit    credit limit (measured in RMB)\n",
    "        \"\"\"\n",
    "        self._customer = customer\n",
    "        self._bank = bank\n",
    "        self._account = acnt\n",
    "        self._limit = limit\n",
    "        self._balance = 0\n",
    "        \n",
    "    def get_customer(self):\n",
    "        \"\"\"Return name of the customer.\"\"\"\n",
    "        return self._customer\n",
    "    \n",
    "    def get_bank(self):\n",
    "        \"\"\"Return the bank's name.\"\"\"\n",
    "        return self._bank\n",
    "    \n",
    "    def get_account(self):\n",
    "        \"\"\"Return the card identifying number(typically stored as a string).\"\"\"\n",
    "        return self._account\n",
    "    \n",
    "    def get_limit(self):\n",
    "        \"\"\"Return current credit limit.\"\"\"\n",
    "        return self._limit\n",
    "    \n",
    "    def get_balance(self):\n",
    "        \"\"\"Return current balance.\"\"\"\n",
    "        return self._balance\n",
    "    \n",
    "    def charge(self, price):\n",
    "        \"\"\"Charge given price to the card, assuming sufficient credit limit.\n",
    "        \n",
    "        Return True if charge was processed; False if charge was denied.\n",
    "        \"\"\"\n",
    "        if price + self._balance > self._limit:\n",
    "            return False\n",
    "        self._balance += price\n",
    "        return True\n",
    "    \n",
    "    def make_payment(self, amount):\n",
    "        \"\"\"Process customer payment that reduces balance.\"\"\"\n",
    "        self._balance -= amount"
   ]
  },
  {
   "cell_type": "code",
   "execution_count": null,
   "metadata": {
    "slideshow": {
     "slide_type": "subslide"
    }
   },
   "outputs": [],
   "source": [
    "wallet = []\n",
    "wallet.append(CreditCard('Sean Tan', 'ICBC', '6200 0375 9983 1024', 10000))\n",
    "wallet.append(CreditCard('Sean Tan', 'CMB', '6200 0375 9983 1024', 20000))\n",
    "wallet.append(CreditCard('Sean Tan', 'HKSC', '6200 0375 9983 1024', 5000))\n",
    "\n",
    "for val in range(1, 17):\n",
    "    wallet[0].charge(val)\n",
    "    wallet[1].charge(val*2)\n",
    "    wallet[2].charge(val*3)\n",
    "    \n",
    "for c in range(3):\n",
    "    print(\"Customer: %s, Bank: %s, Limit: %d\\nBalance: %d\" % (wallet[c].get_customer(), wallet[c].get_bank(), wallet[c].get_limit(), wallet[c].get_balance()))\n",
    "    while wallet[c].get_balance() > 100:\n",
    "        wallet[c].make_payment(100)\n",
    "        print(\"New balance: \", wallet[c].get_balance())\n",
    "    print()"
   ]
  },
  {
   "cell_type": "code",
   "execution_count": 4,
   "metadata": {},
   "outputs": [],
   "source": [
    "CreditCard?"
   ]
  },
  {
   "cell_type": "code",
   "execution_count": null,
   "metadata": {},
   "outputs": [],
   "source": []
  }
 ],
 "metadata": {
  "celltoolbar": "Slideshow",
  "kernelspec": {
   "display_name": "Python 3",
   "language": "python",
   "name": "python3"
  },
  "language_info": {
   "codemirror_mode": {
    "name": "ipython",
    "version": 3
   },
   "file_extension": ".py",
   "mimetype": "text/x-python",
   "name": "python",
   "nbconvert_exporter": "python",
   "pygments_lexer": "ipython3",
   "version": "3.6.5"
  }
 },
 "nbformat": 4,
 "nbformat_minor": 2
}
