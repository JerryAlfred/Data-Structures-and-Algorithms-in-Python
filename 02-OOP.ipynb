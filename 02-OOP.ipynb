{
 "cells": [
  {
   "cell_type": "markdown",
   "metadata": {
    "slideshow": {
     "slide_type": "slide"
    }
   },
   "source": [
    "### <center>2018 Winter CS101.02</center>\n",
    "\n",
    "# <center>面向对象编程</center>\n",
    "\n",
    "##### <center>by tanzhuxiaqiu@huawei.com</center>"
   ]
  },
  {
   "cell_type": "markdown",
   "metadata": {
    "slideshow": {
     "slide_type": "slide"
    }
   },
   "source": [
    "## 今日议程\n",
    "\n",
    "1. 目标、原则和模式\n",
    "2. 软件开发\n",
    "3. 类定义\n",
    "4. 继承\n",
    "5. 面向对象的命名空间\n",
    "6. 深拷贝和浅拷贝"
   ]
  },
  {
   "cell_type": "markdown",
   "metadata": {
    "slideshow": {
     "slide_type": "slide"
    }
   },
   "source": [
    "## 目标、原则和模式\n",
    "\n",
    "- 每个对象(object)都是类(class)的实例(instance)\n",
    "- 类的定义包含了变量(variable)和方法(methods)，又称为数据成员(data member)或成员函数(member function)"
   ]
  },
  {
   "cell_type": "markdown",
   "metadata": {
    "slideshow": {
     "slide_type": "slide"
    }
   },
   "source": [
    "### 面向对象的设计目标\n",
    "\n",
    "- 健壮性(Robustness)\n",
    "- 适应性(Adapatability)\n",
    "- 可重用性(Resuability)"
   ]
  },
  {
   "cell_type": "markdown",
   "metadata": {
    "slideshow": {
     "slide_type": "slide"
    }
   },
   "source": [
    "### 面向对象的设计原则\n",
    "\n",
    "- 模块化(Modularity)\n",
    "- 抽象化(Abstraction)\n",
    "    - 抽象数据类型(ADT, Abstract Data Types)\n",
    "    - 抽象基类(ABC, Abstract Base Class)\n",
    "- 封装(Encapsulation)"
   ]
  },
  {
   "cell_type": "markdown",
   "metadata": {
    "slideshow": {
     "slide_type": "slide"
    }
   },
   "source": [
    "### 设计模式\n",
    "\n",
    "- 算法设计模式\n",
    "    - Recursion\n",
    "    - Amortization\n",
    "    - Divide-and-conquer\n",
    "    - Dynamic programming\n",
    "    - Greed method\n",
    "- 软件工程设计模式\n",
    "    - Iterator\n",
    "    - Adaptor\n",
    "    - Position\n",
    "    - Composition\n",
    "    - Template method\n",
    "    - Locator\n",
    "    - Factory method"
   ]
  },
  {
   "cell_type": "markdown",
   "metadata": {
    "slideshow": {
     "slide_type": "slide"
    }
   },
   "source": [
    "## 软件开发\n",
    "\n",
    "1. 设计\n",
    "2. 实现\n",
    "3. 测试和调试"
   ]
  },
  {
   "cell_type": "markdown",
   "metadata": {
    "slideshow": {
     "slide_type": "slide"
    }
   },
   "source": [
    "### 设计\n",
    "\n",
    "- 责任(Responsibility)\n",
    "- 独立(Independence)\n",
    "- 行为(Behavior)"
   ]
  },
  {
   "cell_type": "markdown",
   "metadata": {
    "slideshow": {
     "slide_type": "slide"
    }
   },
   "source": [
    "### 编码风格和文档\n",
    "\n",
    "- [PEP8](https://www.python.org/dev/peps/pep-0008/)\n",
    "- docstring"
   ]
  },
  {
   "cell_type": "markdown",
   "metadata": {
    "slideshow": {
     "slide_type": "slide"
    }
   },
   "source": [
    "### 测试和调试\n",
    "\n",
    "- 自动化测试\n",
    "    - 单元测试\n",
    "    - 集成测试\n",
    "    - 系统测试\n",
    "    - 功能测试\n",
    "    - 性能测试\n",
    "    - ...\n",
    "- 调试\n",
    "    - print statement\n",
    "    - debugger"
   ]
  },
  {
   "cell_type": "markdown",
   "metadata": {
    "slideshow": {
     "slide_type": "slide"
    }
   },
   "source": [
    "## 类定义\n",
    "\n",
    "- Unified Modeling Language\n",
    "- 信用卡类UML图\n",
    "![](./img/2-1.svg)"
   ]
  },
  {
   "cell_type": "markdown",
   "metadata": {
    "slideshow": {
     "slide_type": "fragment"
    }
   },
   "source": [
    "- 信用卡类代码实例\n",
    "    - self标识符\n",
    "    - 构造函数\n",
    "    - 封装\n",
    "    - 附加方法\n",
    "    - 测试"
   ]
  },
  {
   "cell_type": "code",
   "execution_count": 1,
   "metadata": {
    "scrolled": true,
    "slideshow": {
     "slide_type": "slide"
    }
   },
   "outputs": [],
   "source": [
    "class CreditCard:\n",
    "    \"\"\"A consumer credit card.\"\"\"\n",
    "    \n",
    "    def __init__(self, customer, bank, acnt, limit):\n",
    "        \"\"\"Create a new credit card instance.\n",
    "        \n",
    "        The initial balance is zero.\n",
    "        \n",
    "        customer the name of the customer (e.g. Sean Tan)\n",
    "        bank     the name of the bank (e.g. ICBC)\n",
    "        acnt     the account identifier (e.g. 6200 0375 9983 1024)\n",
    "        limit    credit limit (measured in RMB)\n",
    "        \"\"\"\n",
    "        self._customer = customer\n",
    "        self._bank = bank\n",
    "        self._account = acnt\n",
    "        self._limit = limit\n",
    "        self._balance = 0\n",
    "        \n",
    "    def get_customer(self):\n",
    "        \"\"\"Return name of the customer.\"\"\"\n",
    "        return self._customer\n",
    "    \n",
    "    def get_bank(self):\n",
    "        \"\"\"Return the bank's name.\"\"\"\n",
    "        return self._bank\n",
    "    \n",
    "    def get_account(self):\n",
    "        \"\"\"Return the card identifying number(typically stored as a string).\"\"\"\n",
    "        return self._account\n",
    "    \n",
    "    def get_limit(self):\n",
    "        \"\"\"Return current credit limit.\"\"\"\n",
    "        return self._limit\n",
    "    \n",
    "    def get_balance(self):\n",
    "        \"\"\"Return current balance.\"\"\"\n",
    "        return self._balance\n",
    "    \n",
    "    def charge(self, price):\n",
    "        \"\"\"Charge given price to the card, assuming sufficient credit limit.\n",
    "        \n",
    "        Return True if charge was processed; False if charge was denied.\n",
    "        \"\"\"\n",
    "        if price + self._balance > self._limit:\n",
    "            return False\n",
    "        self._balance  += price\n",
    "        return True\n",
    "    \n",
    "    def make_payment(self, amount):\n",
    "        \"\"\"Process customer payment that reduces balance.\"\"\"\n",
    "        self._balance -= amount "
   ]
  },
  {
   "cell_type": "code",
   "execution_count": 2,
   "metadata": {
    "slideshow": {
     "slide_type": "subslide"
    }
   },
   "outputs": [
    {
     "name": "stdout",
     "output_type": "stream",
     "text": [
      "Customer: Sean Tan, Bank: ICBC, Limit: 10000\n",
      "Balance: 136\n",
      "New balance:  36\n",
      "\n",
      "Customer: Sean Tan, Bank: CMB, Limit: 20000\n",
      "Balance: 272\n",
      "New balance:  172\n",
      "New balance:  72\n",
      "\n",
      "Customer: Sean Tan, Bank: HKSC, Limit: 5000\n",
      "Balance: 408\n",
      "New balance:  308\n",
      "New balance:  208\n",
      "New balance:  108\n",
      "New balance:  8\n",
      "\n"
     ]
    }
   ],
   "source": [
    "wallet = []\n",
    "wallet.append(CreditCard('Sean Tan', 'ICBC', '6200 0375 9983 1024', 10000))\n",
    "wallet.append(CreditCard('Sean Tan', 'CMB', '6200 0375 9983 1024', 20000))\n",
    "wallet.append(CreditCard('Sean Tan', 'HKSC', '6200 0375 9983 1024', 5000))\n",
    "\n",
    "for val in range(1, 17):\n",
    "    wallet[0].charge(val)\n",
    "    wallet[1].charge(val*2)\n",
    "    wallet[2].charge(val*3)\n",
    "    \n",
    "for c in range(3):\n",
    "    print(\"Customer: %s, Bank: %s, Limit: %d\\nBalance: %d\" % (wallet[c].get_customer(), wallet[c].get_bank(), wallet[c].get_limit(), wallet[c].get_balance()))\n",
    "    while wallet[c].get_balance() > 100:\n",
    "        wallet[c].make_payment(100)\n",
    "        print(\"New balance: \", wallet[c].get_balance())\n",
    "    print()"
   ]
  },
  {
   "cell_type": "markdown",
   "metadata": {
    "slideshow": {
     "slide_type": "slide"
    }
   },
   "source": [
    "### 重载和魔法方法\n",
    "\n",
    "- 运算符重载\n",
    "    - \\_\\_add\\_\\_, \\_\\_sub\\_\\_, \\_\\_mul\\_\\_, \\_\\_truediv\\_\\_, \\_\\_floordiv\\_\\_...\n",
    "- 非运算符重载\n",
    "    - \\_\\_contains\\_\\_, \\_\\_getitem\\_\\_, \\_\\_hash\\_\\_, \\_\\_iter\\_\\_..."
   ]
  },
  {
   "cell_type": "markdown",
   "metadata": {
    "slideshow": {
     "slide_type": "slide"
    }
   },
   "source": [
    "### 迭代器\n",
    "\n",
    "- Iterator：拥有一个名为 ** \\_\\_next\\_\\_ ** 的魔法方法，如果集合存在下一个元素则返回该元素，否则抛出一个StopIteration的异常\n",
    "- 可以利用生成器语法生成一个迭代器"
   ]
  },
  {
   "cell_type": "code",
   "execution_count": 3,
   "metadata": {
    "slideshow": {
     "slide_type": "fragment"
    }
   },
   "outputs": [
    {
     "name": "stdout",
     "output_type": "stream",
     "text": [
      "0\n",
      "1\n",
      "2\n"
     ]
    },
    {
     "ename": "StopIteration",
     "evalue": "",
     "output_type": "error",
     "traceback": [
      "\u001b[1;31m---------------------------------------------------------------------------\u001b[0m",
      "\u001b[1;31mStopIteration\u001b[0m                             Traceback (most recent call last)",
      "\u001b[1;32m<ipython-input-3-ab867e0d5834>\u001b[0m in \u001b[0;36m<module>\u001b[1;34m()\u001b[0m\n\u001b[0;32m      3\u001b[0m \u001b[0mprint\u001b[0m\u001b[1;33m(\u001b[0m\u001b[0mnext\u001b[0m\u001b[1;33m(\u001b[0m\u001b[0mit\u001b[0m\u001b[1;33m)\u001b[0m\u001b[1;33m)\u001b[0m\u001b[1;33m\u001b[0m\u001b[0m\n\u001b[0;32m      4\u001b[0m \u001b[0mprint\u001b[0m\u001b[1;33m(\u001b[0m\u001b[0mnext\u001b[0m\u001b[1;33m(\u001b[0m\u001b[0mit\u001b[0m\u001b[1;33m)\u001b[0m\u001b[1;33m)\u001b[0m\u001b[1;33m\u001b[0m\u001b[0m\n\u001b[1;32m----> 5\u001b[1;33m \u001b[0mprint\u001b[0m\u001b[1;33m(\u001b[0m\u001b[0mnext\u001b[0m\u001b[1;33m(\u001b[0m\u001b[0mit\u001b[0m\u001b[1;33m)\u001b[0m\u001b[1;33m)\u001b[0m\u001b[1;33m\u001b[0m\u001b[0m\n\u001b[0m",
      "\u001b[1;31mStopIteration\u001b[0m: "
     ]
    }
   ],
   "source": [
    "it = ( x for x in range(3))\n",
    "print(next(it))\n",
    "print(next(it))\n",
    "print(next(it))\n",
    "print(next(it))"
   ]
  },
  {
   "cell_type": "markdown",
   "metadata": {
    "slideshow": {
     "slide_type": "fragment"
    }
   },
   "source": [
    "- 使用**iter**关键字\n",
    "- 自定义类可以重载\\_\\_next\\_\\_和\\_\\_iter\\_\\_魔法方法"
   ]
  },
  {
   "cell_type": "code",
   "execution_count": 4,
   "metadata": {
    "slideshow": {
     "slide_type": "subslide"
    }
   },
   "outputs": [
    {
     "name": "stdout",
     "output_type": "stream",
     "text": [
      "0\n",
      "1\n",
      "2\n",
      "3\n",
      "4\n",
      "5\n",
      "6\n",
      "7\n",
      "8\n",
      "9\n"
     ]
    }
   ],
   "source": [
    "class SequenceIterator:\n",
    "    \"\"\"An iterator for any Python sequence types.\"\"\"\n",
    "\n",
    "    def __init__(self, sequence):\n",
    "        \"\"\"Create an iterator for the given sequence.\"\"\"\n",
    "        self._seq = sequence\n",
    "        self._k = -1\n",
    "\n",
    "    def __next__(self):\n",
    "        \"\"\"Return the next element, or else raise StopIteration error.\"\"\"\n",
    "        self._k += 1\n",
    "        if self._k < len(self._seq):\n",
    "            return self._seq[self._k]\n",
    "        else:\n",
    "            raise StopIteration()\n",
    "\n",
    "    def __iter__(self):\n",
    "        \"\"\"By convention, an iterator must return itself as an iterator.\"\"\"\n",
    "        return self\n",
    "\n",
    "\n",
    "if __name__ == \"__main__\":\n",
    "    si = SequenceIterator([ x for x in range(10)])\n",
    "    print(next(si))\n",
    "    for i in si:\n",
    "        print(i)"
   ]
  },
  {
   "cell_type": "markdown",
   "metadata": {
    "slideshow": {
     "slide_type": "slide"
    }
   },
   "source": [
    "## 继承\n",
    "\n",
    "- 模块化(Modularity)和层次化(Hierarchical): 上层组件更加通用，下层组件更加具体\n",
    "    - \"is-a\"关系\n",
    "- 继承(Inheritance)\n",
    "    - 基类(base class)/父类(parent class)/超类(super class)\n",
    "    - 子类(subclass/child class)\n",
    "    - 重写(override)/扩展(extend)"
   ]
  },
  {
   "cell_type": "markdown",
   "metadata": {
    "slideshow": {
     "slide_type": "subslide"
    }
   },
   "source": [
    "![](./img/2-3.svg)"
   ]
  },
  {
   "cell_type": "markdown",
   "metadata": {
    "slideshow": {
     "slide_type": "fragment"
    }
   },
   "source": [
    "![](./img/2-4.svg)"
   ]
  },
  {
   "cell_type": "markdown",
   "metadata": {
    "slideshow": {
     "slide_type": "slide"
    }
   },
   "source": [
    "### 扩展CreditCard类\n",
    "\n",
    "- 如果刷卡时出现超额度的消费，扣除5元的手续费\n",
    "- 每月检查还款情况，如果有未还清的额度，收取相应的利息，利率通过构造函数的APR(Annual Percentage Rate)参数来指定"
   ]
  },
  {
   "cell_type": "markdown",
   "metadata": {
    "slideshow": {
     "slide_type": "fragment"
    }
   },
   "source": [
    "![](./img/2-2.svg)"
   ]
  },
  {
   "cell_type": "code",
   "execution_count": 5,
   "metadata": {
    "slideshow": {
     "slide_type": "subslide"
    }
   },
   "outputs": [],
   "source": [
    "class PredatoryCreditCard(CreditCard):\n",
    "    \"\"\"An extension to CreditCard that compounds interest and fees.\n",
    "    \"\"\"\n",
    "\n",
    "    def __init__( , customer, bank, acnt, limit, apr):\n",
    "        \"\"\"Create a new predatory credit card instance.\n",
    "        \n",
    "        The initial balance is zero.\n",
    "        \n",
    "        customer the name of the customer (e.g. Sean Tan)\n",
    "        bank     the name of the bank (e.g. ICBC)\n",
    "        acnt     the account identifier (e.g. 6200 0375 9983 1024)\n",
    "        limit    credit limit (measured in RMB)\n",
    "        apr      annual precentage rate (e.g. 0.0825 for 8.25% APR)\n",
    "        \"\"\"\n",
    "        super().__init__(customer, bank, acnt, limit)\n",
    "        self._apr = apr\n",
    "\n",
    "    def charge(self, price):\n",
    "        \"\"\"Charge given price to the card, assuming sufficient credit limit.\n",
    "\n",
    "        Return Ture if charge was processed.\n",
    "        Return False and assess 5 yuan if charge id denied.\n",
    "        \"\"\"\n",
    "        success = super().charge(price)\n",
    "        if not success:\n",
    "            self._balance += 5\n",
    "        return success\n",
    "\n",
    "    def process_month(self):\n",
    "        \"\"\"Assess monthly interest on outstanding balance.\n",
    "        \"\"\"\n",
    "        if self._balance > 0:\n",
    "            monthly_factor = pow(1 + self._apr, 1/12)\n",
    "            self._balance *= monthly_factor"
   ]
  },
  {
   "cell_type": "markdown",
   "metadata": {
    "slideshow": {
     "slide_type": "slide"
    }
   },
   "source": [
    "## 面向对象的命名空间\n",
    "\n",
    "### 命名空间\n",
    "\n",
    "- 实例命名空间\n",
    "- 类命名空间"
   ]
  },
  {
   "cell_type": "markdown",
   "metadata": {
    "slideshow": {
     "slide_type": "fragment"
    }
   },
   "source": [
    "![](./img/2-5.svg)"
   ]
  },
  {
   "cell_type": "markdown",
   "metadata": {
    "slideshow": {
     "slide_type": "slide"
    }
   },
   "source": [
    "#### 类数据成员\n",
    "\n",
    "```python\n",
    "class PredatoryCreditCard(CreditCard):\n",
    "    OVERLIMIT_FEE = 5 # this is a class-level member\n",
    "    \n",
    "    def charge(self, price):\n",
    "        success = super().charge(price)\n",
    "        if not success:\n",
    "            self._balance += PredatoryCreditCard.OVERLIMIT_FEE\n",
    "        return success\n",
    "```"
   ]
  },
  {
   "cell_type": "markdown",
   "metadata": {
    "slideshow": {
     "slide_type": "slide"
    }
   },
   "source": [
    "#### 嵌套类\n",
    "\n",
    "```python\n",
    "class A:      # the outer class\n",
    "    class B:  # the nested class\n",
    "        ...\n",
    "```"
   ]
  },
  {
   "cell_type": "markdown",
   "metadata": {
    "slideshow": {
     "slide_type": "slide"
    }
   },
   "source": [
    "#### \\_\\_slots\\_\\_ 声明\n",
    "\n",
    "```python\n",
    "class CreditCard:\n",
    "    __slots__ = '_customer', '_bank', '_account', '_balance', '_limit'\n",
    "```\n",
    "\n",
    "```python\n",
    "class Predatory(CreditCard):\n",
    "    __slots__ = '_apr'\n",
    "```"
   ]
  },
  {
   "cell_type": "markdown",
   "metadata": {
    "slideshow": {
     "slide_type": "slide"
    }
   },
   "source": [
    "### 名称解析\n",
    "\n",
    "当用点运算符语法访问现有的成员(如obj.foo)时，Python解释器将开始一个名称解析的过程：\n",
    "\n",
    "1. 在实例命名空间中搜索，如果找到对应的名称和关联值就可以直接使用；\n",
    "2. 否则在该实例所属的类命名空间中搜索，如果找到对应的名称和关联值就可以使用；\n",
    "3. 如果在直接的类命名空间中未找到，搜索会通过层次结构向上检索每一个父类的类名称空间，直到找到对应的名称和关联值；\n",
    "4. 如果最终没法发现该对应的名称，就会引发一个**AtributeError**的异常。"
   ]
  },
  {
   "cell_type": "markdown",
   "metadata": {
    "slideshow": {
     "slide_type": "slide"
    }
   },
   "source": [
    "## 深拷贝和浅拷贝\n",
    "\n",
    "![](./img/2-6.png)"
   ]
  },
  {
   "cell_type": "markdown",
   "metadata": {
    "slideshow": {
     "slide_type": "slide"
    }
   },
   "source": [
    "# Any Questions?"
   ]
  },
  {
   "cell_type": "markdown",
   "metadata": {
    "slideshow": {
     "slide_type": "slide"
    }
   },
   "source": [
    "## 课后作业 Assignment-01\n",
    "\n",
    "1) 实现一个简单的二维向量类Vector，使其满足以下条件：\n",
    "- 可以通过构造函数Vector(x, y) 来构造新的Vector实例，如 v1 = Vector(1, 1), v2 = Vector(2, 3)；\n",
    "- 向量之间支持“+”操作符，如 v3 = v1 + v2，其中v3的x，y值满足v3.x = v1.x + v2.x = 3, v3.y = v1.y + v2.y = 4；\n",
    "- 向量支持与常数之间的“\\*”操作，比如v2 * 2, 而v2的新的x，y值为v2(4, 6)；\n",
    "- 向量支持内置的“abs”函数来计算其长度，比如abs(v3) = 5.0。\n"
   ]
  },
  {
   "cell_type": "markdown",
   "metadata": {
    "slideshow": {
     "slide_type": "subslide"
    }
   },
   "source": [
    "Vector参考图例"
   ]
  },
  {
   "cell_type": "code",
   "execution_count": 6,
   "metadata": {
    "slideshow": {
     "slide_type": "fragment"
    }
   },
   "outputs": [
    {
     "data": {
      "image/png": "[encoded data removed]",
      "text/plain": [
       "<Figure size 432x288 with 1 Axes>"
      ]
     },
     "metadata": {},
     "output_type": "display_data"
    }
   ],
   "source": [
    "import numpy as np\n",
    "import matplotlib.pyplot as plt\n",
    "%matplotlib inline\n",
    "\n",
    "M = np.array([[1, 1], [2, 3], [3, 4]])\n",
    "rows,cols = M.T.shape\n",
    "for i,l in enumerate(range(0,cols)):\n",
    "    xs = [0, M[i,0]]\n",
    "    ys = [0, M[i,1]]\n",
    "    plt.plot(xs,ys)\n",
    "\n",
    "plt.plot(0, 0, 'ok') #<-- plot a black point at the origin\n",
    "plt.axis('equal')  #<-- set the axes to the same scale\n",
    "plt.xlim([0, 5]) #<-- set the x axis limits\n",
    "plt.ylim([0, 5]) #<-- set the y axis limits\n",
    "plt.legend(['V'+str(i+1) for i in range(cols)]) #<-- give a legend\n",
    "plt.grid(b=True, which='major') #<-- plot grid lines\n",
    "plt.title(\"Vectors\")\n",
    "plt.show()"
   ]
  },
  {
   "cell_type": "markdown",
   "metadata": {
    "slideshow": {
     "slide_type": "slide"
    }
   },
   "source": [
    "2)以下代码段提供了一个未完成的 Progression 类，其目的是想实现一个基本的数列迭代器：\n",
    "\n",
    "```python\n",
    "class Progression:\n",
    "    \"\"\"Iterator producting a generic progression.\n",
    "\n",
    "    Default iterator produces the whole numbers 0, 1, 2...\n",
    "    \"\"\"\n",
    "\n",
    "    def __init__(self, start=0):\n",
    "        \"\"\"Initilize current value to the first value of the progression.\n",
    "        \"\"\"\n",
    "        self._cur_val = start\n",
    "\n",
    "    def _advance(self):\n",
    "        \"\"\"Update sefl._cur_val to a new value.\n",
    "\n",
    "        This should be overriden by a subclass to customize progression.\n",
    "        \"\"\"\n",
    "        self._cur_val += 1\n",
    "\n",
    "    def __next__(self):\n",
    "        \"\"\"Return the next element, or else raise StopIteration error.\n",
    "        \"\"\"\n",
    "        # TODO: Implement this method.\n",
    "        pass\n",
    "\n",
    "    def __iter__(self):\n",
    "        \"\"\"Return itself as an iterator.\n",
    "        \"\"\"\n",
    "        # TODO: Implement this method.\n",
    "        pass\n",
    "\n",
    "    def print_progression(self, n):\n",
    "        \"\"\"Print next n values of the progression.\n",
    "        \"\"\"\n",
    "        # TODO: Implement this method.\n",
    "        pass\n",
    "\n",
    "```\n",
    "\n",
    "2.1)根据提供的注释修改其 \\_\\_next\\_\\_、\\_\\_iter\\_\\_和print_progression方法,使其完成一个递增数列(如数列[0, 1, 2...])迭代器的最基本操作；"
   ]
  },
  {
   "cell_type": "markdown",
   "metadata": {
    "slideshow": {
     "slide_type": "subslide"
    }
   },
   "source": [
    "2.2)以上面的Progression类为基类，通过继承Progression和重写其构造函数及_advance方法，分别实现一个等差数列(ArithmeticProgression)类、一个等比数列(GeometircProgression)类和一个斐波那契数列(FibonacciProgression)类，总体的UML图可参考下图。\n",
    "\n",
    "![](./img/2-7.svg)"
   ]
  }
 ],
 "metadata": {
  "celltoolbar": "Slideshow",
  "kernelspec": {
   "display_name": "Python 3",
   "language": "python",
   "name": "python3"
  },
  "language_info": {
   "codemirror_mode": {
    "name": "ipython",
    "version": 3
   },
   "file_extension": ".py",
   "mimetype": "text/x-python",
   "name": "python",
   "nbconvert_exporter": "python",
   "pygments_lexer": "ipython3",
   "version": "3.6.5"
  }
 },
 "nbformat": 4,
 "nbformat_minor": 2
}
