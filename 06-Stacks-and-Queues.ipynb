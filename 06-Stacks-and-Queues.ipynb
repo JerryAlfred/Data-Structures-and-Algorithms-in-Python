{
 "cells": [
  {
   "cell_type": "markdown",
   "metadata": {
    "slideshow": {
     "slide_type": "slide"
    }
   },
   "source": [
    "### <center>2018 Winter CS101.06</center>\n",
    "\n",
    "# <center>栈和队列</center>\n",
    "\n",
    "##### <center>by tanzhuxiaqiu@huawei.com</center>"
   ]
  },
  {
   "cell_type": "markdown",
   "metadata": {
    "slideshow": {
     "slide_type": "slide"
    }
   },
   "source": [
    "## 今日议程\n",
    "\n",
    "1. 栈\n",
    "2. 队列\n",
    "3. 双端队列"
   ]
  },
  {
   "cell_type": "markdown",
   "metadata": {
    "slideshow": {
     "slide_type": "slide"
    }
   },
   "source": [
    "## 栈\n",
    "\n",
    "遵循后进先出(LIFO)规则的对象集合。\n",
    "\n",
    "常见的实例：\n",
    "- 虚拟内存的栈空间\n",
    "- 编译器中处理运算\n",
    "- 浏览器的历史访问\n",
    "- 编辑器的撤销"
   ]
  },
  {
   "cell_type": "markdown",
   "metadata": {
    "slideshow": {
     "slide_type": "subslide"
    }
   },
   "source": [
    "![](img/6-1.png)"
   ]
  },
  {
   "cell_type": "markdown",
   "metadata": {
    "slideshow": {
     "slide_type": "slide"
    }
   },
   "source": [
    "### 栈的抽象数据类型（ADT）\n",
    "\n",
    "如果用S表示一个栈的实例，S必须支持两个基本操作：\n",
    "\n",
    "- S.push(e): 将一个元素e压入栈S的栈顶。\n",
    "- S.pop()：如果栈S中至少含有一个元素，从栈S的栈顶弹出一个元素并返回其值；如果栈S为空，则抛出异常。\n",
    "\n",
    "此外，为了方便操作，栈S还应支持：\n",
    "\n",
    "- S.peek()：返回栈顶的元素值，但并不弹出该元素；如果栈S为空，则抛出异常。\n",
    "- S.is_empty(): 判断栈S是否为空，如果为空就返回True；反之返回False。\n",
    "- len(S): 返回栈S中元素的个数。\n",
    "- iter(S): 返回一个Iterator。"
   ]
  },
  {
   "cell_type": "code",
   "execution_count": null,
   "metadata": {},
   "outputs": [],
   "source": [
    "from abc import ABC, abstractmethod\n",
    "\n",
    "\n",
    "class AbstractStack(ABC):\n",
    "    \"\"\"Abstract Class for Stacks.\"\"\"\n",
    "    def __init__(self):\n",
    "        self._top = -1\n",
    "\n",
    "    def __len__(self):\n",
    "        return self._top + 1\n",
    "\n",
    "    def __repr__(self):\n",
    "        res = \"->\".join(map(str, self))\n",
    "        return 'Top->' + res\n",
    "\n",
    "    def is_empty(self):\n",
    "        return self._top == -1\n",
    "\n",
    "    @abstractmethod\n",
    "    def __iter__(self):\n",
    "        raise NotImplementedError\n",
    "\n",
    "    @abstractmethod\n",
    "    def push(self, e):\n",
    "        raise NotImplementedError\n",
    "\n",
    "    @abstractmethod\n",
    "    def pop(self):\n",
    "        raise NotImplementedError\n",
    "\n",
    "    @abstractmethod\n",
    "    def peek(self):\n",
    "        raise NotImplementedError\n"
   ]
  },
  {
   "cell_type": "markdown",
   "metadata": {
    "slideshow": {
     "slide_type": "slide"
    }
   },
   "source": [
    "### 基于Python的List实现栈\n",
    "\n",
    "|栈方法|对应List实现|\n",
    "|---|---|\n",
    "|S.push(e)|L.append(e)|\n",
    "|S.pop()|L.pop()|\n",
    "|S.peek()|L[-1]|\n",
    "|S.is_empty|len(L) == 0|\n",
    "|len(S)|len(L)|"
   ]
  },
  {
   "cell_type": "code",
   "execution_count": null,
   "metadata": {
    "slideshow": {
     "slide_type": "slide"
    }
   },
   "outputs": [],
   "source": [
    "class ArrayStack(AbstractStack):\n",
    "    \"\"\"LIFO Stack implementation using a Python list as underlying storage.\n",
    "    \"\"\"\n",
    "\n",
    "    def __init__(self):\n",
    "        \"\"\"Create an empty stack.\"\"\"\n",
    "        super().__init__()\n",
    "        self._data = []\n",
    "\n",
    "    def __iter__(self):\n",
    "        p = self._top\n",
    "        while p >= 0:\n",
    "            yield self._data[p]\n",
    "            p -= 1\n",
    "\n",
    "    def push(self, e):\n",
    "        \"\"\"Add element e to the top of stack.\"\"\"\n",
    "        self._top += 1\n",
    "        self._data.append(e)\n",
    "\n",
    "    def pop(self):\n",
    "        \"\"\"Remove and return the element from the top of the stack.\n",
    "        Raise Empty exception if the stack is empty.\n",
    "        \"\"\"\n",
    "        if self.is_empty():\n",
    "            raise IndexError(\"Stack is empty\")\n",
    "        self._top -= 1\n",
    "        return self._data.pop()\n",
    "\n",
    "    def peek(self):\n",
    "        \"\"\"Return (not remove) the element at the top of the stack.\n",
    "        Raise Empty exception if the stack is empty.\n",
    "        \"\"\"\n",
    "        if self.is_empty():\n",
    "            raise IndexError(\"Stack is empty\")\n",
    "        return self._data[self._top]\n"
   ]
  },
  {
   "cell_type": "code",
   "execution_count": null,
   "metadata": {
    "slideshow": {
     "slide_type": "subslide"
    }
   },
   "outputs": [],
   "source": [
    "S = ArrayStack()\n",
    "S.is_empty()"
   ]
  },
  {
   "cell_type": "code",
   "execution_count": null,
   "metadata": {
    "slideshow": {
     "slide_type": "fragment"
    }
   },
   "outputs": [],
   "source": [
    "S.push(3)\n",
    "S.push('a')\n",
    "S.push({'k1': 'v1', 'k2': 'v2'})\n",
    "S"
   ]
  },
  {
   "cell_type": "code",
   "execution_count": null,
   "metadata": {},
   "outputs": [],
   "source": [
    "S.pop()\n",
    "S"
   ]
  },
  {
   "cell_type": "code",
   "execution_count": null,
   "metadata": {
    "slideshow": {
     "slide_type": "fragment"
    }
   },
   "outputs": [],
   "source": [
    "len(S)"
   ]
  },
  {
   "cell_type": "code",
   "execution_count": null,
   "metadata": {
    "slideshow": {
     "slide_type": "fragment"
    }
   },
   "outputs": [],
   "source": [
    "S.peek()"
   ]
  },
  {
   "cell_type": "code",
   "execution_count": null,
   "metadata": {
    "slideshow": {
     "slide_type": "fragment"
    }
   },
   "outputs": [],
   "source": [
    "S._data"
   ]
  },
  {
   "cell_type": "markdown",
   "metadata": {
    "slideshow": {
     "slide_type": "slide"
    }
   },
   "source": [
    "### 基于List的栈的时间复杂度\n",
    "\n",
    "|操作|示例|时间复杂度|注释|\n",
    "|---|---|---|---|\n",
    "| Push | S.push(e) | O(1)* |均摊时间复杂度|\n",
    "| Pop | S.pop(e) | O(1)* |均摊时间复杂度|\n",
    "| Peek | S.peek() | O(1) | |\n",
    "| Is empty | S.is_empty() | O(1) | |\n",
    "| Length | len(S) | O(1) | |"
   ]
  },
  {
   "cell_type": "code",
   "execution_count": null,
   "metadata": {
    "slideshow": {
     "slide_type": "slide"
    }
   },
   "outputs": [],
   "source": [
    "def delimiter_matched(expr):\n",
    "    \"\"\"Return True if all delimiters are properly match; False otherwise.\n",
    "    \n",
    "    >>> delimiter_matched('[(2+x)*(3+y)]')\n",
    "    True\n",
    "    >>> delimiter_matched('{[{(xbcd))]}')\n",
    "    False\n",
    "    \"\"\"\n",
    "    left, right = '({[', ')}]'\n",
    "    S = ArrayStack()\n",
    "\n",
    "    for c in expr:\n",
    "        if c in left:\n",
    "            S.push(c)\n",
    "        elif c in right:\n",
    "            if S.is_empty():\n",
    "                return False\n",
    "            if right.index(c) != left.index(S.pop()):\n",
    "                return False\n",
    "    return S.is_empty()"
   ]
  },
  {
   "cell_type": "code",
   "execution_count": null,
   "metadata": {
    "slideshow": {
     "slide_type": "fragment"
    }
   },
   "outputs": [],
   "source": [
    "import doctest\n",
    "doctest.testmod()"
   ]
  },
  {
   "cell_type": "markdown",
   "metadata": {
    "slideshow": {
     "slide_type": "slide"
    }
   },
   "source": [
    "## 队列\n",
    "\n",
    "与栈相似，但队列是遵循先进先出(FIFO)规则的对象集合。\n",
    "\n",
    "- 常用于优化资源请求\n",
    "- 插入元素的一端为队列尾部\n",
    "- 删除元素的一端为队列头部\n"
   ]
  },
  {
   "cell_type": "markdown",
   "metadata": {
    "slideshow": {
     "slide_type": "subslide"
    }
   },
   "source": [
    "![](img/6-2.png)"
   ]
  },
  {
   "cell_type": "markdown",
   "metadata": {
    "slideshow": {
     "slide_type": "slide"
    }
   },
   "source": [
    "### 队列的抽象数据类型（ADT）\n",
    "\n",
    "如果用Q表示一个队列的实例，Q应该支持两个基本操作：\n",
    "\n",
    "- Q.enqueue(e): 在队列Q的尾部添加一个元素e。\n",
    "- Q.dequeue()：如果队列Q中至少含有一个元素，从队列Q的头部移除一个元素并返回其值；如果队列Q为空，则抛出异常。\n",
    "\n",
    "此外，为了方便操作，栈S还应支持：\n",
    "\n",
    "- Q.peek()：在不移除队列Q头部元素的情况下返回元素的值；如果栈S为空，则抛出异常。\n",
    "- Q.is_empty(): 判断队列Q是否为空，如果为空就返回True；反之返回False。\n",
    "- len(Q): 返回队列Q中元素的个数。\n",
    "- iter(Q): 返回一个Iterator。"
   ]
  },
  {
   "cell_type": "code",
   "execution_count": 2,
   "metadata": {
    "slideshow": {
     "slide_type": "slide"
    }
   },
   "outputs": [],
   "source": [
    "from abc import ABC, abstractmethod\n",
    "\n",
    "\n",
    "class AbstractQueue(ABC):\n",
    "\n",
    "    def __init__(self):\n",
    "        self._size = 0\n",
    "\n",
    "    def __len__(self):\n",
    "        return self._size\n",
    "\n",
    "    def is_empty(self):\n",
    "        return self._size == 0\n",
    "\n",
    "    @abstractmethod\n",
    "    def enqueue(self, e):\n",
    "        raise NotImplementedError\n",
    "\n",
    "    @abstractmethod\n",
    "    def dequeue(self):\n",
    "        raise NotImplementedError\n",
    "\n",
    "    @abstractmethod\n",
    "    def peek(self):\n",
    "        raise NotImplementedError\n",
    "\n",
    "    @abstractmethod\n",
    "    def __iter__(self):\n",
    "        raise NotImplementedError\n"
   ]
  },
  {
   "cell_type": "markdown",
   "metadata": {
    "slideshow": {
     "slide_type": "slide"
    }
   },
   "source": [
    "### 基于Python的List实现队列\n",
    "\n",
    "#### 思考\n",
    "\n",
    "在实现栈时我们使用了一个标识位（指针）top来标示栈顶的元素位置，如果要实现一个队列需要几个标识位（指针）？还需要什么额外的算法逻辑吗？\n",
    "\n"
   ]
  },
  {
   "cell_type": "markdown",
   "metadata": {
    "slideshow": {
     "slide_type": "fragment"
    }
   },
   "source": [
    "#### 头尾都用标识位\n",
    "\n",
    "- 在队列头部第一个元素处设置一个标识符（头指针）front，当完成出列操作dequeue后此标识符相应后移一位\n",
    "- 在队列尾部最后一个元素的后一位设置一个标识符（尾指针）rear，当完成入列操作enqueue后此标识符后移一位\n",
    "![](img/6-3.png)"
   ]
  },
  {
   "cell_type": "code",
   "execution_count": 5,
   "metadata": {
    "slideshow": {
     "slide_type": "slide"
    }
   },
   "outputs": [],
   "source": [
    "class ArrayQueue(AbstractQueue):\n",
    "    def __init__(self, cap=10):\n",
    "        super().__init__()\n",
    "        self._array = [None] * cap\n",
    "        self._front = 0\n",
    "        self._rear = 0\n",
    "\n",
    "    def __iter__(self):\n",
    "        p = self._front\n",
    "        while p <= self._rear:\n",
    "            yield self._array[p]\n",
    "            p += 1\n",
    "\n",
    "    def enqueue(self, e):\n",
    "        if self._rear == len(self._array):\n",
    "            self._expand()\n",
    "        self._array[self._rear] = e\n",
    "        self._rear += 1\n",
    "        self._size += 1\n",
    "\n",
    "    def _expand(self):\n",
    "        \"\"\"expands cap of the array.\n",
    "        Time Complexity: O(n).\n",
    "        \"\"\"\n",
    "        self._array += [None] * len(self._array)\n",
    "\n",
    "    def dequeue(self):\n",
    "        if self.is_empty():\n",
    "            raise IndexError(\"Queue is empty\")\n",
    "        res = self._array[self._front]\n",
    "        self._array[self._front] = None\n",
    "        self._front += 1\n",
    "        self._size -= 1\n",
    "        return res\n",
    "\n",
    "    def peek(self):\n",
    "        if self.is_empty():\n",
    "            raise IndexError(\"Queue is empty\")\n",
    "        return self._array[self._front]\n"
   ]
  },
  {
   "cell_type": "code",
   "execution_count": 17,
   "metadata": {
    "slideshow": {
     "slide_type": "slide"
    }
   },
   "outputs": [
    {
     "data": {
      "text/plain": [
       "[None,\n",
       " None,\n",
       " None,\n",
       " None,\n",
       " None,\n",
       " None,\n",
       " None,\n",
       " None,\n",
       " None,\n",
       " None,\n",
       " 10,\n",
       " 11,\n",
       " 12,\n",
       " 13,\n",
       " 14,\n",
       " 'a',\n",
       " 'b',\n",
       " None,\n",
       " None,\n",
       " None]"
      ]
     },
     "execution_count": 17,
     "metadata": {},
     "output_type": "execute_result"
    }
   ],
   "source": [
    "queue = ArrayQueue()\n",
    "for i in range(15):\n",
    "    queue.enqueue(i)\n",
    "\n",
    "for i in range(10):\n",
    "    queue.dequeue()\n",
    "    \n",
    "queue.enqueue('a')\n",
    "queue.enqueue('b')\n",
    "\n",
    "queue._array"
   ]
  },
  {
   "cell_type": "markdown",
   "metadata": {
    "slideshow": {
     "slide_type": "subslide"
    }
   },
   "source": [
    "- 双标识符代码便于理解，但是底层的List在dequeue后空间会造成浪费\n",
    "- 如何更合理的利用空间？gc回收？利用List自带的pop(0)来实现dequeue？"
   ]
  },
  {
   "cell_type": "markdown",
   "metadata": {
    "slideshow": {
     "slide_type": "slide"
    }
   },
   "source": [
    "#### 循环队列"
   ]
  },
  {
   "cell_type": "markdown",
   "metadata": {
    "slideshow": {
     "slide_type": "slide"
    }
   },
   "source": [
    "# Any Questions?"
   ]
  },
  {
   "cell_type": "markdown",
   "metadata": {
    "slideshow": {
     "slide_type": "slide"
    }
   },
   "source": [
    "## 课后作业 Assignment-04\n",
    "\n",
    "1) 已知有两个序列pushed和popped分别表示了对栈的push和pop的元素顺序，用Python实现一个函数validateStackSequences(pushed, popped):确定这个两个对栈的操作序列能否可以在一个空栈上操作成功。\n",
    "\n",
    "```python\n",
    "def validateStackSequences(self, pushed, popped):\n",
    "    \"\"\"Return True if and only if this sequence of pushed and popped operations can been operated on an empty stack successfully.\n",
    "    :type pushed: List[int]\n",
    "    :type popped: List[int]\n",
    "    :rtype: bool\n",
    "    \"\"\"\n",
    "    pass\n",
    "```\n",
    "\n",
    "\n",
    ">例子1：  \n",
    ">输入: pushed = [1, 2, 3, 4, 5], popped = [4, 5, 3, 2, 1]  \n",
    ">输出: True  \n",
    ">解释: 可以按照以下顺利对一个空栈进行操作 —— push(1), push(2), push(3), push(4), pop() -> 4,\n",
    "push(5), pop() -> 5, pop() -> 3, pop() -> 2, pop() -> 1\n",
    "\n",
    ">例子2:  \n",
    "输入: pushed = [1, 2, 3, 4, 5], popped = [4, 3, 5, 1, 2]  \n",
    "输出: False  \n",
    "解释: 在popped指定的操作顺序下，元素1不能先于元素2执行弹出操作。\n",
    "\n",
    "注：\n",
    "- 0 <= len(pushed) == len(popped) <= 1000\n",
    "- 0 <= pushed[i], popped[i] < 1000\n",
    "- popped序列可以看做是pushed序列的一个重排列，\n",
    "- pushed序列中的值不重复，popped序列中的值也不重复。"
   ]
  },
  {
   "cell_type": "markdown",
   "metadata": {
    "slideshow": {
     "slide_type": "slide"
    }
   },
   "source": [
    "2) 用Python实现一个算法，该算法可以找出一个序列中每个元素后续出现的第一个比它大的元素，并记录这个比它大的元素的索引。如果在右边找不到比此元素更大的值则在输出的相对应位置上记录-1。\n",
    "\n",
    "```python\n",
    "def findRightFirstLargeNum(l):\n",
    "    \"\"\"\n",
    "    :type l: List[int]\n",
    "    :rtype: List[int]\n",
    "    \"\"\"\n",
    "```\n",
    "\n",
    ">例子1：  \n",
    "输入：[2, 6, 0, 1, 7, 3, 5, 8, 4, 9]  \n",
    "输出：[1, 4, 3, 4, 7, 6, 7, 9, 9, -1]  \n",
    "解释：对于输入中的第一个元素“2”来说，其右边第一个比它大的数是“6”，所以输出的结果中第一个元素应该记录“6”的索引就是“1”；对于输入中第二个元素“6”来说，其右边第一个比它大的数是“7”，所以输出结果中第二个元素应该记录“7”所在的索引是“4”；依次类推。。。\n",
    "\n",
    ">例子2:  \n",
    "输入：[7, 6, 3, 5, 8, 1, 9, 4, 0, 2]  \n",
    "输出：[4, 4, 3, 4, 6, 6, -1, -1, 9, -1] "
   ]
  }
 ],
 "metadata": {
  "celltoolbar": "Slideshow",
  "kernelspec": {
   "display_name": "Python 3",
   "language": "python",
   "name": "python3"
  },
  "language_info": {
   "codemirror_mode": {
    "name": "ipython",
    "version": 3
   },
   "file_extension": ".py",
   "mimetype": "text/x-python",
   "name": "python",
   "nbconvert_exporter": "python",
   "pygments_lexer": "ipython3",
   "version": "3.6.5"
  }
 },
 "nbformat": 4,
 "nbformat_minor": 2
}
