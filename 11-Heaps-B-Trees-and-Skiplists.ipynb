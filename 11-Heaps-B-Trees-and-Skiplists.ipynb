{
 "cells": [
  {
   "cell_type": "markdown",
   "metadata": {
    "slideshow": {
     "slide_type": "slide"
    }
   },
   "source": [
    "### <center>2018 Winter CS101.11</center>\n",
    "\n",
    "# <center>堆、B树和跳表</center>\n",
    "\n",
    "##### <center>by tanzhuxiaqiu@huawei.com</center>"
   ]
  },
  {
   "cell_type": "markdown",
   "metadata": {
    "slideshow": {
     "slide_type": "slide"
    }
   },
   "source": [
    "## 今日议程\n",
    "\n",
    "1. 堆\n",
    "2. B树\n",
    "3. 跳表"
   ]
  },
  {
   "cell_type": "markdown",
   "metadata": {
    "slideshow": {
     "slide_type": "slide"
    }
   },
   "source": [
    "## 堆\n",
    "\n",
    "- 必须是一个完全二叉树(Complete Binary Tree)\n",
    "- 每个节点的值一定大于等于(或小于等于）其子树中所有节点的值\n",
    "    - 大顶(根)堆\n",
    "    - 小顶(根)堆\n",
    "    \n",
    "![](img/11-1.png)"
   ]
  },
  {
   "cell_type": "markdown",
   "metadata": {
    "slideshow": {
     "slide_type": "slide"
    }
   },
   "source": [
    "### 堆的存储\n",
    "\n",
    "- 完全二叉树可以用数组存储\n",
    "- 如果数组的起始位置从下标1开始，那一个节点在在数组中下标为i，其左子节点就在数组下标为2i的位置，右子节点在数组下标2i+1的位置，父节点在数组下标i//2的位置\n",
    "- 数组的起始元素开始位置也可以从下标1开始，这样左子节点，右子节点和父节点的下标分别为2i+1，2i+2,(i-1)//2\n",
    "\n",
    "![](img/11-2.png)"
   ]
  },
  {
   "cell_type": "markdown",
   "metadata": {
    "slideshow": {
     "slide_type": "slide"
    }
   },
   "source": [
    "### 往堆中插入元素\n",
    "\n",
    "- 在堆的最后插入元素\n",
    "- 如果插入后不能满足堆的特性，需要对堆进行调整让其重新满足堆的特性，这个过程称为**堆化(heapify)**\n",
    "- 插入可以使用**从下至上堆化**的方式\n",
    "\n",
    "![](img/11-3.png)"
   ]
  },
  {
   "cell_type": "markdown",
   "metadata": {
    "slideshow": {
     "slide_type": "subslide"
    }
   },
   "source": [
    "### Shift up 过程\n",
    "\n",
    "![](img/11-4.png)"
   ]
  },
  {
   "cell_type": "markdown",
   "metadata": {
    "slideshow": {
     "slide_type": "fragment"
    }
   },
   "source": [
    "![](img/11-5.png)"
   ]
  },
  {
   "cell_type": "markdown",
   "metadata": {
    "slideshow": {
     "slide_type": "slide"
    }
   },
   "source": [
    "### 删除堆顶元素\n",
    "\n",
    "- 先用最后一个节点替换掉堆顶（根）节点\n",
    "- 从根节点开始进行**从上至下的堆化**\n",
    "- 注意在从上至下堆化时，两个子节点的元素大小都要关心\n",
    "\n",
    "![](img/11-6.png)"
   ]
  },
  {
   "cell_type": "markdown",
   "metadata": {
    "slideshow": {
     "slide_type": "subslide"
    }
   },
   "source": [
    "### Shift down 过程\n",
    "\n",
    "![](img/11-7.png)"
   ]
  },
  {
   "cell_type": "markdown",
   "metadata": {
    "slideshow": {
     "slide_type": "fragment"
    }
   },
   "source": [
    "![](img/11-8.png)"
   ]
  },
  {
   "cell_type": "markdown",
   "metadata": {
    "slideshow": {
     "slide_type": "slide"
    }
   },
   "source": [
    "![](img/11-9.png)"
   ]
  },
  {
   "cell_type": "markdown",
   "metadata": {
    "slideshow": {
     "slide_type": "slide"
    }
   },
   "source": [
    "### 用Python实现一个堆"
   ]
  },
  {
   "cell_type": "code",
   "execution_count": 1,
   "metadata": {
    "slideshow": {
     "slide_type": "fragment"
    }
   },
   "outputs": [],
   "source": [
    "from abc import ABC, abstractmethod\n",
    "\n",
    "\n",
    "class AbstractHeap(ABC):\n",
    "    \"\"\"Abstract class for binary heap.\n",
    "    \"\"\"\n",
    "\n",
    "    def __init__(self):\n",
    "        pass\n",
    "\n",
    "    @abstractmethod\n",
    "    def siftUp(self, i):\n",
    "        pass\n",
    "\n",
    "    @abstractmethod\n",
    "    def siftDown(self, i):\n",
    "        pass\n",
    "\n",
    "    @abstractmethod\n",
    "    def insert(self, v):\n",
    "        pass\n",
    "\n",
    "    @abstractmethod\n",
    "    def removeMax(self):\n",
    "        pass"
   ]
  },
  {
   "cell_type": "code",
   "execution_count": 2,
   "metadata": {
    "slideshow": {
     "slide_type": "subslide"
    }
   },
   "outputs": [],
   "source": [
    "class Heap(AbstractHeap):\n",
    "    def __init__(self):\n",
    "        self._size = 0\n",
    "        self._array = [(0)]\n",
    "\n",
    "    def __repr__(self):\n",
    "        return ' '.join(map(str, self._array[1:]))\n",
    "\n",
    "    def insert(self, v):\n",
    "        self._array.append(v)\n",
    "        self._size += 1\n",
    "        self.siftUp(self._size)\n",
    "\n",
    "    def siftUp(self, i):\n",
    "        while i // 2 > 0:\n",
    "            if self._array[i] > self._array[i // 2]:\n",
    "                self._array[i], self._array[i // 2] = self._array[\n",
    "                    i // 2], self._array[i]\n",
    "            i //= 2\n",
    "\n",
    "    def removeMax(self):\n",
    "        res = self._array[1]\n",
    "        self._array[1] = self._array[self._size]\n",
    "        self._size -= 1\n",
    "        self._array.pop()\n",
    "        self.siftDown(1)\n",
    "        return res\n",
    "\n",
    "    def siftDown(self, i):\n",
    "        while 2 * i < self._size:\n",
    "            max_child = self.maxChild(i)\n",
    "            if self._array[i] < self._array[max_child]:\n",
    "                self._array[i], self._array[max_child] = self._array[\n",
    "                    max_child], self._array[i]\n",
    "            i = max_child\n",
    "\n",
    "    def maxChild(self, i):\n",
    "        if 2 * i + 1 > self._size:  # no right child\n",
    "            return 2 * i\n",
    "        else:\n",
    "            # left child > right child\n",
    "            if self._array[2 * i] > self._array[2 * i + 1]:\n",
    "                return 2 * i\n",
    "            else:\n",
    "                return 2 * i + 1"
   ]
  },
  {
   "cell_type": "code",
   "execution_count": 3,
   "metadata": {
    "slideshow": {
     "slide_type": "subslide"
    }
   },
   "outputs": [
    {
     "data": {
      "text/plain": [
       "33 17 21 11 13 15 9 1 2 7 12 10"
      ]
     },
     "execution_count": 3,
     "metadata": {},
     "output_type": "execute_result"
    }
   ],
   "source": [
    "heap = Heap()\n",
    "heap.insert(33)\n",
    "heap.insert(17)\n",
    "heap.insert(21)\n",
    "heap.insert(11)\n",
    "heap.insert(13)\n",
    "heap.insert(15)\n",
    "heap.insert(9)\n",
    "heap.insert(1)\n",
    "heap.insert(2)\n",
    "heap.insert(7)\n",
    "heap.insert(12)\n",
    "heap.insert(10)\n",
    "heap"
   ]
  },
  {
   "cell_type": "code",
   "execution_count": 4,
   "metadata": {
    "slideshow": {
     "slide_type": "fragment"
    }
   },
   "outputs": [
    {
     "data": {
      "text/plain": [
       "33 17 24 11 13 21 9 1 2 7 12 10 15"
      ]
     },
     "execution_count": 4,
     "metadata": {},
     "output_type": "execute_result"
    }
   ],
   "source": [
    "heap.insert(24)\n",
    "heap"
   ]
  },
  {
   "cell_type": "code",
   "execution_count": 5,
   "metadata": {
    "slideshow": {
     "slide_type": "fragment"
    }
   },
   "outputs": [
    {
     "data": {
      "text/plain": [
       "24 17 21 11 13 15 9 1 2 7 12 10"
      ]
     },
     "execution_count": 5,
     "metadata": {},
     "output_type": "execute_result"
    }
   ],
   "source": [
    "heap.removeMax()\n",
    "heap"
   ]
  },
  {
   "cell_type": "markdown",
   "metadata": {
    "slideshow": {
     "slide_type": "slide"
    }
   },
   "source": [
    "### 堆操作的时间复杂度\n",
    "\n",
    "|Operation|Time Complexity|\n",
    "|---|---|\n",
    "|Insert(v)|$O(log n)$|\n",
    "|removeMax() / removeMin()|$O(log n)$|\n",
    "|getMax() / getMin()|$O(1)$|\n",
    "\n",
    "> 思考：如果让一个无序的元素数组通过堆化构造成一个堆，这个操作的时间复杂度是多少？$n O(log n)$?"
   ]
  },
  {
   "cell_type": "markdown",
   "metadata": {
    "slideshow": {
     "slide_type": "slide"
    }
   },
   "source": [
    "## 堆排序\n",
    "\n",
    "- 将元素构建成大（小）顶堆\n",
    "- 依次将堆顶元素取出完成排序\n"
   ]
  },
  {
   "cell_type": "markdown",
   "metadata": {
    "slideshow": {
     "slide_type": "slide"
    }
   },
   "source": [
    "### 建堆\n",
    "\n",
    "- 可以通过前面堆实现的insert方法来依次将每个元素插入堆中，但这不是最优解\n",
    "- 可以从最后一个非叶子节点开始，从上往下堆化(siftDown)\n",
    "\n",
    "![](img/11-10.png)"
   ]
  },
  {
   "cell_type": "markdown",
   "metadata": {
    "slideshow": {
     "slide_type": "subslide"
    }
   },
   "source": [
    "![](img/11-11.png)"
   ]
  },
  {
   "cell_type": "markdown",
   "metadata": {
    "slideshow": {
     "slide_type": "fragment"
    }
   },
   "source": [
    "![](img/11-12.png)"
   ]
  },
  {
   "cell_type": "markdown",
   "metadata": {
    "slideshow": {
     "slide_type": "subslide"
    }
   },
   "source": [
    "![](img/11-13.png)"
   ]
  },
  {
   "cell_type": "markdown",
   "metadata": {
    "slideshow": {
     "slide_type": "fragment"
    }
   },
   "source": [
    "![](img/11-14.png)"
   ]
  },
  {
   "cell_type": "code",
   "execution_count": 6,
   "metadata": {
    "slideshow": {
     "slide_type": "slide"
    }
   },
   "outputs": [],
   "source": [
    "def heapify(arr, n, i):\n",
    "    largest = i\n",
    "    lchild = 2 * i\n",
    "    rchild = 2 * i + 1\n",
    "\n",
    "    if lchild < n and arr[i] < arr[\n",
    "            lchild]:  # exist left child and left child is larger\n",
    "        largest = lchild\n",
    "\n",
    "    if rchild < n and arr[largest] < arr[\n",
    "            rchild]:  # exist right child and right child is larger\n",
    "        largest = rchild\n",
    "\n",
    "    if largest != i:  # left child or right child is larger\n",
    "        arr[i], arr[largest] = arr[largest], arr[i]\n",
    "\n",
    "        heapify(arr, n, largest)"
   ]
  },
  {
   "cell_type": "code",
   "execution_count": 7,
   "metadata": {
    "slideshow": {
     "slide_type": "fragment"
    }
   },
   "outputs": [],
   "source": [
    "def buildHeap(arr):\n",
    "    for i in range(len(l) // 2, 0, -1): # from last non-leaf node to the root\n",
    "        heapify(l, len(l), i)"
   ]
  },
  {
   "cell_type": "code",
   "execution_count": 8,
   "metadata": {
    "slideshow": {
     "slide_type": "fragment"
    }
   },
   "outputs": [
    {
     "data": {
      "text/plain": [
       "[7, 3, 19, 9, 4, 1, 20, 11, 15]"
      ]
     },
     "execution_count": 8,
     "metadata": {},
     "output_type": "execute_result"
    }
   ],
   "source": [
    "l = [(0)]\n",
    "l.extend([7, 3, 19, 9, 4, 1, 20, 11, 15])\n",
    "l[1:]"
   ]
  },
  {
   "cell_type": "code",
   "execution_count": 9,
   "metadata": {
    "slideshow": {
     "slide_type": "fragment"
    }
   },
   "outputs": [
    {
     "data": {
      "text/plain": [
       "[20, 15, 19, 11, 4, 1, 7, 3, 9]"
      ]
     },
     "execution_count": 9,
     "metadata": {},
     "output_type": "execute_result"
    }
   ],
   "source": [
    "# from last non-leaf node to the root\n",
    "buildHeap(l)\n",
    "l[1:]"
   ]
  },
  {
   "cell_type": "markdown",
   "metadata": {
    "slideshow": {
     "slide_type": "slide"
    }
   },
   "source": [
    "## 建堆的时间复杂度到底是多少？\n",
    "\n",
    "> 思考：代码中heapify的时间复杂度是$O(log n)$，buildHeap中执行了 $\\frac{n}{2}+1$次heapify，那时间复杂度难道不是$O(n log n)$?"
   ]
  },
  {
   "cell_type": "markdown",
   "metadata": {
    "slideshow": {
     "slide_type": "fragment"
    }
   },
   "source": [
    "实际上建堆的时间复杂度只有$O(n)$\n",
    "\n",
    "[建堆时间复杂度的推导过程](https://www.geeksforgeeks.org/time-complexity-of-building-a-heap/)"
   ]
  },
  {
   "cell_type": "markdown",
   "metadata": {
    "slideshow": {
     "slide_type": "slide"
    }
   },
   "source": [
    "### 排序\n",
    "\n",
    "- 依次将堆顶的元素和最后的元素交换，然后再对剩下的元素进行一次堆化（类似删除堆顶元素的操作）\n",
    "- 一直重复执行这个过程，直到只剩一个下标为1的元素为止\n",
    "\n",
    "![](img/11-15.png)"
   ]
  },
  {
   "cell_type": "markdown",
   "metadata": {
    "slideshow": {
     "slide_type": "subslide"
    }
   },
   "source": [
    "![](img/11-16.png)"
   ]
  },
  {
   "cell_type": "markdown",
   "metadata": {
    "slideshow": {
     "slide_type": "fragment"
    }
   },
   "source": [
    "![](img/11-17.png)"
   ]
  },
  {
   "cell_type": "markdown",
   "metadata": {
    "slideshow": {
     "slide_type": "subslide"
    }
   },
   "source": [
    "![](img/11-17.png)"
   ]
  },
  {
   "cell_type": "markdown",
   "metadata": {
    "slideshow": {
     "slide_type": "fragment"
    }
   },
   "source": [
    "![](img/11-18.png)"
   ]
  },
  {
   "cell_type": "markdown",
   "metadata": {
    "slideshow": {
     "slide_type": "subslide"
    }
   },
   "source": [
    "![](img/11-19.png)"
   ]
  },
  {
   "cell_type": "markdown",
   "metadata": {
    "slideshow": {
     "slide_type": "fragment"
    }
   },
   "source": [
    "![](img/11-20.png)"
   ]
  },
  {
   "cell_type": "code",
   "execution_count": 10,
   "metadata": {
    "slideshow": {
     "slide_type": "slide"
    }
   },
   "outputs": [],
   "source": [
    "def heapSort(arr):\n",
    "    buildHeap(arr)\n",
    "    for i in range(len(arr)-1, 0, -1):\n",
    "        arr[1], arr[i] = arr[i], arr[1]\n",
    "        heapify(arr, i, 1)"
   ]
  },
  {
   "cell_type": "code",
   "execution_count": 11,
   "metadata": {
    "slideshow": {
     "slide_type": "fragment"
    }
   },
   "outputs": [
    {
     "data": {
      "text/plain": [
       "[1, 3, 4, 7, 9, 11, 15, 19, 20]"
      ]
     },
     "execution_count": 11,
     "metadata": {},
     "output_type": "execute_result"
    }
   ],
   "source": [
    "l = [(0), 7, 3, 19, 9, 4, 1, 20, 11, 15]\n",
    "heapSort(l)\n",
    "l[1:]"
   ]
  },
  {
   "cell_type": "code",
   "execution_count": 18,
   "metadata": {
    "slideshow": {
     "slide_type": "slide"
    }
   },
   "outputs": [
    {
     "name": "stdout",
     "output_type": "stream",
     "text": [
      "10 Elements Sorted by HeapSort in  4.9447618948761374e-05\n",
      "100 Elements Sorted by HeapSort in  0.0005562159421970136\n",
      "1000 Elements Sorted by HeapSort in  0.006700013553199824\n",
      "10000 Elements Sorted by HeapSort in  0.11139376652863575\n",
      "100000 Elements Sorted by HeapSort in  1.0103440521052107\n",
      "1000000 Elements Sorted by HeapSort in  11.868224034064042\n"
     ]
    },
    {
     "data": {
      "image/png": "[encoded data removed]",
      "text/plain": [
       "<Figure size 432x288 with 1 Axes>"
      ]
     },
     "metadata": {},
     "output_type": "display_data"
    }
   ],
   "source": [
    "%matplotlib inline\n",
    "import time \n",
    "from numpy.random import seed \n",
    "from numpy.random import randint \n",
    "import matplotlib.pyplot as plt\n",
    "\n",
    "elements = list() \n",
    "times = list() \n",
    "for i in range(1, 7): \n",
    "    a = randint(0, 10 ** i, 10 ** i) \n",
    "    start = time.clock() \n",
    "    heapSort(a) \n",
    "    end = time.clock() \n",
    "  \n",
    "    print(len(a), \"Elements Sorted by HeapSort in \", end-start) \n",
    "    elements.append(len(a)) \n",
    "    times.append(end-start) \n",
    "  \n",
    "plt.xlabel('List Length') \n",
    "plt.ylabel('Time Complexity') \n",
    "plt.plot(elements, times, label ='Heap Sort') \n",
    "plt.grid() \n",
    "plt.legend() \n",
    "plt.show() "
   ]
  },
  {
   "cell_type": "markdown",
   "metadata": {
    "slideshow": {
     "slide_type": "slide"
    }
   },
   "source": [
    "### 堆排序的复杂度分析\n",
    "\n",
    "\n",
    "| | |\n",
    "|---|---|\n",
    "| Worst-case performance | $O(n log n)$ |\n",
    "| Best-case performance\t| $O(n log n)$(distinct keys) or $O(n)$ (equal keys)|\n",
    "| Average performance | $O(n log n)$ |\n",
    "| Worst-case space complexity | $O(n)$ tatal $O(1)$ auxiliary |\n",
    "\n",
    "- 堆排序时一个原地排序算法\n",
    "- 排序的两个阶段中建堆时间复杂度是$O(n)$，排序的时间复杂度是$O(n log n)$，所以整体时间复杂度是 $O(n log n)$\n",
    "- 堆排序不是稳定的排序算法，因为在排序时堆顶元素会和最后一个节点发生交换，这时可能会改变相同元素原有的相对顺序"
   ]
  },
  {
   "cell_type": "markdown",
   "metadata": {
    "slideshow": {
     "slide_type": "fragment"
    }
   },
   "source": [
    "### 堆排序 v.s. 快速排序\n",
    "\n",
    "- 快速排序的数据访问方式是顺序访问，堆排序的数据访问方式是不是顺序访问（近似随机访问），所以堆排序对CPU缓存并不友好 [[参考]](https://people.freebsd.org/~lstewart/articles/cpumemory.pdf)\n",
    "- 相同的数据在排序过程中，堆排序的交换次数要多余快排序\n",
    "- 所以一般来说快速排序的性能更好"
   ]
  },
  {
   "cell_type": "markdown",
   "metadata": {
    "slideshow": {
     "slide_type": "slide"
    }
   },
   "source": [
    "## 优先队列\n",
    "\n",
    "- 根据优先级的高低来决定出列的顺序，不在遵循普通队列先进后出的原则\n",
    "- 一般用堆来实现\n",
    "\n",
    "### Python中的优先队列\n",
    "\n",
    "- [heapq](https://docs.python.org/3/library/heapq.html)\n",
    "- [PriorityQueue](https://docs.python.org/3/library/queue.html#priority-queue)"
   ]
  },
  {
   "cell_type": "markdown",
   "metadata": {
    "slideshow": {
     "slide_type": "slide"
    }
   },
   "source": [
    "### 优先队列的应用\n",
    "\n",
    "- 高性能定时器\n",
    "- 将有序的小文件进行合并\n",
    "- 数据流中找出topk\n",
    "- 求数据流中的中位数（分位数）"
   ]
  },
  {
   "cell_type": "markdown",
   "metadata": {
    "slideshow": {
     "slide_type": "fragment"
    }
   },
   "source": [
    "数据结构 | 插入的时间复杂度 | 得到中位数的时间复杂度 \n",
    ":-- | :-- | :-- \n",
    "没有排序的数组 | O(1) | O(n) \n",
    "排序的数组 | O(n) | O(1) \n",
    "排序的链表 | O(n) | O(1) \n",
    "二叉搜索树 | 平均O(logn)，最差O(n) | 平均O(logn)，最差O(n) \n",
    "AVL树 | O(logn) | O(1) \n",
    "最大堆和最小堆 | O(logn) | O(1)"
   ]
  },
  {
   "cell_type": "markdown",
   "metadata": {
    "slideshow": {
     "slide_type": "slide"
    }
   },
   "source": [
    "## B+树\n",
    "\n",
    "\n",
    "- 常用于数据库中的索引\n",
    "- "
   ]
  },
  {
   "cell_type": "markdown",
   "metadata": {
    "slideshow": {
     "slide_type": "slide"
    }
   },
   "source": [
    "# 完结，撒花！"
   ]
  },
  {
   "cell_type": "markdown",
   "metadata": {
    "slideshow": {
     "slide_type": "fragment"
    }
   },
   "source": [
    "- 本课程还会继续更新\n",
    "- 学好数据结构和算法需要多练习\n",
    "- Computer Science系列课程的后续\n",
    "- Machine Learning系列课程的安排"
   ]
  },
  {
   "cell_type": "code",
   "execution_count": null,
   "metadata": {},
   "outputs": [],
   "source": []
  }
 ],
 "metadata": {
  "celltoolbar": "Slideshow",
  "kernelspec": {
   "display_name": "Python 3",
   "language": "python",
   "name": "python3"
  },
  "language_info": {
   "codemirror_mode": {
    "name": "ipython",
    "version": 3
   },
   "file_extension": ".py",
   "mimetype": "text/x-python",
   "name": "python",
   "nbconvert_exporter": "python",
   "pygments_lexer": "ipython3",
   "version": "3.6.5"
  }
 },
 "nbformat": 4,
 "nbformat_minor": 2
}
