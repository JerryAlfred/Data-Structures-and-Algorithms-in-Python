{
 "cells": [
  {
   "cell_type": "markdown",
   "metadata": {
    "slideshow": {
     "slide_type": "slide"
    }
   },
   "source": [
    "### <center>2018 Winter CS101.07</center>\n",
    "\n",
    "# <center>链表</center>\n",
    "\n",
    "##### <center>by tanzhuxiaqiu@huawei.com</center>"
   ]
  },
  {
   "cell_type": "markdown",
   "metadata": {
    "slideshow": {
     "slide_type": "slide"
    }
   },
   "source": [
    "## 回顾\n",
    "\n",
    "- 动态数组\n",
    "- 栈\n",
    "- 队列"
   ]
  },
  {
   "cell_type": "markdown",
   "metadata": {
    "slideshow": {
     "slide_type": "slide"
    }
   },
   "source": [
    "## 今日议程\n",
    "\n",
    "1. 单向链表\n",
    "2. 环形链表\n",
    "3. 双向链表\n",
    "4. 位置链表\n",
    "5. 链表 v.s. 数组"
   ]
  },
  {
   "cell_type": "markdown",
   "metadata": {
    "slideshow": {
     "slide_type": "slide"
    }
   },
   "source": [
    "## 单向链表\n",
    "\n",
    "多个节点（Node）集合组成的一个线性序列。\n",
    "\n",
    "#### 单向链表的节点\n",
    "\n",
    "- 元素成员：表示节点存储的元素值。\n",
    "- 指针成员：指向单向链表中的后继节点，如果没有后继则为空。\n",
    "\n",
    "![](img/7-1.png)"
   ]
  },
  {
   "cell_type": "markdown",
   "metadata": {
    "slideshow": {
     "slide_type": "subslide"
    }
   },
   "source": [
    "- 头节点：链表中第一个节点\n",
    "- 尾节点：链表中最后一个节点\n",
    "\n",
    "![](img/7-2.png)"
   ]
  },
  {
   "cell_type": "code",
   "execution_count": 4,
   "metadata": {
    "slideshow": {
     "slide_type": "slide"
    }
   },
   "outputs": [],
   "source": [
    "class SinglyLinkedListNode:\n",
    "\n",
    "    def __init__(self, e):\n",
    "        self._element = e\n",
    "        self._next = None"
   ]
  },
  {
   "cell_type": "markdown",
   "metadata": {
    "slideshow": {
     "slide_type": "slide"
    }
   },
   "source": [
    "### 单向链表的几个基本操作\n",
    "\n",
    "\n",
    "[visualgo](https://visualgo.net/en/list)\n",
    "\n",
    "#### 在单向链表头部插入一个元素\n",
    "\n",
    "伪代码\n",
    "```\n",
    "Algorithm add_first(L, e):\n",
    "    n = Node(e)\n",
    "    n.next = L.head\n",
    "    L.head = n\n",
    "    L.size += 1\n",
    "```"
   ]
  },
  {
   "cell_type": "markdown",
   "metadata": {
    "slideshow": {
     "slide_type": "subslide"
    }
   },
   "source": [
    "#### 在单向链表尾部插入一个元素\n",
    "\n",
    "伪代码\n",
    "\n",
    "```\n",
    "Algorithm add_last(L, e):\n",
    "    n = Node(e)\n",
    "    n.next = None\n",
    "    L.tail.next = n\n",
    "    L.tail = n\n",
    "    L.size += 1\n",
    "```"
   ]
  },
  {
   "cell_type": "markdown",
   "metadata": {
    "slideshow": {
     "slide_type": "subslide"
    }
   },
   "source": [
    "#### 在单向链表头部删除一个元素\n",
    "\n",
    "伪代码\n",
    "\n",
    "```\n",
    "Algorithm del_first(L):\n",
    "    if L.head in None then\n",
    "        raise an error: the list is empty\n",
    "    L.head = L.head.next\n",
    "    L.size -= 1\n",
    "```\n",
    "\n",
    "#### 思考：如何在单向链表的尾部删除一个元素？"
   ]
  },
  {
   "cell_type": "markdown",
   "metadata": {
    "slideshow": {
     "slide_type": "slide"
    }
   },
   "source": [
    "### 利用单向链表实现一个栈\n",
    "\n",
    "- 把单向链表的头部作为栈顶"
   ]
  },
  {
   "cell_type": "code",
   "execution_count": 5,
   "metadata": {
    "slideshow": {
     "slide_type": "slide"
    }
   },
   "outputs": [],
   "source": [
    "from abc import ABC, abstractmethod\n",
    "\n",
    "\n",
    "class AbstractStack(ABC):\n",
    "    \"\"\"Abstract Class for Stacks.\"\"\"\n",
    "    def __init__(self):\n",
    "        self._top = -1\n",
    "\n",
    "    def __len__(self):\n",
    "        return self._top + 1\n",
    "\n",
    "    def __repr__(self):\n",
    "        res = \"->\".join(map(str, self))\n",
    "        return 'Top->' + res\n",
    "\n",
    "    def is_empty(self):\n",
    "        return self._top == -1\n",
    "\n",
    "    @abstractmethod\n",
    "    def __iter__(self):\n",
    "        raise NotImplementedError\n",
    "\n",
    "    @abstractmethod\n",
    "    def push(self, e):\n",
    "        raise NotImplementedError\n",
    "\n",
    "    @abstractmethod\n",
    "    def pop(self):\n",
    "        raise NotImplementedError\n",
    "\n",
    "    @abstractmethod\n",
    "    def peek(self):\n",
    "        raise NotImplementedError\n"
   ]
  },
  {
   "cell_type": "code",
   "execution_count": 6,
   "metadata": {
    "slideshow": {
     "slide_type": "slide"
    }
   },
   "outputs": [],
   "source": [
    "class LinkedListStack(AbstractStack):\n",
    "\n",
    "    def __init__(self):\n",
    "        super().__init__()\n",
    "        self._head = None\n",
    "\n",
    "    def __iter__(self):\n",
    "        p = self._head\n",
    "        while p is not None:\n",
    "            yield p._element\n",
    "            p = p._next\n",
    "\n",
    "    def push(self, e):\n",
    "        node = SinglyLinkedListNode(e)\n",
    "        node._next = self._head\n",
    "        self._head = node\n",
    "        self._top += 1\n",
    "\n",
    "    def pop(self):\n",
    "        if self.is_empty():\n",
    "            raise IndexError('Stack is empty')\n",
    "        res = self._head._element\n",
    "        self._head = self._head._next\n",
    "        self._top -= 1\n",
    "        return res\n",
    "\n",
    "    def peek(self):\n",
    "        if self.is_empty():\n",
    "            raise IndexError('Stack is empty')\n",
    "        return self._head._element"
   ]
  },
  {
   "cell_type": "code",
   "execution_count": 7,
   "metadata": {
    "slideshow": {
     "slide_type": "slide"
    }
   },
   "outputs": [
    {
     "data": {
      "text/plain": [
       "Top->4->3->2->1->0"
      ]
     },
     "execution_count": 7,
     "metadata": {},
     "output_type": "execute_result"
    }
   ],
   "source": [
    "stack = LinkedListStack()\n",
    "for i in range(5):\n",
    "    stack.push(i)\n",
    "stack"
   ]
  },
  {
   "cell_type": "code",
   "execution_count": 8,
   "metadata": {
    "slideshow": {
     "slide_type": "fragment"
    }
   },
   "outputs": [
    {
     "name": "stdout",
     "output_type": "stream",
     "text": [
      "4\n",
      "3\n",
      "2\n",
      "Top->1->0\n"
     ]
    }
   ],
   "source": [
    "print(stack.pop())\n",
    "print(stack.pop())\n",
    "print(stack.pop())\n",
    "print(stack)"
   ]
  },
  {
   "cell_type": "markdown",
   "metadata": {
    "slideshow": {
     "slide_type": "slide"
    }
   },
   "source": [
    "#### 基于单向链表的栈的时间复杂度\n",
    "\n",
    "|操作|示例|时间复杂度|\n",
    "|---|---|---|---|\n",
    "| Push | S.push(e) | O(1) |\n",
    "| Pop | S.pop() | O(1) |\n",
    "| Peek | S.peek() | O(1) |\n",
    "| Is empty | S.is_empty() | O(1) |\n",
    "| Length | len(S) | O(1) |"
   ]
  },
  {
   "cell_type": "markdown",
   "metadata": {
    "slideshow": {
     "slide_type": "slide"
    }
   },
   "source": [
    "### 利用单向链表实现一个队列\n",
    "\n",
    "- 需要维护头部和尾部两个指针\n",
    "- 因为很难在单向链表尾部删除元素，所以出队列的操作应该放在单向链表的头部完成\n",
    "- 入队在单向链表的尾部完成"
   ]
  },
  {
   "cell_type": "code",
   "execution_count": 9,
   "metadata": {
    "slideshow": {
     "slide_type": "slide"
    }
   },
   "outputs": [],
   "source": [
    "from abc import ABC, abstractmethod\n",
    "\n",
    "\n",
    "class AbstractQueue(ABC):\n",
    "\n",
    "    def __init__(self):\n",
    "        self._size = 0\n",
    "\n",
    "    def __len__(self):\n",
    "        return self._size\n",
    "\n",
    "    def __repr__(self):\n",
    "        return \"->\".join(map(str, self))\n",
    "\n",
    "    def is_empty(self):\n",
    "        return self._size == 0\n",
    "\n",
    "    @abstractmethod\n",
    "    def enqueue(self, e):\n",
    "        raise NotImplementedError\n",
    "\n",
    "    @abstractmethod\n",
    "    def dequeue(self):\n",
    "        raise NotImplementedError\n",
    "\n",
    "    @abstractmethod\n",
    "    def peek(self):\n",
    "        raise NotImplementedError\n",
    "\n",
    "    @abstractmethod\n",
    "    def __iter__(self):\n",
    "        raise NotImplementedError"
   ]
  },
  {
   "cell_type": "code",
   "execution_count": 13,
   "metadata": {
    "slideshow": {
     "slide_type": "slide"
    }
   },
   "outputs": [],
   "source": [
    "class LinkedListQueue(AbstractQueue):\n",
    "\n",
    "    def __init__(self):\n",
    "        super().__init__()\n",
    "        self._head = None\n",
    "        self._tail = None\n",
    "\n",
    "    def __iter__(self):\n",
    "        p = self._head\n",
    "        while p is not None:\n",
    "            yield p._element\n",
    "            p = p._next\n",
    "\n",
    "    def enqueue(self, e):\n",
    "        node = SinglyLinkedListNode(e)\n",
    "        if self.is_empty():\n",
    "            self._head = node\n",
    "        else:\n",
    "            self._tail._next = node\n",
    "        self._tail = node\n",
    "        self._size += 1\n",
    "\n",
    "    def dequeue(self):\n",
    "        if self.is_empty():\n",
    "            raise IndexError(\"Queue is empty\")\n",
    "        res = self._head._element\n",
    "        self._head = self._head._next\n",
    "        self._size -= 1\n",
    "        if self.is_empty():\n",
    "            self._tail = None\n",
    "        return res\n",
    "\n",
    "    def peek(self):\n",
    "        if self.is_empty():\n",
    "            raise IndexError(\"Queue is empty\")\n",
    "        return self._head._element"
   ]
  },
  {
   "cell_type": "code",
   "execution_count": 14,
   "metadata": {
    "slideshow": {
     "slide_type": "slide"
    }
   },
   "outputs": [
    {
     "name": "stdout",
     "output_type": "stream",
     "text": [
      "0->1->2->3->4\n"
     ]
    }
   ],
   "source": [
    "queue = LinkedListQueue()\n",
    "for i in range(5):\n",
    "    queue.enqueue(i)\n",
    "print(queue)"
   ]
  },
  {
   "cell_type": "code",
   "execution_count": 15,
   "metadata": {
    "slideshow": {
     "slide_type": "fragment"
    }
   },
   "outputs": [
    {
     "name": "stdout",
     "output_type": "stream",
     "text": [
      "0\n",
      "1\n",
      "2\n",
      "3->4\n"
     ]
    }
   ],
   "source": [
    "print(queue.dequeue())\n",
    "print(queue.dequeue())\n",
    "print(queue.dequeue())\n",
    "print(queue)"
   ]
  },
  {
   "cell_type": "markdown",
   "metadata": {
    "slideshow": {
     "slide_type": "slide"
    }
   },
   "source": [
    "## 环形链表\n",
    "\n",
    "### Circular Linked List\n",
    "\n",
    "- 将链表尾部的指针指向链表自己的头部\n",
    "- 相比利用数组和取模运算实现的环形结构，环形链表实现了物理上的闭环、\n",
    "\n",
    "![](img/7-3.png)"
   ]
  },
  {
   "cell_type": "markdown",
   "metadata": {
    "slideshow": {
     "slide_type": "slide"
    }
   },
   "source": [
    "### 利用环形链表实现环形队列\n",
    "\n",
    "- 只需要一个尾指针即可完成队列的基本操作\n",
    "- 新增一个rotate()方法实现队列的轮转（头部第一个元素排到队列的末尾，也可以理解为第一个元素出列后再入列）"
   ]
  },
  {
   "cell_type": "code",
   "execution_count": 17,
   "metadata": {},
   "outputs": [],
   "source": [
    "class CircularQueue(AbstractQueue):\n",
    "    def __init__(self):\n",
    "        super().__init__()\n",
    "        self._tail = None\n",
    "\n",
    "    def __iter__(self):\n",
    "        p = self._tail._next\n",
    "        while True:\n",
    "            yield p._element\n",
    "            if p is self._tail:\n",
    "                return\n",
    "            p = p._next\n",
    "\n",
    "    def enqueue(self, e):\n",
    "        node = SinglyLinkedListNode(e)\n",
    "        if self.is_empty():\n",
    "            node._next = node\n",
    "        else:\n",
    "            node._next = self._tail._next\n",
    "            self._tail._next = node\n",
    "        self._tail = node\n",
    "        self._size += 1\n",
    "\n",
    "    def dequeue(self):\n",
    "        remove_node = self._tail._next\n",
    "        if len(self) == 1:\n",
    "            self._tail = None\n",
    "        else:\n",
    "            self._tail._next = remove_node._next\n",
    "        self._size -= 1\n",
    "        return remove_node._element\n",
    "\n",
    "    def peek(self):\n",
    "        return self._tail._next._element\n",
    "\n",
    "    def rotate(self):\n",
    "        if len(self) > 0:\n",
    "            self._tail = self._tail._next"
   ]
  },
  {
   "cell_type": "code",
   "execution_count": 18,
   "metadata": {
    "slideshow": {
     "slide_type": "slide"
    }
   },
   "outputs": [
    {
     "name": "stdout",
     "output_type": "stream",
     "text": [
      "0->1->2->3->4\n",
      "0\n",
      "1\n"
     ]
    }
   ],
   "source": [
    "queue = CircularQueue()\n",
    "for i in range(5):\n",
    "    queue.enqueue(i)\n",
    "print(queue)\n",
    "print(queue.dequeue())\n",
    "print(queue.dequeue())"
   ]
  },
  {
   "cell_type": "code",
   "execution_count": 20,
   "metadata": {
    "slideshow": {
     "slide_type": "fragment"
    }
   },
   "outputs": [
    {
     "name": "stdout",
     "output_type": "stream",
     "text": [
      "2->3->4\n",
      "3->4->2\n"
     ]
    }
   ],
   "source": [
    "print(queue)\n",
    "queue.rotate()\n",
    "print(queue)"
   ]
  },
  {
   "cell_type": "markdown",
   "metadata": {
    "slideshow": {
     "slide_type": "slide"
    }
   },
   "source": [
    "## 双向链表\n",
    "\n",
    "因为单向链表的不对称性带来了一些缺陷：\n",
    "\n",
    "- 难以删除链表中除头节点外的任意节点"
   ]
  }
 ],
 "metadata": {
  "celltoolbar": "Slideshow",
  "kernelspec": {
   "display_name": "Python 3",
   "language": "python",
   "name": "python3"
  },
  "language_info": {
   "codemirror_mode": {
    "name": "ipython",
    "version": 3
   },
   "file_extension": ".py",
   "mimetype": "text/x-python",
   "name": "python",
   "nbconvert_exporter": "python",
   "pygments_lexer": "ipython3",
   "version": "3.6.5"
  }
 },
 "nbformat": 4,
 "nbformat_minor": 2
}
