{
 "cells": [
  {
   "cell_type": "markdown",
   "metadata": {
    "slideshow": {
     "slide_type": "slide"
    }
   },
   "source": [
    "### <center>2018 Winter CS101.03</center>\n",
    "\n",
    "# <center>算法分析</center>\n",
    "\n",
    "##### <center>by tanzhuxiaqiu@huawei.com</center>"
   ]
  },
  {
   "cell_type": "markdown",
   "metadata": {
    "slideshow": {
     "slide_type": "slide"
    }
   },
   "source": [
    "## 作业-01\n",
    "\n",
    "- 今日19:00截止\n",
    "- 简单讲解"
   ]
  },
  {
   "cell_type": "markdown",
   "metadata": {
    "slideshow": {
     "slide_type": "slide"
    }
   },
   "source": [
    "## 回顾\n",
    "\n",
    "- 学习了Python的基本语法和内置的数据结构\n",
    "- 了解了Python中面向对象的一些概念"
   ]
  },
  {
   "cell_type": "markdown",
   "metadata": {
    "slideshow": {
     "slide_type": "slide"
    }
   },
   "source": [
    "## 今日议程\n",
    "\n",
    "1. 实验研究\n",
    "2. 常用函数\n",
    "3. 渐进分析\n",
    "4. 算法分析实例"
   ]
  },
  {
   "cell_type": "markdown",
   "metadata": {
    "slideshow": {
     "slide_type": "slide"
    }
   },
   "source": [
    "## 实验研究\n",
    "\n",
    "- 通过time模块\n",
    "```python\n",
    "from time import perf_counter as pc\n",
    "start_time = pc()\n",
    "# run algorithm\n",
    "end_time = pc()\n",
    "elapsed = end_time - start_time\n",
    "```\n",
    "\n",
    "- timeit模块"
   ]
  },
  {
   "cell_type": "code",
   "execution_count": 1,
   "metadata": {
    "slideshow": {
     "slide_type": "slide"
    }
   },
   "outputs": [
    {
     "data": {
      "image/png": "[encoded data removed]",
      "text/plain": [
       "<Figure size 432x288 with 1 Axes>"
      ]
     },
     "metadata": {},
     "output_type": "display_data"
    }
   ],
   "source": [
    "#coding:utf-8\n",
    "import numpy as np\n",
    "import matplotlib.pyplot as plt\n",
    "%matplotlib inline\n",
    "plt.rcParams['font.sans-serif']=['SimHei'] #用来正常显示中文标签\n",
    "plt.rcParams['axes.unicode_minus']=False #用来正常显示负号\n",
    "\n",
    "def run_algorithm(n):\n",
    "    array = np.random.randint(n, size=n)\n",
    "    np.sort(array)\n",
    "\n",
    "x = []\n",
    "y = []\n",
    "from time import perf_counter as pc\n",
    "for n in range(100000, 4000000, 100000):\n",
    "    start_time = pc()\n",
    "    run_algorithm(n)\n",
    "    end_time = pc()\n",
    "    elapsed = end_time - start_time\n",
    "    x.append(n)\n",
    "    y.append(elapsed*1000)\n",
    "plt.scatter(x, y)\n",
    "plt.xlabel(u\"输入大小\")\n",
    "plt.ylabel(u\"运行时间/ms\") \n",
    "plt.show()"
   ]
  },
  {
   "cell_type": "code",
   "execution_count": 2,
   "metadata": {
    "slideshow": {
     "slide_type": "slide"
    }
   },
   "outputs": [
    {
     "name": "stdout",
     "output_type": "stream",
     "text": [
      "406 ms ± 25.4 ms per loop (mean ± std. dev. of 7 runs, 1 loop each)\n"
     ]
    }
   ],
   "source": [
    "%%timeit\n",
    "array = np.random.randint(4000000, size=4000000)\n",
    "np.sort(array)"
   ]
  },
  {
   "cell_type": "markdown",
   "metadata": {
    "slideshow": {
     "slide_type": "slide"
    }
   },
   "source": [
    "### 当前实验分析的局限性\n",
    "\n",
    "- 难以直接比较两个算法的实验运行时间，除非实验在相同的硬件和软件环境中执行\n",
    "- 实验只有在有限的一组测试输入中才能完成\n",
    "- 为了在实验上执行算法来研究其执行时间，算法必须完全实现"
   ]
  },
  {
   "cell_type": "markdown",
   "metadata": {
    "slideshow": {
     "slide_type": "slide"
    }
   },
   "source": [
    "### 改进的实验分析\n",
    "\n",
    "\n",
    "目标是设计一种分析算法效率的方法：\n",
    "\n",
    "- 在软硬件环境独立的情况下，在某种程度上允许我们评价任意两个算法的相对效率\n",
    "- 通过不需要具体实现的高层次算法描述来研究算法\n",
    "- 考虑所有可能的输入"
   ]
  },
  {
   "cell_type": "markdown",
   "metadata": {
    "slideshow": {
     "slide_type": "slide"
    }
   },
   "source": [
    "#### 计算原子操作\n",
    "\n",
    "一个原子操作相当于一个(组)低级别的指令，其执行时间是常数。\n",
    "\n",
    "- 对象赋值给一个标识符\n",
    "- 执行算术运算\n",
    "- 比较操作\n",
    "- 通过索引访问Python List中的一个元素\n",
    "- 通过索引访问Python字典的一个元素\n",
    "- 调用函数（不包括函数内的操作执行）\n",
    "- 从函数返回"
   ]
  },
  {
   "cell_type": "markdown",
   "metadata": {
    "slideshow": {
     "slide_type": "slide"
    }
   },
   "source": [
    "#### 随着输入函数的变化进行测量操作\n",
    "\n",
    "为计算一个算法运行时间的增长情况，把每个算法和函数的f(n)联系起来——执行原子操作的数量描述为输入大小n的函数f(n)"
   ]
  },
  {
   "cell_type": "markdown",
   "metadata": {
    "slideshow": {
     "slide_type": "slide"
    }
   },
   "source": [
    "#### 平均时间\n",
    "\n",
    "- 平均时间需要一组输入对应的概率分布\n",
    "- 涉及复杂的概率理论"
   ]
  },
  {
   "cell_type": "code",
   "execution_count": 3,
   "metadata": {
    "slideshow": {
     "slide_type": "fragment"
    }
   },
   "outputs": [
    {
     "data": {
      "image/png": "[encoded data removed]",
      "text/plain": [
       "<Figure size 432x288 with 1 Axes>"
      ]
     },
     "metadata": {},
     "output_type": "display_data"
    }
   ],
   "source": [
    "x = []\n",
    "y = []\n",
    "for n in range(6):\n",
    "    start_time = pc()\n",
    "    run_algorithm(4000000)\n",
    "    end_time = pc()\n",
    "    elapsed = end_time - start_time\n",
    "    x.append(n)\n",
    "    y.append(elapsed*1000)\n",
    "plt.bar(x, y)\n",
    "plt.show()"
   ]
  },
  {
   "cell_type": "markdown",
   "metadata": {
    "slideshow": {
     "slide_type": "slide"
    }
   },
   "source": [
    "#### 最坏时间\n",
    "\n",
    "- 最坏时间分析更为容易\n",
    "- 一般按照最坏情况把算法的运行时间表示为输入大小n的函数f(n)"
   ]
  },
  {
   "cell_type": "markdown",
   "metadata": {
    "slideshow": {
     "slide_type": "slide"
    }
   },
   "source": [
    "## 算法分析常用的函数\n",
    "\n",
    "1. 常数函数 $ f(n) = c $\n",
    "2. 对数函数 $ f(n) = log(n) $\n",
    "3. 线性函数 $ f(n) = n $\n",
    "4. nlogn函数 $ f(n) = n\\ log(n) $  \n",
    "5. 二次函数 $ f(n) = n^2 $  \n",
    "    *  $ \\sum_{i=0}^{n} {i} = \\frac{n(n+1)}{2} $\n",
    "6. 三次函数 $ f(n) = n^3 $\n",
    "7. 指数函数 $ f(n) = a^n $"
   ]
  },
  {
   "cell_type": "code",
   "execution_count": 4,
   "metadata": {
    "slideshow": {
     "slide_type": "slide"
    }
   },
   "outputs": [],
   "source": [
    "import timeit\n",
    "from functools import partial\n",
    "import random\n",
    "\n",
    "def fconst(N):\n",
    "    \"\"\"const function\n",
    "    \"\"\"\n",
    "    x = 1\n",
    "\n",
    "def flinear(N):\n",
    "    \"\"\"linear function\n",
    "    \"\"\"\n",
    "    x = [i for i in range(N)] \n",
    "    \n",
    "def fsquare(N):\n",
    "    \"\"\"square function\n",
    "    \"\"\"\n",
    "    for i in range(N):\n",
    "        for j in range(N):\n",
    "            x = i * j\n",
    "    \n",
    "def plotTC(fn, nMin, nMax, nInc, nTests):\n",
    "    \"\"\"Run timer and plot time complexity\n",
    "    \"\"\"\n",
    "    x = [] \n",
    "    y = []\n",
    "    for i in range(nMin, nMax, nInc):\n",
    "        N = i\n",
    "        testNTimer = timeit.Timer(partial(fn, N))\n",
    "        t = testNTimer.timeit(number=nTests)\n",
    "        x.append(i)\n",
    "        y.append(t) \n",
    "    plt.plot(x, y, 'o', label=fn.__name__)\n",
    "    "
   ]
  },
  {
   "cell_type": "code",
   "execution_count": 5,
   "metadata": {
    "slideshow": {
     "slide_type": "subslide"
    }
   },
   "outputs": [
    {
     "data": {
      "image/png": "[encoded data removed]",
      "text/plain": [
       "<Figure size 432x288 with 1 Axes>"
      ]
     },
     "metadata": {},
     "output_type": "display_data"
    }
   ],
   "source": [
    "plotTC(fconst, 10, 1000, 10, 10)\n",
    "plotTC(flinear, 10, 1000, 10, 10)\n",
    "plotTC(fsquare, 10, 1000, 10, 10)\n",
    "plt.legend()\n",
    "plt.show()"
   ]
  },
  {
   "cell_type": "markdown",
   "metadata": {
    "slideshow": {
     "slide_type": "slide"
    }
   },
   "source": [
    "## 渐进分析\n",
    "\n",
    "算法运行时间函数：对于输入为n的值，对应输出一个数据，用这个数据来反映关于n的增长率的主要因素。\n"
   ]
  },
  {
   "cell_type": "markdown",
   "metadata": {
    "slideshow": {
     "slide_type": "fragment"
    }
   },
   "source": [
    "#### 目的\n",
    "\n",
    "找到最能反映增长率的因素，比如\n",
    "- $f(n)=8n+5$\n",
    "- $f(n)=5n^4+3n^3+2n^2+4n+1$\n",
    "- $f(n)=5n^2+3n logn+2n+5$\n",
    "- $f(n)=3logn+2$\n",
    "\n",
    "的增长率怎么表示？"
   ]
  },
  {
   "cell_type": "markdown",
   "metadata": {
    "slideshow": {
     "slide_type": "slide"
    }
   },
   "source": [
    "### 大O符号\n",
    "\n",
    "> 对于$f(n)$和$g(n)$，如果有实数$c > 0$和整数$n_0 \\geq 1$   \n",
    "> 当$n \\geq n_0$时，满足 $f(n) \\leq cg(n)$   \n",
    "> 就认为 $f(n)$ 是 $O(g(n))$"
   ]
  },
  {
   "cell_type": "markdown",
   "metadata": {
    "slideshow": {
     "slide_type": "fragment"
    }
   },
   "source": [
    "![](./img/3-1.png)"
   ]
  },
  {
   "cell_type": "markdown",
   "metadata": {
    "slideshow": {
     "slide_type": "slide"
    }
   },
   "source": [
    "#### 渐进时间复杂度\n",
    "\n",
    "- $f(n)=8n+5$是$O(n)$量级\n",
    "- $f(n)=5n^4+3n^3+2n^2+4n+1$是$O(n^4)$量级\n",
    "- $f(n)=5n^2+3n logn+2n+5$是$O(n^2)$量级\n",
    "- $f(n)=3logn+2$是$O(logn)$量级\n",
    "- $f(n)=2^{n+2}$是$O(2^n)$量级\n",
    "\n",
    "> 大O时间复杂度又称为渐进时间复杂度(Asymptotic time complexity)   \n",
    "> 并不具体表示代码真正的执行时间，而表示代码执行时间随数据规模增长的变化趋势"
   ]
  },
  {
   "cell_type": "markdown",
   "metadata": {
    "slideshow": {
     "slide_type": "slide"
    }
   },
   "source": [
    "### 比较增长率\n",
    "\n",
    "| Big-O | Name |\n",
    "| --- | --- |\n",
    "| 1 | Constant |\n",
    "| log(n) | Logarithmic |\n",
    "| n\t| Linear |\n",
    "| nlog(n) | Log Linear |\n",
    "| n^2 |\tQuadratic |\n",
    "| n^3 |\tCubic |\n",
    "| 2^n |\tExponential |\n",
    "\n",
    "\n",
    "|$n$|O(1)|O(logn)|O(n)|O(nlogn)|O(n^2)|O(n^3)|O(2^n)|\n",
    "|------|------|------|------|------|------|------|------|\n",
    "|8    |1    |3    |8    |24   |64   | 512  | 256  |\n",
    "|16|1|4|16|64|256|4096|65536|\n",
    "|32|1|5|32|160|1024|32768|4294967296|\n",
    "|64|1|6|64|384|4096|262144|$1.84\\times10^{19}$|\n",
    "|128|1|7|128|896|16383|2097152|$3.40\\times10^{38}$|"
   ]
  },
  {
   "cell_type": "code",
   "execution_count": 6,
   "metadata": {
    "slideshow": {
     "slide_type": "subslide"
    }
   },
   "outputs": [
    {
     "data": {
      "image/png": "[encoded data removed]",
      "text/plain": [
       "<Figure size 864x720 with 1 Axes>"
      ]
     },
     "metadata": {},
     "output_type": "display_data"
    }
   ],
   "source": [
    "plt.style.use('bmh')\n",
    "# Set up runtime comparisons\n",
    "n = np.linspace(1,10,1000)\n",
    "labels = ['O(1)','O(log n)','O(n)','O(n*log n)','O(n^2)','O(n^3)','O(2^n)']\n",
    "big_o = [np.ones(n.shape),np.log(n),n,n*np.log(n),n**2,n**3,2**n]\n",
    "# Plot setup\n",
    "plt.figure(figsize=(12,10))\n",
    "plt.ylim(0,50)\n",
    "\n",
    "for i in range(len(big_o)):\n",
    "    plt.plot(n,big_o[i],label = labels[i])\n",
    "plt.legend(loc=0)\n",
    "plt.ylabel('Relative Runtime')\n",
    "plt.xlabel('n')\n",
    "plt.show()"
   ]
  },
  {
   "cell_type": "markdown",
   "metadata": {
    "slideshow": {
     "slide_type": "slide"
    }
   },
   "source": [
    "#### 渐进空间复杂度\n",
    "\n",
    "> 渐进空间复杂度(Asymptotic space complexity)，表示算法的存储空间与数据规模之间的增长关系\n",
    "\n",
    "- 常见的空间复杂度 $O(1)、O(n)、O(n^2)$\n",
    "- 相对时间复杂度分析简单"
   ]
  },
  {
   "cell_type": "markdown",
   "metadata": {
    "slideshow": {
     "slide_type": "fragment"
    }
   },
   "source": [
    "```python\n",
    "def foo(n):\n",
    "    l = list()\n",
    "    for i in range(n):\n",
    "        l.append(i)\n",
    "    return l\n",
    "```\n",
    "\n",
    "- 时间复杂度O(n)\n",
    "- 空间复杂度O(n)"
   ]
  },
  {
   "cell_type": "markdown",
   "metadata": {
    "slideshow": {
     "slide_type": "slide"
    }
   },
   "source": [
    "## 算法分析示例\n",
    "\n",
    "- 只关注循环执行次数最多的一段代码\n",
    "- 加法法则：总复杂度等于量级最大的那段代码的复杂度\n",
    "- 乘法法则：嵌套代码的复杂度等于嵌套内外代码复杂度的乘积"
   ]
  },
  {
   "cell_type": "markdown",
   "metadata": {
    "slideshow": {
     "slide_type": "subslide"
    }
   },
   "source": [
    "```python\n",
    "i = 10\n",
    "j = 20\n",
    "sum = i + j\n",
    "```"
   ]
  },
  {
   "cell_type": "markdown",
   "metadata": {
    "slideshow": {
     "slide_type": "fragment"
    }
   },
   "source": [
    "- 时间复杂度O(1)，不是<font color=\"#FF0000\">O(3)</font>\n",
    "- 一般情况下，只要算法中不存在循环语句、递归语句，即使有千万行代码，时间复杂度依然是O(1)"
   ]
  },
  {
   "cell_type": "markdown",
   "metadata": {
    "slideshow": {
     "slide_type": "subslide"
    }
   },
   "source": [
    "```python\n",
    "i = 1\n",
    "n = 100\n",
    "while i <= n:\n",
    "    i = i * 2\n",
    "```"
   ]
  },
  {
   "cell_type": "markdown",
   "metadata": {
    "slideshow": {
     "slide_type": "fragment"
    }
   },
   "source": [
    "- 时间复杂度O(logn)\n",
    "- 关注循环的终止条件"
   ]
  },
  {
   "cell_type": "markdown",
   "metadata": {
    "slideshow": {
     "slide_type": "fragment"
    }
   },
   "source": [
    "```python\n",
    "i = 1\n",
    "n = 100\n",
    "while i <= n:\n",
    "    i = i * 3\n",
    "```"
   ]
  },
  {
   "cell_type": "markdown",
   "metadata": {
    "slideshow": {
     "slide_type": "fragment"
    }
   },
   "source": [
    "- 时间复杂度还是O(logn)，不是<font color=\"red\">$O(log_3 n)$</font>\n",
    "- $log_3n = log_32 \\times log_2n$"
   ]
  },
  {
   "cell_type": "markdown",
   "metadata": {
    "slideshow": {
     "slide_type": "subslide"
    }
   },
   "source": [
    "```python\n",
    "def foo(m, n):\n",
    "    sum = 0\n",
    "    for i in range(m):\n",
    "        sum += i\n",
    "    for j in range(n):\n",
    "        sum += j\n",
    "    return sum\n",
    "```"
   ]
  },
  {
   "cell_type": "markdown",
   "metadata": {
    "slideshow": {
     "slide_type": "fragment"
    }
   },
   "source": [
    "- 时间复杂度O(m+n)\n",
    "- 不确定m和n的数据规模，不能简单的省略掉"
   ]
  },
  {
   "cell_type": "markdown",
   "metadata": {
    "slideshow": {
     "slide_type": "subslide"
    }
   },
   "source": [
    "```python\n",
    "def find_max(data):\n",
    "    \"\"\"Return the maximum element from a nonempty Python list.\n",
    "    \"\"\"\n",
    "    max = data[0]\n",
    "    for val in data:\n",
    "        if val > max:\n",
    "            max = val\n",
    "    return max\n",
    "```"
   ]
  },
  {
   "cell_type": "markdown",
   "metadata": {
    "slideshow": {
     "slide_type": "fragment"
    }
   },
   "source": [
    "- O(n)\n",
    "- 最坏时间"
   ]
  },
  {
   "cell_type": "code",
   "execution_count": 7,
   "metadata": {
    "slideshow": {
     "slide_type": "subslide"
    }
   },
   "outputs": [],
   "source": [
    "def prefix_average1(S):\n",
    "    \"\"\"Return list such that, for all j, A[j] equals average of S[0], ..., S[j].\n",
    "    \"\"\"\n",
    "    n = len(S)\n",
    "    A = [0] * n\n",
    "    for j in range(n): \n",
    "        total = 0 \n",
    "        for i in range(j+1):\n",
    "            total += S[i]\n",
    "        A[j] = total / (j+1)\n",
    "    return A"
   ]
  },
  {
   "cell_type": "markdown",
   "metadata": {
    "slideshow": {
     "slide_type": "fragment"
    }
   },
   "source": [
    "- $O(n^2)$\n",
    "- $ \\sum_{i=0}^{n} {i} = \\frac{n(n+1)}{2} $"
   ]
  },
  {
   "cell_type": "code",
   "execution_count": 9,
   "metadata": {
    "slideshow": {
     "slide_type": "subslide"
    }
   },
   "outputs": [],
   "source": [
    "def prefix_average2(S):\n",
    "    \"\"\"Return list such that, for all j, A[j] equals average of S[0], ..., S[j].\n",
    "    \"\"\"\n",
    "    n = len(S)\n",
    "    A = [0] * n\n",
    "    for j in range(n):\n",
    "        A[j] = sum(S[0:j+1]) / (j+1)\n",
    "    return A"
   ]
  },
  {
   "cell_type": "markdown",
   "metadata": {
    "slideshow": {
     "slide_type": "fragment"
    }
   },
   "source": [
    "- $O(n^2)$\n",
    "- sum函数调用是O(1)，但sum函数内部是O(j+1)"
   ]
  },
  {
   "cell_type": "code",
   "execution_count": 10,
   "metadata": {
    "slideshow": {
     "slide_type": "subslide"
    }
   },
   "outputs": [],
   "source": [
    "def prefix_average3(S):\n",
    "    \"\"\"Return list such that, for all j, A[j] equals average of S[0], ..., S[j].\n",
    "    \"\"\"\n",
    "    n = len(S)\n",
    "    A = [0] * n\n",
    "    total = 0\n",
    "    for j in range(n):\n",
    "        total += S[j]\n",
    "        A[j] = total / (j+1)\n",
    "    return A"
   ]
  },
  {
   "cell_type": "markdown",
   "metadata": {
    "slideshow": {
     "slide_type": "fragment"
    }
   },
   "source": [
    "- O(n)"
   ]
  },
  {
   "cell_type": "code",
   "execution_count": 11,
   "metadata": {
    "slideshow": {
     "slide_type": "subslide"
    }
   },
   "outputs": [
    {
     "name": "stdout",
     "output_type": "stream",
     "text": [
      "42 ms ± 1.84 ms per loop (mean ± std. dev. of 7 runs, 10 loops each)\n",
      "7.5 ms ± 155 µs per loop (mean ± std. dev. of 7 runs, 100 loops each)\n",
      "306 µs ± 19.6 µs per loop (mean ± std. dev. of 7 runs, 1000 loops each)\n"
     ]
    }
   ],
   "source": [
    "%timeit prefix_average1([x for x in range(1000)])\n",
    "%timeit prefix_average2([x for x in range(1000)])\n",
    "%timeit prefix_average3([x for x in range(1000)])"
   ]
  },
  {
   "cell_type": "markdown",
   "metadata": {
    "slideshow": {
     "slide_type": "slide"
    }
   },
   "source": [
    "## 课后阅读\n",
    "\n",
    "阅读两篇相关资料\n",
    "\n",
    "* [Big-O Notation Explained](http://stackoverflow.com/questions/487258/plain-english-explanation-of-big-o/487278#487278)\n",
    "\n",
    "* [Big-O Examples Explained](http://stackoverflow.com/questions/2307283/what-does-olog-n-mean-exactly)"
   ]
  },
  {
   "cell_type": "markdown",
   "metadata": {
    "slideshow": {
     "slide_type": "slide"
    }
   },
   "source": [
    "# Any Questions?"
   ]
  }
 ],
 "metadata": {
  "celltoolbar": "Slideshow",
  "kernelspec": {
   "display_name": "Python 3",
   "language": "python",
   "name": "python3"
  },
  "language_info": {
   "codemirror_mode": {
    "name": "ipython",
    "version": 3
   },
   "file_extension": ".py",
   "mimetype": "text/x-python",
   "name": "python",
   "nbconvert_exporter": "python",
   "pygments_lexer": "ipython3",
   "version": "3.6.5"
  }
 },
 "nbformat": 4,
 "nbformat_minor": 2
}
