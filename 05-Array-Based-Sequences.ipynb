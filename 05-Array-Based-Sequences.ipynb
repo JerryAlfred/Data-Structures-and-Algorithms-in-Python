{
 "cells": [
  {
   "cell_type": "markdown",
   "metadata": {
    "slideshow": {
     "slide_type": "slide"
    }
   },
   "source": [
    "### <center>2018 Winter CS101.05</center>\n",
    "\n",
    "# <center>基于数组的序列</center>\n",
    "\n",
    "##### <center>by tanzhuxiaqiu@huawei.com</center>"
   ]
  },
  {
   "cell_type": "markdown",
   "metadata": {
    "slideshow": {
     "slide_type": "slide"
    }
   },
   "source": [
    "## 课后作业-01\n",
    "\n",
    "- 今日截止\n",
    "- 习题讲解"
   ]
  },
  {
   "cell_type": "markdown",
   "metadata": {
    "slideshow": {
     "slide_type": "slide"
    }
   },
   "source": [
    "## 今日议程\n",
    "\n",
    "1. Python的序列类型\n",
    "2. 底层数组结构\n",
    "3. 动态数组和摊销\n",
    "4. Python序列类型的效率\n",
    "5. 多维数组"
   ]
  },
  {
   "cell_type": "markdown",
   "metadata": {
    "slideshow": {
     "slide_type": "slide"
    }
   },
   "source": [
    "## Python的序列类型\n",
    "\n",
    "Python内置了各种“序列”类，这些类底层都使用了类似数组的结构，它们都支持下标访问，如seq[k]：\n",
    "\n",
    "- 列表(list)\n",
    "- 元祖(tuple)\n",
    "- 字符串(str)\n",
    "\n",
    "\n"
   ]
  },
  {
   "cell_type": "markdown",
   "metadata": {
    "slideshow": {
     "slide_type": "fragment"
    }
   },
   "source": [
    "本课程重点介绍序列的：\n",
    "\n",
    "- 行为\n",
    "- 实现细节\n",
    "- 效率分析"
   ]
  },
  {
   "cell_type": "markdown",
   "metadata": {
    "slideshow": {
     "slide_type": "slide"
    }
   },
   "source": [
    "## 底层数组结构\n",
    "\n",
    "- 1byte = 8bit\n",
    "- RAM(Ramdom Access Memory)\n",
    "- 内存地址\n",
    "- 数组：存储在计算机储存器内的一块连续的变量"
   ]
  },
  {
   "cell_type": "markdown",
   "metadata": {
    "slideshow": {
     "slide_type": "fragment"
    }
   },
   "source": [
    "![](./img/5-1.png)"
   ]
  },
  {
   "cell_type": "markdown",
   "metadata": {
    "slideshow": {
     "slide_type": "slide"
    }
   },
   "source": [
    "# Any Questions?"
   ]
  }
 ],
 "metadata": {
  "celltoolbar": "Slideshow",
  "kernelspec": {
   "display_name": "Python 3",
   "language": "python",
   "name": "python3"
  },
  "language_info": {
   "codemirror_mode": {
    "name": "ipython",
    "version": 3
   },
   "file_extension": ".py",
   "mimetype": "text/x-python",
   "name": "python",
   "nbconvert_exporter": "python",
   "pygments_lexer": "ipython3",
   "version": "3.6.5"
  }
 },
 "nbformat": 4,
 "nbformat_minor": 2
}
