{
 "cells": [
  {
   "cell_type": "markdown",
   "metadata": {
    "slideshow": {
     "slide_type": "slide"
    }
   },
   "source": [
    "### <center>2018 Winter CS101.05</center>\n",
    "\n",
    "# <center>基于数组的序列</center>\n",
    "\n",
    "##### <center>by tanzhuxiaqiu@huawei.com</center>"
   ]
  },
  {
   "cell_type": "markdown",
   "metadata": {
    "slideshow": {
     "slide_type": "slide"
    }
   },
   "source": [
    "## 课后作业-01\n",
    "\n",
    "- 今日截止\n",
    "- 习题讲解"
   ]
  },
  {
   "cell_type": "markdown",
   "metadata": {
    "slideshow": {
     "slide_type": "slide"
    }
   },
   "source": [
    "## 今日议程\n",
    "\n",
    "1. Python的序列类型\n",
    "2. 底层数组结构\n",
    "3. 动态数组和摊销\n",
    "4. Python序列类型的效率\n",
    "5. 多维数组"
   ]
  },
  {
   "cell_type": "markdown",
   "metadata": {
    "slideshow": {
     "slide_type": "slide"
    }
   },
   "source": [
    "## Python的序列类型\n",
    "\n",
    "Python内置了各种“序列”类，这些类底层都使用了类似数组的结构，它们都支持下标访问，如seq[k]：\n",
    "\n",
    "- 列表(list)\n",
    "- 元祖(tuple)\n",
    "- 字符串(str)\n",
    "\n",
    "\n"
   ]
  },
  {
   "cell_type": "markdown",
   "metadata": {
    "slideshow": {
     "slide_type": "fragment"
    }
   },
   "source": [
    "本课程重点介绍序列的：\n",
    "\n",
    "- 行为\n",
    "- 实现细节\n",
    "- 效率分析"
   ]
  },
  {
   "cell_type": "markdown",
   "metadata": {
    "slideshow": {
     "slide_type": "slide"
    }
   },
   "source": [
    "## 底层数组结构\n",
    "\n",
    "- 1byte = 8bit\n",
    "- RAM(Ramdom Access Memory)\n",
    "    - 认为存储器的任一单个字节被存储或检索的运行时间为O(1)\n",
    "- 内存地址\n",
    "- 广义上的数组结构：利用计算机储存器内的一块连续的存储空间，来存储一组具有相同类型的数据\n",
    "    - 线性结构\n",
    "    - 随机访问"
   ]
  },
  {
   "cell_type": "markdown",
   "metadata": {
    "slideshow": {
     "slide_type": "fragment"
    }
   },
   "source": [
    "![](./img/5-2.png)"
   ]
  },
  {
   "cell_type": "markdown",
   "metadata": {
    "slideshow": {
     "slide_type": "fragment"
    }
   },
   "source": [
    "数组根据下标随机访问的寻址公式：\n",
    "\n",
    "> a[i]_address = base_address + i * data_type_size"
   ]
  },
  {
   "cell_type": "markdown",
   "metadata": {
    "slideshow": {
     "slide_type": "slide"
    }
   },
   "source": [
    "### Python中的引用数组\n",
    "\n",
    "Python内置的**list**和**tuple**类型底层使用一块连续的内存地址来存储对象的引用\n",
    "\n",
    "![](./img/5-3.png)\n"
   ]
  },
  {
   "cell_type": "code",
   "execution_count": 1,
   "metadata": {
    "slideshow": {
     "slide_type": "slide"
    }
   },
   "outputs": [],
   "source": [
    "primes = [2, 3, 5, 7, 11, 13, 17, 19]\n",
    "temp = primes[3:6]"
   ]
  },
  {
   "cell_type": "markdown",
   "metadata": {
    "slideshow": {
     "slide_type": "fragment"
    }
   },
   "source": [
    "![](./img/5-4.png)"
   ]
  },
  {
   "cell_type": "code",
   "execution_count": 18,
   "metadata": {
    "slideshow": {
     "slide_type": "fragment"
    }
   },
   "outputs": [
    {
     "name": "stdout",
     "output_type": "stream",
     "text": [
      "[7, 11, 15]\n",
      "[2, 3, 5, 7, 11, 13, 17, 19, 23, 29, 31]\n"
     ]
    }
   ],
   "source": [
    "temp[2] = 15\n",
    "print(temp)\n",
    "print(primes)"
   ]
  },
  {
   "cell_type": "markdown",
   "metadata": {
    "slideshow": {
     "slide_type": "fragment"
    }
   },
   "source": [
    "![](./img/5-5.png)"
   ]
  },
  {
   "cell_type": "code",
   "execution_count": 7,
   "metadata": {
    "slideshow": {
     "slide_type": "subslide"
    }
   },
   "outputs": [
    {
     "data": {
      "text/plain": [
       "[0, 0, 0, 0, 0, 0, 0, 0]"
      ]
     },
     "execution_count": 7,
     "metadata": {},
     "output_type": "execute_result"
    }
   ],
   "source": [
    "counters = [0] * 8\n",
    "counters"
   ]
  },
  {
   "cell_type": "markdown",
   "metadata": {
    "slideshow": {
     "slide_type": "fragment"
    }
   },
   "source": [
    "![](./img/5-6.png)"
   ]
  },
  {
   "cell_type": "code",
   "execution_count": 8,
   "metadata": {
    "slideshow": {
     "slide_type": "fragment"
    }
   },
   "outputs": [
    {
     "data": {
      "text/plain": [
       "[0, 0, 1, 0, 0, 0, 0, 0]"
      ]
     },
     "execution_count": 8,
     "metadata": {},
     "output_type": "execute_result"
    }
   ],
   "source": [
    "counters[2] += 1\n",
    "counters"
   ]
  },
  {
   "cell_type": "markdown",
   "metadata": {
    "slideshow": {
     "slide_type": "fragment"
    }
   },
   "source": [
    "![](./img/5-7.png)"
   ]
  },
  {
   "cell_type": "code",
   "execution_count": 15,
   "metadata": {
    "slideshow": {
     "slide_type": "fragment"
    }
   },
   "outputs": [
    {
     "name": "stdout",
     "output_type": "stream",
     "text": [
      "1654942752\n",
      "1654942752\n",
      "1654942784\n",
      "1654942752\n",
      "1654942752\n",
      "1654942752\n",
      "1654942752\n",
      "1654942752\n"
     ]
    }
   ],
   "source": [
    "for i in range(len(counters)):\n",
    "    print(id(counters[i]))"
   ]
  },
  {
   "cell_type": "code",
   "execution_count": 10,
   "metadata": {
    "slideshow": {
     "slide_type": "subslide"
    }
   },
   "outputs": [
    {
     "data": {
      "text/plain": [
       "[2, 3, 5, 7, 11, 13, 17, 19, 23, 29, 31]"
      ]
     },
     "execution_count": 10,
     "metadata": {},
     "output_type": "execute_result"
    }
   ],
   "source": [
    "extras = [23, 29, 31]\n",
    "primes.extend(extras)\n",
    "primes"
   ]
  },
  {
   "cell_type": "markdown",
   "metadata": {
    "slideshow": {
     "slide_type": "fragment"
    }
   },
   "source": [
    "![](img/5-8.png)"
   ]
  },
  {
   "cell_type": "code",
   "execution_count": 14,
   "metadata": {
    "slideshow": {
     "slide_type": "fragment"
    }
   },
   "outputs": [
    {
     "data": {
      "text/plain": [
       "True"
      ]
     },
     "execution_count": 14,
     "metadata": {},
     "output_type": "execute_result"
    }
   ],
   "source": [
    "id(extras[0]) == id(primes[8])"
   ]
  },
  {
   "cell_type": "markdown",
   "metadata": {
    "slideshow": {
     "slide_type": "slide"
    }
   },
   "source": [
    "### Python中的紧凑数组\n",
    "\n",
    "- 不再像引用数组一样存储内存的地址，更高效利用内存空间\n",
    "- 紧凑数组中的元素在内存里中是连续存放的\n",
    "- array模块"
   ]
  },
  {
   "cell_type": "code",
   "execution_count": 2,
   "metadata": {
    "slideshow": {
     "slide_type": "fragment"
    }
   },
   "outputs": [
    {
     "data": {
      "text/plain": [
       "array('i', [2, 3, 5, 7, 11, 13, 17, 19])"
      ]
     },
     "execution_count": 2,
     "metadata": {},
     "output_type": "execute_result"
    }
   ],
   "source": [
    "from array import array\n",
    "primes = array('i', [2, 3, 5, 7, 11, 13, 17, 19])\n",
    "primes"
   ]
  },
  {
   "cell_type": "markdown",
   "metadata": {
    "slideshow": {
     "slide_type": "fragment"
    }
   },
   "source": [
    "- array模块支持的类型\n",
    "\n",
    "|参数|数据类型|字节数|\n",
    "|---|---|---|\n",
    "|'b'|signed char|1|\n",
    "|'B'|unsigned char|1|\n",
    "|'u'|Unicode char|2/4|\n",
    "|'h'|signed short int|2|\n",
    "|'H'|unsigned short int|2|\n",
    "|'i'|signed int|2/4|\n",
    "|'I'|unsigned int|2/4|\n",
    "|'l'|signed long int|4|\n",
    "|'L'|unsigned long int|4|\n",
    "|'f'|float|4|\n",
    "|'d'|double|8|"
   ]
  },
  {
   "cell_type": "markdown",
   "metadata": {
    "slideshow": {
     "slide_type": "slide"
    }
   },
   "source": [
    "## 动态数组和均摊\n",
    "\n",
    "Python的list类可以视为一种动态数组的实现"
   ]
  },
  {
   "cell_type": "code",
   "execution_count": 13,
   "metadata": {
    "slideshow": {
     "slide_type": "fragment"
    }
   },
   "outputs": [
    {
     "name": "stdout",
     "output_type": "stream",
     "text": [
      "List length:   0; Size in bytes:   64\n",
      "List length:   1; Size in bytes:   96\n",
      "List length:   2; Size in bytes:   96\n",
      "List length:   3; Size in bytes:   96\n",
      "List length:   4; Size in bytes:   96\n",
      "List length:   5; Size in bytes:  128\n",
      "List length:   6; Size in bytes:  128\n",
      "List length:   7; Size in bytes:  128\n",
      "List length:   8; Size in bytes:  128\n",
      "List length:   9; Size in bytes:  192\n"
     ]
    }
   ],
   "source": [
    "import sys\n",
    "data = []\n",
    "for k in range(10):\n",
    "    l = len(data)\n",
    "    s = sys.getsizeof(data)\n",
    "    print('List length: {0:3d}; Size in bytes: {1:4d}'.format(l, s))\n",
    "    data.append(k)"
   ]
  },
  {
   "cell_type": "markdown",
   "metadata": {
    "slideshow": {
     "slide_type": "slide"
    }
   },
   "source": [
    "### 实现一个动态数组\n",
    "\n",
    "当数组A的容量达到上限，需要插入新的元素时，扩展数组A的步骤如下：\n",
    "\n",
    "1. 新分配一个更大的数组B；\n",
    "2. 令B[i]=A[i] (i=0,1,2...,n-1)；\n",
    "3. 令A=B, 在新分配的空间内添加元素；"
   ]
  },
  {
   "cell_type": "markdown",
   "metadata": {
    "slideshow": {
     "slide_type": "fragment"
    }
   },
   "source": [
    "![](img/5-9.png)"
   ]
  },
  {
   "cell_type": "code",
   "execution_count": 14,
   "metadata": {
    "slideshow": {
     "slide_type": "subslide"
    }
   },
   "outputs": [],
   "source": [
    "import ctypes\n",
    "\n",
    "\n",
    "class DynamicArray:\n",
    "    \"\"\"A simplified Python list which provides low-level array.\n",
    "    \"\"\"\n",
    "\n",
    "    def __init__(self):\n",
    "        \"\"\"Create an empty array when initialied.\n",
    "        \"\"\"\n",
    "        self._len = 0\n",
    "        self._cap = 1\n",
    "        self._A = self._make_array(self._cap)\n",
    "\n",
    "    def _make_array(self, cap):\n",
    "        \"\"\"Return new array with capacity.\n",
    "        \"\"\"\n",
    "        return (cap * ctypes.py_object)()\n",
    "\n",
    "    def __len__(self):\n",
    "        \"\"\"Return the number of elements in array.\n",
    "        \"\"\"\n",
    "        return self._len\n",
    "\n",
    "    def __getitem__(self, k):\n",
    "        \"\"\"Return the element of array which indexed at k.\n",
    "        \"\"\"\n",
    "        if not 0 <= k <= self._len:\n",
    "            raise IndexError(\"wrong index\")\n",
    "        return self._A[k]\n",
    "\n",
    "    def append(self, element):\n",
    "        \"\"\"Add element to the end of array.\n",
    "        \"\"\"\n",
    "        if self._len == self._cap:\n",
    "            self._resize(2 * self._cap)\n",
    "        self._A[self._len] = element\n",
    "        self._len += 1\n",
    "\n",
    "    def _resize(self, cap):\n",
    "        B = self._make_array(cap)\n",
    "        for i in range(self._len):\n",
    "            B[i] = self._A[i]\n",
    "        self._A = B\n",
    "        self._cap = cap"
   ]
  },
  {
   "cell_type": "code",
   "execution_count": 18,
   "metadata": {
    "slideshow": {
     "slide_type": "subslide"
    }
   },
   "outputs": [
    {
     "name": "stdout",
     "output_type": "stream",
     "text": [
      "DynamicArray length:   0; capacity:    1\n",
      "DynamicArray length:   1; capacity:    1\n",
      "DynamicArray length:   2; capacity:    2\n",
      "DynamicArray length:   3; capacity:    4\n",
      "DynamicArray length:   4; capacity:    4\n",
      "DynamicArray length:   5; capacity:    8\n",
      "DynamicArray length:   6; capacity:    8\n",
      "DynamicArray length:   7; capacity:    8\n",
      "DynamicArray length:   8; capacity:    8\n",
      "DynamicArray length:   9; capacity:   16\n"
     ]
    }
   ],
   "source": [
    "da = DynamicArray()\n",
    "for k in range(10):\n",
    "    l = len(da)\n",
    "    s = da._cap\n",
    "    print('DynamicArray length: {0:3d}; capacity: {1:4d}'.format(l, s))\n",
    "    da.append(k)"
   ]
  },
  {
   "cell_type": "markdown",
   "metadata": {
    "slideshow": {
     "slide_type": "slide"
    }
   },
   "source": [
    "### 动态数组的均摊分析"
   ]
  },
  {
   "cell_type": "markdown",
   "metadata": {
    "slideshow": {
     "slide_type": "subslide"
    }
   },
   "source": [
    "![](img/5-10.png)"
   ]
  },
  {
   "cell_type": "markdown",
   "metadata": {
    "slideshow": {
     "slide_type": "slide"
    }
   },
   "source": [
    "# Any Questions?"
   ]
  }
 ],
 "metadata": {
  "celltoolbar": "Slideshow",
  "kernelspec": {
   "display_name": "Python 3",
   "language": "python",
   "name": "python3"
  },
  "language_info": {
   "codemirror_mode": {
    "name": "ipython",
    "version": 3
   },
   "file_extension": ".py",
   "mimetype": "text/x-python",
   "name": "python",
   "nbconvert_exporter": "python",
   "pygments_lexer": "ipython3",
   "version": "3.6.5"
  }
 },
 "nbformat": 4,
 "nbformat_minor": 2
}
