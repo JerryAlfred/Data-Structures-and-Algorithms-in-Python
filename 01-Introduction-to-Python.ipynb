{
 "cells": [
  {
   "cell_type": "markdown",
   "metadata": {
    "slideshow": {
     "slide_type": "slide"
    }
   },
   "source": [
    "### <center>2018 Winter CS101.01</center>\n",
    "\n",
    "# <center>Python入门</center>\n",
    "\n",
    "##### <center>by tanzhuxiaqiu@huawei.com</center>"
   ]
  },
  {
   "attachments": {},
   "cell_type": "markdown",
   "metadata": {
    "slideshow": {
     "slide_type": "slide"
    }
   },
   "source": [
    "## 今日议程\n",
    "\n",
    "1. Python概述\n",
    "2. Python对象\n",
    "3. 表达式和运算符\n",
    "4. 控制流程\n",
    "5. 函数\n",
    "6. 输入与输出\n",
    "7. 异常处理\n",
    "8. 迭代器和生成器\n",
    "9. Pythonic\n",
    "10. 作用域和命名空间"
   ]
  },
  {
   "cell_type": "markdown",
   "metadata": {
    "slideshow": {
     "slide_type": "slide"
    }
   },
   "source": [
    "## Python 概述\n",
    "\n",
    "* Python语言最初由Guido van Rossum于20世纪90年代初开发\n",
    "* 目前主要版本为Python2.x和Python3.x\n",
    "* 本课程基于Python3编写"
   ]
  },
  {
   "cell_type": "markdown",
   "metadata": {
    "slideshow": {
     "slide_type": "slide"
    }
   },
   "source": [
    "### Python解释器\n",
    "\n",
    "#### 解释型语言\n",
    "* 逐行接收并执行\n",
    "* 可以交互"
   ]
  },
  {
   "cell_type": "code",
   "execution_count": 28,
   "metadata": {
    "slideshow": {
     "slide_type": "fragment"
    }
   },
   "outputs": [
    {
     "name": "stdout",
     "output_type": "stream",
     "text": [
      "Hello, Python!\n"
     ]
    }
   ],
   "source": [
    "print(\"Hello, Python!\")"
   ]
  },
  {
   "cell_type": "markdown",
   "metadata": {
    "slideshow": {
     "slide_type": "subslide"
    }
   },
   "source": [
    "#### 源代码或脚本\n",
    "* 扩展名为 .py"
   ]
  },
  {
   "cell_type": "markdown",
   "metadata": {
    "slideshow": {
     "slide_type": "fragment"
    }
   },
   "source": [
    "#### 集成开发环境(IDE)\n",
    "* ipython\n",
    "* jupyter notebook\n",
    "* pycharm"
   ]
  },
  {
   "cell_type": "markdown",
   "metadata": {
    "slideshow": {
     "slide_type": "slide"
    }
   },
   "source": [
    "### 初识Python程序\n",
    "* 缩进\n",
    "* 注释"
   ]
  },
  {
   "cell_type": "code",
   "execution_count": 29,
   "metadata": {
    "slideshow": {
     "slide_type": "slide"
    }
   },
   "outputs": [
    {
     "name": "stdout",
     "output_type": "stream",
     "text": [
      "Welcome to the GPA calculator\n",
      "Please enter all your letter grades, one per line.\n",
      "Enter a blank line to designate the end.\n",
      "A+\n",
      "B\n",
      "C\n",
      "\n",
      "Your GPA is 3.0\n"
     ]
    }
   ],
   "source": [
    "print(\"Welcome to the GPA calculator\")\n",
    "print(\"Please enter all your letter grades, one per line.\")\n",
    "print(\"Enter a blank line to designate the end.\")\n",
    "\n",
    "# map from letter grade to point value\n",
    "points = {\n",
    "    'A+': 4.0,\n",
    "    'A': 3.8,\n",
    "    'A-': 3.67,\n",
    "    'B+': 3.33,\n",
    "    'B': 3.0,\n",
    "    'B-': 2.67,\n",
    "    'C+': 2.33,\n",
    "    'C': 2.0,\n",
    "    'C-': 1.67,\n",
    "    'D': 1.0,\n",
    "    'F': 0.0,\n",
    "}\n",
    "num_courses = 0\n",
    "total_points = 0\n",
    "done = False\n",
    "\n",
    "while not done:\n",
    "    # readline from user input\n",
    "    grade = input()\n",
    "    if grade == '': # empty line was entered\n",
    "        done = True\n",
    "    elif grade not in points:\n",
    "        print(\"Unknow grade '{0}' being ignored\".format(grade))\n",
    "    else:\n",
    "        num_courses += 1\n",
    "        total_points += points[grade]\n",
    "\n",
    "if num_courses > 0: # avoid division by zero\n",
    "    print(\"Your GPA is {0:.3}\".format(total_points / num_courses))"
   ]
  },
  {
   "cell_type": "markdown",
   "metadata": {
    "slideshow": {
     "slide_type": "slide"
    }
   },
   "source": [
    "## Python 对象 \n",
    "\n",
    "Python是一种面向对象的语言，**类**是所有数据类型的基础。"
   ]
  },
  {
   "cell_type": "markdown",
   "metadata": {
    "slideshow": {
     "slide_type": "slide"
    }
   },
   "source": [
    "### 标识符、对象和赋值语句\n",
    "\n",
    "* 标识符由任意字母、数字和下划线组成, 大小写敏感\n",
    "* Python是动态型语言，不需要声明数据类型\n",
    "* 类似其他语言中的引用变量或指针变量\n",
    "* 可以通过向现有对象指定第二个标识符建立一个*别名*"
   ]
  },
  {
   "cell_type": "code",
   "execution_count": 24,
   "metadata": {
    "slideshow": {
     "slide_type": "slide"
    }
   },
   "outputs": [
    {
     "data": {
      "text/plain": [
       "98.6"
      ]
     },
     "execution_count": 24,
     "metadata": {},
     "output_type": "execute_result"
    }
   ],
   "source": [
    "temperature = 98.6\n",
    "temperature"
   ]
  },
  {
   "cell_type": "markdown",
   "metadata": {
    "slideshow": {
     "slide_type": "fragment"
    }
   },
   "source": [
    "![标识符](./img/1-1.svg)"
   ]
  },
  {
   "cell_type": "code",
   "execution_count": 25,
   "metadata": {
    "scrolled": true,
    "slideshow": {
     "slide_type": "fragment"
    }
   },
   "outputs": [
    {
     "data": {
      "text/plain": [
       "98.6"
      ]
     },
     "execution_count": 25,
     "metadata": {},
     "output_type": "execute_result"
    }
   ],
   "source": [
    "original = temperature\n",
    "original"
   ]
  },
  {
   "cell_type": "markdown",
   "metadata": {
    "slideshow": {
     "slide_type": "fragment"
    }
   },
   "source": [
    "![标识符](./img/1-2.svg)"
   ]
  },
  {
   "cell_type": "code",
   "execution_count": 26,
   "metadata": {
    "slideshow": {
     "slide_type": "subslide"
    }
   },
   "outputs": [
    {
     "data": {
      "text/plain": [
       "103.6"
      ]
     },
     "execution_count": 26,
     "metadata": {},
     "output_type": "execute_result"
    }
   ],
   "source": [
    "temperature = temperature + 5.0\n",
    "temperature"
   ]
  },
  {
   "cell_type": "code",
   "execution_count": 27,
   "metadata": {
    "slideshow": {
     "slide_type": "fragment"
    }
   },
   "outputs": [
    {
     "data": {
      "text/plain": [
       "98.6"
      ]
     },
     "execution_count": 27,
     "metadata": {},
     "output_type": "execute_result"
    }
   ],
   "source": [
    "original"
   ]
  },
  {
   "cell_type": "markdown",
   "metadata": {
    "slideshow": {
     "slide_type": "fragment"
    }
   },
   "source": [
    "![](./img/1-3.svg)"
   ]
  },
  {
   "cell_type": "markdown",
   "metadata": {
    "slideshow": {
     "slide_type": "fragment"
    }
   },
   "source": [
    "> 如果对象的一个别名被赋值语句赋予新的值，并不影响已存在的对象，而是给别名重新分配了存储对象。"
   ]
  },
  {
   "cell_type": "markdown",
   "metadata": {
    "slideshow": {
     "slide_type": "slide"
    }
   },
   "source": [
    "### 创建和使用对象\n",
    "\n",
    "#### 实例化\n",
    "* 创建一个类的新实例的过程\n",
    "* 调用类的*构造函数*\n",
    "* **内置类**通过隐式方式，如 *temperate = 98.6*\n",
    "\n",
    "#### 调用\n",
    "* 函数调用\n",
    "* 方法调用"
   ]
  },
  {
   "cell_type": "code",
   "execution_count": 6,
   "metadata": {
    "slideshow": {
     "slide_type": "subslide"
    }
   },
   "outputs": [
    {
     "data": {
      "text/plain": [
       "[1, 2, 3, 4, 6, 8]"
      ]
     },
     "execution_count": 6,
     "metadata": {},
     "output_type": "execute_result"
    }
   ],
   "source": [
    "data = [3, 2, 6, 4, 8, 1]\n",
    "# 函数调用\n",
    "sorted(data)"
   ]
  },
  {
   "cell_type": "code",
   "execution_count": 7,
   "metadata": {
    "slideshow": {
     "slide_type": "fragment"
    }
   },
   "outputs": [
    {
     "data": {
      "text/plain": [
       "[1, 2, 3, 4, 6, 8]"
      ]
     },
     "execution_count": 7,
     "metadata": {},
     "output_type": "execute_result"
    }
   ],
   "source": [
    "# 方法\n",
    "data.sort()\n",
    "data"
   ]
  },
  {
   "cell_type": "markdown",
   "metadata": {
    "slideshow": {
     "slide_type": "slide"
    }
   },
   "source": [
    "### Python 的内置类"
   ]
  },
  {
   "cell_type": "markdown",
   "metadata": {
    "slideshow": {
     "slide_type": "fragment"
    }
   },
   "source": [
    "| 类 | 描述 | 是否可变 |\n",
    "|:-:|---|---|\n",
    "| bool | 布尔值 | N |\n",
    "| int | 整数 | N |\n",
    "| float | 浮点数 | N |\n",
    "| list | 可变的对象序列 | Y |\n",
    "| tuple | 不可变的对象序列 | N |\n",
    "| str | 字符串 | N |\n",
    "| set | 不同对象的无序集合 | Y |\n",
    "| frozenset | 集合类的不可变形式 | N |\n",
    "| dict | 字典 | Y |"
   ]
  },
  {
   "cell_type": "markdown",
   "metadata": {
    "slideshow": {
     "slide_type": "fragment"
    }
   },
   "source": [
    "> 如果类的每个对象在实例化时有一个固定值，且在随后的操作中这个固定值不可以改变，那么这个类就是**不可变的类**。"
   ]
  },
  {
   "cell_type": "markdown",
   "metadata": {
    "slideshow": {
     "slide_type": "slide"
    }
   },
   "source": [
    "### 表达式、运算符、优先级\n",
    "\n",
    "#### 逻辑运算符\n",
    "* not\n",
    "* and\n",
    "* or\n",
    "    "
   ]
  },
  {
   "cell_type": "code",
   "execution_count": 8,
   "metadata": {
    "slideshow": {
     "slide_type": "fragment"
    }
   },
   "outputs": [
    {
     "name": "stdout",
     "output_type": "stream",
     "text": [
      "False\n",
      "False\n",
      "True\n"
     ]
    }
   ],
   "source": [
    "print(not True)\n",
    "print(True and False)\n",
    "print(True or False)"
   ]
  },
  {
   "cell_type": "markdown",
   "metadata": {
    "slideshow": {
     "slide_type": "slide"
    }
   },
   "source": [
    "#### 相等预算符\n",
    "\n",
    "* is\n",
    "* is not\n",
    "* == \n",
    "* != "
   ]
  },
  {
   "cell_type": "code",
   "execution_count": 9,
   "metadata": {
    "slideshow": {
     "slide_type": "fragment"
    }
   },
   "outputs": [
    {
     "data": {
      "text/plain": [
       "True"
      ]
     },
     "execution_count": 9,
     "metadata": {},
     "output_type": "execute_result"
    }
   ],
   "source": [
    "a = [\"abc\", 1, 2]\n",
    "b = [\"abc\", 1, 2]\n",
    "a == b"
   ]
  },
  {
   "cell_type": "code",
   "execution_count": 10,
   "metadata": {
    "slideshow": {
     "slide_type": "fragment"
    }
   },
   "outputs": [
    {
     "data": {
      "text/plain": [
       "False"
      ]
     },
     "execution_count": 10,
     "metadata": {},
     "output_type": "execute_result"
    }
   ],
   "source": [
    "a is b"
   ]
  },
  {
   "cell_type": "code",
   "execution_count": null,
   "metadata": {
    "slideshow": {
     "slide_type": "slide"
    }
   },
   "outputs": [],
   "source": []
  },
  {
   "cell_type": "markdown",
   "metadata": {
    "slideshow": {
     "slide_type": "slide"
    }
   },
   "source": [
    "## 控制流程\n",
    "\n",
    "### 条件语句\n",
    "\n",
    "```python\n",
    "if first_condition:\n",
    "    first_body\n",
    "elif second_condition:\n",
    "    second_body\n",
    "elif third_condition:\n",
    "    third_body\n",
    "else:\n",
    "    fouth_body\n",
    "```"
   ]
  },
  {
   "cell_type": "code",
   "execution_count": 11,
   "metadata": {
    "slideshow": {
     "slide_type": "skip"
    }
   },
   "outputs": [],
   "source": [
    "def unlock_door():\n",
    "    print(\"Unlock door!\")\n",
    "\n",
    "def open_door():\n",
    "    print(\"Open door!\")\n",
    "    \n",
    "def advance():\n",
    "    print(\"Advance!\")\n",
    "\n"
   ]
  },
  {
   "cell_type": "markdown",
   "metadata": {
    "slideshow": {
     "slide_type": "subslide"
    }
   },
   "source": [
    "![](./img/1-6.svg)"
   ]
  },
  {
   "cell_type": "code",
   "execution_count": 12,
   "metadata": {
    "slideshow": {
     "slide_type": "fragment"
    }
   },
   "outputs": [
    {
     "name": "stdout",
     "output_type": "stream",
     "text": [
      "Unlock door!\n",
      "Open door!\n",
      "Advance!\n"
     ]
    }
   ],
   "source": [
    "door_is_closed = True\n",
    "door_is_locked = True\n",
    "\n",
    "if door_is_closed:\n",
    "    if door_is_locked:\n",
    "        unlock_door()\n",
    "    open_door()\n",
    "advance()"
   ]
  },
  {
   "cell_type": "code",
   "execution_count": null,
   "metadata": {
    "slideshow": {
     "slide_type": "slide"
    }
   },
   "outputs": [],
   "source": []
  }
 ],
 "metadata": {
  "celltoolbar": "Slideshow",
  "kernelspec": {
   "display_name": "Python 3",
   "language": "python",
   "name": "python3"
  },
  "language_info": {
   "codemirror_mode": {
    "name": "ipython",
    "version": 3
   },
   "file_extension": ".py",
   "mimetype": "text/x-python",
   "name": "python",
   "nbconvert_exporter": "python",
   "pygments_lexer": "ipython3",
   "version": "3.6.5"
  }
 },
 "nbformat": 4,
 "nbformat_minor": 2
}
