{
 "cells": [
  {
   "cell_type": "markdown",
   "metadata": {
    "slideshow": {
     "slide_type": "slide"
    }
   },
   "source": [
    "### <center>2018 Winter CS101.01</center>\n",
    "\n",
    "# <center>Python入门</center>\n",
    "\n",
    "##### <center>by tanzhuxiaqiu@huawei.com</center>"
   ]
  },
  {
   "cell_type": "markdown",
   "metadata": {
    "slideshow": {
     "slide_type": "slide"
    }
   },
   "source": [
    "## 今日议程\n",
    "\n",
    "1. Python概述\n",
    "2. Python对象\n",
    "3. 表达式和运算符\n",
    "4. 控制流程\n",
    "5. 函数\n",
    "6. 输入与输出\n",
    "7. 异常处理\n",
    "8. 迭代器和生成器\n",
    "9. Pythonic\n",
    "10. 作用域和命名空间"
   ]
  },
  {
   "cell_type": "markdown",
   "metadata": {
    "slideshow": {
     "slide_type": "slide"
    }
   },
   "source": [
    "## Python 概述\n",
    "\n",
    "* Python语言最初由Guido van Rossum于20世纪90年代初开发\n",
    "* 目前主要版本为Python2.x和Python3.x\n",
    "* 本课程基于Python3编写"
   ]
  },
  {
   "cell_type": "markdown",
   "metadata": {
    "slideshow": {
     "slide_type": "slide"
    }
   },
   "source": [
    "### Python解释器\n",
    "\n",
    "#### 解释型语言\n",
    "* 逐行接收并执行\n",
    "* 可以交互"
   ]
  },
  {
   "cell_type": "code",
   "execution_count": null,
   "metadata": {
    "slideshow": {
     "slide_type": "fragment"
    }
   },
   "outputs": [],
   "source": [
    "print(\"Hello, Python!\")"
   ]
  },
  {
   "cell_type": "markdown",
   "metadata": {
    "slideshow": {
     "slide_type": "subslide"
    }
   },
   "source": [
    "#### 源代码或脚本\n",
    "* 扩展名为 .py"
   ]
  },
  {
   "cell_type": "markdown",
   "metadata": {
    "slideshow": {
     "slide_type": "fragment"
    }
   },
   "source": [
    "#### 集成开发环境(IDE)\n",
    "* ipython\n",
    "* jupyter notebook\n",
    "* pycharm"
   ]
  },
  {
   "cell_type": "markdown",
   "metadata": {
    "slideshow": {
     "slide_type": "slide"
    }
   },
   "source": [
    "### 初识Python程序\n",
    "* 代码风格（缩进、注释）"
   ]
  },
  {
   "cell_type": "code",
   "execution_count": null,
   "metadata": {
    "slideshow": {
     "slide_type": "fragment"
    }
   },
   "outputs": [],
   "source": [
    "print(\"Welcome to the GPA calculator\")\n",
    "print(\"Please enter all your letter grades, one per line.\")\n",
    "print(\"Enter a blank line to designate the end.\")\n",
    "\n",
    "# map from letter grade to point value\n",
    "points = { 'A+': 4.0, 'A': 3.8, 'A-': 3.67, 'B+': 3.33, 'B': 3.0, 'B-': 2.67, 'C+': 2.33, 'C': 2.0, 'C-': 1.67, 'D': 1.0, 'F': 0.0, }\n",
    "num_courses = 0\n",
    "total_points = 0\n",
    "done = False\n",
    "\n",
    "while not done:\n",
    "    # readline from user input\n",
    "    grade = input()\n",
    "    if grade == '': # empty line was entered\n",
    "        done = True\n",
    "    elif grade not in points:\n",
    "        print(\"Unknow grade '{0}' being ignored\".format(grade))\n",
    "    else:\n",
    "        num_courses += 1\n",
    "        total_points += points[grade]\n",
    "\n",
    "if num_courses > 0: # avoid division by zero\n",
    "    print(\"Your GPA is {0:.3}\".format(total_points / num_courses))"
   ]
  },
  {
   "cell_type": "markdown",
   "metadata": {
    "slideshow": {
     "slide_type": "slide"
    }
   },
   "source": [
    "## Python 对象 \n",
    "\n",
    "Python是一种面向对象的语言，**类**是所有数据类型的基础。"
   ]
  },
  {
   "cell_type": "markdown",
   "metadata": {
    "slideshow": {
     "slide_type": "slide"
    }
   },
   "source": [
    "### 标识符、对象和赋值语句\n",
    "\n",
    "* 标识符由任意字母、数字和下划线组成, 大小写敏感\n",
    "* Python是动态型语言，不需要声明数据类型\n",
    "* 类似其他语言中的引用变量或指针变量\n",
    "* 可以通过向现有对象指定第二个标识符建立一个*别名*"
   ]
  },
  {
   "cell_type": "code",
   "execution_count": null,
   "metadata": {
    "slideshow": {
     "slide_type": "slide"
    }
   },
   "outputs": [],
   "source": [
    "temperature = 98.6\n",
    "temperature"
   ]
  },
  {
   "cell_type": "markdown",
   "metadata": {
    "slideshow": {
     "slide_type": "fragment"
    }
   },
   "source": [
    "![标识符](./img/1-1.svg)"
   ]
  },
  {
   "cell_type": "code",
   "execution_count": null,
   "metadata": {
    "scrolled": true,
    "slideshow": {
     "slide_type": "fragment"
    }
   },
   "outputs": [],
   "source": [
    "original = temperature\n",
    "original"
   ]
  },
  {
   "cell_type": "markdown",
   "metadata": {
    "slideshow": {
     "slide_type": "fragment"
    }
   },
   "source": [
    "![标识符](./img/1-2.svg)"
   ]
  },
  {
   "cell_type": "code",
   "execution_count": null,
   "metadata": {
    "slideshow": {
     "slide_type": "subslide"
    }
   },
   "outputs": [],
   "source": [
    "temperature = temperature + 5.0\n",
    "temperature"
   ]
  },
  {
   "cell_type": "code",
   "execution_count": null,
   "metadata": {
    "slideshow": {
     "slide_type": "fragment"
    }
   },
   "outputs": [],
   "source": [
    "original"
   ]
  },
  {
   "cell_type": "markdown",
   "metadata": {
    "slideshow": {
     "slide_type": "fragment"
    }
   },
   "source": [
    "![](./img/1-3.svg)"
   ]
  },
  {
   "cell_type": "markdown",
   "metadata": {
    "slideshow": {
     "slide_type": "fragment"
    }
   },
   "source": [
    "> 如果对象的一个别名被赋值语句赋予新的值，并不影响已存在的对象，而是给别名重新分配了存储对象。"
   ]
  },
  {
   "cell_type": "markdown",
   "metadata": {
    "slideshow": {
     "slide_type": "slide"
    }
   },
   "source": [
    "### 创建和使用对象\n",
    "\n",
    "#### 实例化\n",
    "* 创建一个类的新实例的过程\n",
    "* 调用类的*构造函数*\n",
    "* **内置类**通过隐式方式，如 *temperate = 98.6*\n",
    "\n",
    "#### 调用\n",
    "* 函数调用\n",
    "* 方法调用"
   ]
  },
  {
   "cell_type": "code",
   "execution_count": null,
   "metadata": {
    "slideshow": {
     "slide_type": "subslide"
    }
   },
   "outputs": [],
   "source": [
    "data = [3, 2, 6, 4, 8, 1]\n",
    "# 函数调用\n",
    "sorted(data)"
   ]
  },
  {
   "cell_type": "code",
   "execution_count": null,
   "metadata": {
    "slideshow": {
     "slide_type": "fragment"
    }
   },
   "outputs": [],
   "source": [
    "# 方法\n",
    "data.sort()\n",
    "data"
   ]
  },
  {
   "cell_type": "code",
   "execution_count": null,
   "metadata": {
    "slideshow": {
     "slide_type": "fragment"
    }
   },
   "outputs": [],
   "source": [
    "from random import sample\n",
    "data = sample(range(1000), 1000)\n",
    "%timeit sorted(data)"
   ]
  },
  {
   "cell_type": "code",
   "execution_count": null,
   "metadata": {
    "slideshow": {
     "slide_type": "fragment"
    }
   },
   "outputs": [],
   "source": [
    "%timeit data.sort()"
   ]
  },
  {
   "cell_type": "markdown",
   "metadata": {
    "slideshow": {
     "slide_type": "slide"
    }
   },
   "source": [
    "### Python 的内置类\n"
   ]
  },
  {
   "cell_type": "markdown",
   "metadata": {
    "slideshow": {
     "slide_type": "fragment"
    }
   },
   "source": [
    "| 类 | 描述 | 是否可变(Mutable) |\n",
    "|:-:|---|---|\n",
    "| bool | 布尔值 | N |\n",
    "| int | 整数 | N |\n",
    "| float | 浮点数 | N |\n",
    "| list | 可变的对象序列 | Y |\n",
    "| tuple | 不可变的对象序列 | N |\n",
    "| str | 字符串 | N |\n",
    "| set | 不同对象的无序集合 | Y |\n",
    "| frozenset | 集合类的不可变形式 | N |\n",
    "| dict | 字典 | Y |"
   ]
  },
  {
   "cell_type": "markdown",
   "metadata": {
    "slideshow": {
     "slide_type": "fragment"
    }
   },
   "source": [
    "> 如果类的每个对象在实例化时有一个固定值，且在随后的操作中这个固定值不可以改变，那么这个类就是**不可变的类**。"
   ]
  },
  {
   "cell_type": "code",
   "execution_count": null,
   "metadata": {
    "slideshow": {
     "slide_type": "subslide"
    }
   },
   "outputs": [],
   "source": [
    "l = [1, 2, 3]\n",
    "id(l)"
   ]
  },
  {
   "cell_type": "code",
   "execution_count": null,
   "metadata": {
    "slideshow": {
     "slide_type": "fragment"
    }
   },
   "outputs": [],
   "source": [
    "l *= 3 # l = l * 3 的一种简约表达\n",
    "print(l)\n",
    "id(l)"
   ]
  },
  {
   "cell_type": "code",
   "execution_count": null,
   "metadata": {
    "slideshow": {
     "slide_type": "fragment"
    }
   },
   "outputs": [],
   "source": [
    "t = (1, 2, 3)\n",
    "id(t)"
   ]
  },
  {
   "cell_type": "code",
   "execution_count": null,
   "metadata": {
    "slideshow": {
     "slide_type": "fragment"
    }
   },
   "outputs": [],
   "source": [
    "t *= 3\n",
    "print(t)\n",
    "id(t)"
   ]
  },
  {
   "cell_type": "code",
   "execution_count": null,
   "metadata": {
    "slideshow": {
     "slide_type": "fragment"
    }
   },
   "outputs": [],
   "source": [
    "l.append('a')\n",
    "l"
   ]
  },
  {
   "cell_type": "code",
   "execution_count": null,
   "metadata": {
    "slideshow": {
     "slide_type": "fragment"
    }
   },
   "outputs": [],
   "source": [
    "t.append('a')\n",
    "t"
   ]
  },
  {
   "cell_type": "code",
   "execution_count": null,
   "metadata": {
    "slideshow": {
     "slide_type": "subslide"
    }
   },
   "outputs": [],
   "source": [
    "from array import array\n",
    "a = array('I', [1, 2, 3])\n",
    "a"
   ]
  },
  {
   "cell_type": "code",
   "execution_count": null,
   "metadata": {
    "slideshow": {
     "slide_type": "fragment"
    }
   },
   "outputs": [],
   "source": [
    "a *= 3\n",
    "a.append(4)\n",
    "a"
   ]
  },
  {
   "cell_type": "code",
   "execution_count": null,
   "metadata": {
    "slideshow": {
     "slide_type": "fragment"
    }
   },
   "outputs": [],
   "source": [
    "a.append('a')"
   ]
  },
  {
   "cell_type": "markdown",
   "metadata": {
    "slideshow": {
     "slide_type": "slide"
    }
   },
   "source": [
    "### 表达式、运算符、优先级\n",
    "\n",
    "#### 逻辑运算符\n",
    "* not 逻辑非\n",
    "* and 逻辑与\n",
    "* or  逻辑或\n",
    "    "
   ]
  },
  {
   "cell_type": "code",
   "execution_count": null,
   "metadata": {
    "slideshow": {
     "slide_type": "fragment"
    }
   },
   "outputs": [],
   "source": [
    "print(not True)\n",
    "print(True and False)\n",
    "print(True or False)"
   ]
  },
  {
   "cell_type": "markdown",
   "metadata": {
    "slideshow": {
     "slide_type": "slide"
    }
   },
   "source": [
    "#### 相等预算符\n",
    "\n",
    "* is    同一实体\n",
    "* is not 不同实体\n",
    "* ==    等价\n",
    "* !=    不等"
   ]
  },
  {
   "cell_type": "code",
   "execution_count": null,
   "metadata": {
    "slideshow": {
     "slide_type": "fragment"
    }
   },
   "outputs": [],
   "source": [
    "a = [\"abc\", 1, 2]\n",
    "b = [\"abc\", 1, 2]\n",
    "a == b"
   ]
  },
  {
   "cell_type": "code",
   "execution_count": null,
   "metadata": {
    "slideshow": {
     "slide_type": "fragment"
    }
   },
   "outputs": [],
   "source": [
    "a is b"
   ]
  },
  {
   "cell_type": "markdown",
   "metadata": {
    "slideshow": {
     "slide_type": "slide"
    }
   },
   "source": [
    "#### 比较预算符\n",
    "\n",
    "* <\n",
    "* <=\n",
    "* \\>\n",
    "* \\>="
   ]
  },
  {
   "cell_type": "markdown",
   "metadata": {
    "slideshow": {
     "slide_type": "slide"
    }
   },
   "source": [
    "#### 算数预算符\n",
    "\n",
    "- \\+ 加\n",
    "- \\- 减\n",
    "- \\* 乘\n",
    "- / 真正除法\n",
    "- // 整数除法\n",
    "- % 取模"
   ]
  },
  {
   "cell_type": "code",
   "execution_count": null,
   "metadata": {
    "slideshow": {
     "slide_type": "subslide"
    }
   },
   "outputs": [],
   "source": [
    "27 / 4 # __truediv__"
   ]
  },
  {
   "cell_type": "code",
   "execution_count": null,
   "metadata": {
    "slideshow": {
     "slide_type": "fragment"
    }
   },
   "outputs": [],
   "source": [
    "27 // 4 # __floordiv__"
   ]
  },
  {
   "cell_type": "code",
   "execution_count": null,
   "metadata": {
    "slideshow": {
     "slide_type": "fragment"
    }
   },
   "outputs": [],
   "source": [
    "-27 // 4"
   ]
  },
  {
   "cell_type": "code",
   "execution_count": null,
   "metadata": {
    "slideshow": {
     "slide_type": "fragment"
    }
   },
   "outputs": [],
   "source": [
    "-27 % 4"
   ]
  },
  {
   "cell_type": "markdown",
   "metadata": {
    "slideshow": {
     "slide_type": "fragment"
    }
   },
   "source": [
    "> 如果 q = n // m 且 r = n % m，那么Python保证 q * m + r = n"
   ]
  },
  {
   "cell_type": "markdown",
   "metadata": {
    "slideshow": {
     "slide_type": "slide"
    }
   },
   "source": [
    "#### 位运算符\n",
    "\n",
    "- ~ 取反\n",
    "- & 按位与\n",
    "- | 按位或\n",
    "- ^ 按位异或\n",
    "- << 左移位，按零填充\n",
    "- \\>\\> 右移位，按符号位填充\n",
    "\n",
    "\n"
   ]
  },
  {
   "cell_type": "markdown",
   "metadata": {
    "slideshow": {
     "slide_type": "slide"
    }
   },
   "source": [
    "#### 序列运算符\n",
    "\n",
    "Python每个内置序列（str、tuple和list）都支持：\n",
    "- **s[j]**           索引下标为j的元素\n",
    "- **s[start:stop]**     切片操作，得到索引为[start, stop)的序列\n",
    "- **s[start:stop:step]**  切片操作，新序列包含索引为 start, start + step, start + 2\\*step,...直到序列结束\n",
    "- **s + t**           序列连接\n",
    "- **k * s**          序列s重复连接k次\n",
    "- **val in s**        检查序列s包含元素val\n",
    "- **val not in s**     检查序列s不包含元素val"
   ]
  },
  {
   "cell_type": "markdown",
   "metadata": {
    "slideshow": {
     "slide_type": "slide"
    }
   },
   "source": [
    "#### 字典预算符\n",
    "\n",
    "- d[key]\n",
    "- d[key] == value\n",
    "- del d[key]\n",
    "- key in d\n",
    "- key not in d\n",
    "- d1 == d2\n",
    "- d1 != d2"
   ]
  },
  {
   "cell_type": "markdown",
   "metadata": {
    "slideshow": {
     "slide_type": "slide"
    }
   },
   "source": [
    "## 控制流程\n",
    "\n",
    "### 条件语句\n",
    "\n",
    "```python\n",
    "if first_condition:\n",
    "    first_body\n",
    "elif second_condition:\n",
    "    second_body\n",
    "elif third_condition:\n",
    "    third_body\n",
    "else:\n",
    "    fouth_body\n",
    "```"
   ]
  },
  {
   "cell_type": "markdown",
   "metadata": {
    "slideshow": {
     "slide_type": "subslide"
    }
   },
   "source": [
    "![](./img/1-6.svg)"
   ]
  },
  {
   "cell_type": "code",
   "execution_count": null,
   "metadata": {
    "slideshow": {
     "slide_type": "subslide"
    }
   },
   "outputs": [],
   "source": [
    "def unlock_door():\n",
    "    print(\"Unlock door!\")\n",
    "\n",
    "def open_door():\n",
    "    print(\"Open door!\")\n",
    "    \n",
    "def advance():\n",
    "    print(\"Advance!\")\n",
    "\n",
    "door_is_closed = True\n",
    "door_is_locked = True\n",
    "\n",
    "if door_is_closed:\n",
    "    if door_is_locked:\n",
    "        unlock_door()\n",
    "    open_door()\n",
    "advance()"
   ]
  },
  {
   "cell_type": "markdown",
   "metadata": {
    "slideshow": {
     "slide_type": "slide"
    }
   },
   "source": [
    "### 循环语句\n",
    "\n",
    "#### while 循环\n",
    "```python\n",
    "while condition:\n",
    "    body\n",
    "```\n",
    "\n",
    "#### for 循环\n",
    "```python\n",
    "for element in iterable:\n",
    "    body\n",
    "```"
   ]
  },
  {
   "cell_type": "markdown",
   "metadata": {
    "slideshow": {
     "slide_type": "fragment"
    }
   },
   "source": [
    "- 索引\n",
    "```python\n",
    "for i in range(10):\n",
    "    print(i)\n",
    "```\n",
    "- break 和 continue"
   ]
  },
  {
   "cell_type": "markdown",
   "metadata": {
    "slideshow": {
     "slide_type": "slide"
    }
   },
   "source": [
    "## Python函数\n",
    "\n",
    "- 函数与方法，例如 sorted()和list.sort()"
   ]
  },
  {
   "cell_type": "markdown",
   "metadata": {
    "slideshow": {
     "slide_type": "fragment"
    }
   },
   "source": [
    "- 函数的签名和主体\n",
    "- return 语句\n",
    "```python\n",
    "def count(data, target):\n",
    "    n = 0\n",
    "    for item in data:\n",
    "        if item == target:\n",
    "            n += 1\n",
    "    return n\n",
    "```"
   ]
  },
  {
   "cell_type": "markdown",
   "metadata": {
    "slideshow": {
     "slide_type": "slide"
    }
   },
   "source": [
    "### 信息传递\n",
    "\n",
    "- 形式参数和实际参数\n",
    "```python\n",
    "count(grades, 'A')\n",
    "```"
   ]
  },
  {
   "cell_type": "markdown",
   "metadata": {
    "slideshow": {
     "slide_type": "fragment"
    }
   },
   "source": [
    "- 默认参数值\n",
    "\n",
    "```python\n",
    "def foo(a, b=15, c=27):\n",
    "    pass\n",
    "\n",
    "def range(start, stop=None, step=1):\n",
    "    ...\n",
    "```"
   ]
  },
  {
   "cell_type": "markdown",
   "metadata": {
    "slideshow": {
     "slide_type": "fragment"
    }
   },
   "source": [
    "- 关键字参数\n",
    "\n",
    "```python\n",
    "foo(a=10, c=5) # foo(10, 15, 5)\n",
    "```"
   ]
  },
  {
   "cell_type": "markdown",
   "metadata": {
    "slideshow": {
     "slide_type": "slide"
    }
   },
   "source": [
    "### Python 内置函数\n",
    "\n",
    "- 输入/输出：print/input/open/...\n",
    "- 字符编码：ord/chr/...\n",
    "- 数学： abs/divmod/pow/round/sum/...\n",
    "- 排序： max/min/sorted/...\n",
    "- 集合/迭代：range/len/reversed/all/any/map/iter/next/...\n"
   ]
  },
  {
   "cell_type": "code",
   "execution_count": null,
   "metadata": {
    "slideshow": {
     "slide_type": "subslide"
    }
   },
   "outputs": [],
   "source": [
    "abs(-5) # 返回数字的绝对值"
   ]
  },
  {
   "cell_type": "code",
   "execution_count": null,
   "metadata": {
    "slideshow": {
     "slide_type": "fragment"
    }
   },
   "outputs": [],
   "source": [
    "round(4.6) # 取最接近的int值"
   ]
  },
  {
   "cell_type": "code",
   "execution_count": null,
   "metadata": {
    "slideshow": {
     "slide_type": "fragment"
    }
   },
   "outputs": [],
   "source": [
    "all([True, 1, 2, 3]) # 对于每个元素e，当且仅当bool(e)都为True时返回True"
   ]
  },
  {
   "cell_type": "code",
   "execution_count": null,
   "metadata": {
    "slideshow": {
     "slide_type": "fragment"
    }
   },
   "outputs": [],
   "source": [
    "any([False, 0, abs(5)]) # 对于每个元素e，至少存在一个元素满足bool(e)为True时返回True"
   ]
  },
  {
   "cell_type": "code",
   "execution_count": null,
   "metadata": {
    "slideshow": {
     "slide_type": "fragment"
    }
   },
   "outputs": [],
   "source": [
    "chr(65) # 返回Unicode编码的字符"
   ]
  },
  {
   "cell_type": "code",
   "execution_count": null,
   "metadata": {
    "slideshow": {
     "slide_type": "fragment"
    }
   },
   "outputs": [],
   "source": [
    "divmod(27, 4) # 对于整数x和y，返回（x//y, x%y)"
   ]
  },
  {
   "cell_type": "code",
   "execution_count": null,
   "metadata": {
    "slideshow": {
     "slide_type": "subslide"
    }
   },
   "outputs": [],
   "source": [
    "class A:\n",
    "    pass\n",
    "a = A()\n",
    "\n",
    "hash(a) # 返回对象的散列值"
   ]
  },
  {
   "cell_type": "code",
   "execution_count": null,
   "metadata": {
    "slideshow": {
     "slide_type": "fragment"
    }
   },
   "outputs": [],
   "source": [
    "id(a) # 返回对象的唯一标识符"
   ]
  },
  {
   "cell_type": "code",
   "execution_count": null,
   "metadata": {
    "slideshow": {
     "slide_type": "fragment"
    }
   },
   "outputs": [],
   "source": [
    "isinstance(a, A) # 判断对象是否为类的一个实例"
   ]
  },
  {
   "cell_type": "code",
   "execution_count": null,
   "metadata": {
    "slideshow": {
     "slide_type": "fragment"
    }
   },
   "outputs": [],
   "source": [
    "type(a) # 返回对象的类"
   ]
  },
  {
   "cell_type": "code",
   "execution_count": null,
   "metadata": {
    "slideshow": {
     "slide_type": "subslide"
    }
   },
   "outputs": [],
   "source": [
    "l = [1, 2, 3]\n",
    "len(l) # 返回迭代对象的元素个数"
   ]
  },
  {
   "cell_type": "code",
   "execution_count": null,
   "metadata": {
    "slideshow": {
     "slide_type": "fragment"
    }
   },
   "outputs": [],
   "source": [
    "min(l) # 返回迭代对象的最小值"
   ]
  },
  {
   "cell_type": "code",
   "execution_count": null,
   "metadata": {
    "slideshow": {
     "slide_type": "fragment"
    }
   },
   "outputs": [],
   "source": [
    "max(l) # 返回迭代对象的最大值"
   ]
  },
  {
   "cell_type": "code",
   "execution_count": null,
   "metadata": {
    "slideshow": {
     "slide_type": "fragment"
    }
   },
   "outputs": [],
   "source": [
    "max(10, 11, 12)"
   ]
  },
  {
   "cell_type": "code",
   "execution_count": null,
   "metadata": {
    "slideshow": {
     "slide_type": "fragment"
    }
   },
   "outputs": [],
   "source": [
    "sum(l) # 返回迭代元素的和"
   ]
  },
  {
   "cell_type": "code",
   "execution_count": null,
   "metadata": {
    "slideshow": {
     "slide_type": "fragment"
    }
   },
   "outputs": [],
   "source": [
    "for i in reversed(l): # reversed 返回逆置序列的迭代\n",
    "    print(i)"
   ]
  },
  {
   "cell_type": "code",
   "execution_count": null,
   "metadata": {
    "slideshow": {
     "slide_type": "subslide"
    }
   },
   "outputs": [],
   "source": [
    "it = iter([1, 2, 3]) # 根据参数返回一个迭代对象\n",
    "next(it)"
   ]
  },
  {
   "cell_type": "code",
   "execution_count": null,
   "metadata": {
    "slideshow": {
     "slide_type": "fragment"
    }
   },
   "outputs": [],
   "source": [
    "next(it)"
   ]
  },
  {
   "cell_type": "code",
   "execution_count": null,
   "metadata": {
    "slideshow": {
     "slide_type": "fragment"
    }
   },
   "outputs": [],
   "source": [
    "next(it)"
   ]
  },
  {
   "cell_type": "code",
   "execution_count": null,
   "metadata": {
    "slideshow": {
     "slide_type": "fragment"
    }
   },
   "outputs": [],
   "source": [
    "next(it)"
   ]
  },
  {
   "cell_type": "code",
   "execution_count": null,
   "metadata": {
    "slideshow": {
     "slide_type": "fragment"
    }
   },
   "outputs": [],
   "source": [
    "it = iter([-1, -2, -3])\n",
    "sum(it)"
   ]
  },
  {
   "cell_type": "code",
   "execution_count": null,
   "metadata": {
    "slideshow": {
     "slide_type": "fragment"
    }
   },
   "outputs": [],
   "source": [
    "it = iter([-1, -2, -3])\n",
    "for i in map(abs, it):\n",
    "    print(i)"
   ]
  },
  {
   "cell_type": "markdown",
   "metadata": {
    "slideshow": {
     "slide_type": "slide"
    }
   },
   "source": [
    "## 简单的输入和输出\n",
    "\n",
    "### 控制台的输入和输出\n",
    "\n",
    "- print 函数\n",
    "- input 函数"
   ]
  },
  {
   "cell_type": "code",
   "execution_count": null,
   "metadata": {
    "slideshow": {
     "slide_type": "fragment"
    }
   },
   "outputs": [],
   "source": [
    "age = int(input(\"输入你的年龄：\"))\n",
    "max_heart_rate = 206.9 - (0.67 * age)\n",
    "target = 0.65 * max_heart_rate\n",
    "print(\"你的有效燃脂心率为：\", target)"
   ]
  },
  {
   "cell_type": "markdown",
   "metadata": {
    "slideshow": {
     "slide_type": "slide"
    }
   },
   "source": [
    "### 文件\n",
    "\n",
    "#### 打开关闭文件\n",
    "```python\n",
    "fp = open('sample.txt', 'r')\n",
    "fp.close()\n",
    "```"
   ]
  },
  {
   "cell_type": "markdown",
   "metadata": {
    "slideshow": {
     "slide_type": "fragment"
    }
   },
   "source": [
    "#### 读文件\n",
    "\n",
    "```python\n",
    "fp.read() # 返回读取文件剩下的所有内容\n",
    "fp.read(k) # 返回读取文件剩下的k个字节\n",
    "fp.readline() # 返回文件中一行的内容\n",
    "fp.readlines() # 返回一个列表，包含文件中每行的内容\n",
    "for line in fp # 遍历文件中的每一行\n",
    "```"
   ]
  },
  {
   "cell_type": "markdown",
   "metadata": {
    "slideshow": {
     "slide_type": "subslide"
    }
   },
   "source": [
    "#### 写文件\n",
    "\n",
    "```python\n",
    "fp.write(string) # 在可写文件的当前位置写入string的内容\n",
    "fp.writlines(seq) # 在可写文件的当前位置依次将seq中每个string的内容按行写入\n",
    "print(..., file=fp) # 重定向print的输出，将输出内容写入文件fp中\n",
    "```"
   ]
  },
  {
   "cell_type": "markdown",
   "metadata": {
    "slideshow": {
     "slide_type": "slide"
    }
   },
   "source": [
    "## 异常处理\n",
    "\n",
    "**异常**指程序执行期间发生的突发性事件，通常是逻辑错误或者未预料的情况，在Python中异常是执行代码时遇到突发状况后所引发（抛出）的一种对象。\n",
    "\n",
    "#### 常见异常类型\n",
    "\n",
    "|异常类名|描述|\n",
    "|---|---|\n",
    "|Exception|所有异常类的基类|\n",
    "|AttributeError|如果对象obj没有foo成员，调用obj.foo时引发|\n",
    "|EOFError|\"end of file\"或着文件输入引发的错误|\n",
    "|IOError|输入输出操作失败引发错误|\n",
    "|IndexError|索引越界错误|\n",
    "|KeyError|请求一个不存在的集合或字典的key|\n",
    "|KeyboardInterrupt|用户按ctrl-c中断程序引发错误|\n",
    "|NameError|使用不存在的标识符引发错误|\n",
    "|StopIteration|遍历不存在的元素时引发的错误|\n",
    "|TypeError|函数参数类型不正确时引发的错误|\n",
    "|ValueError|函数参数非法时引发的错误|\n",
    "|ZeroDivisionError|除数为0时引发的错误|"
   ]
  },
  {
   "cell_type": "markdown",
   "metadata": {
    "slideshow": {
     "slide_type": "slide"
    }
   },
   "source": [
    "### 抛出异常\n",
    "\n",
    "```python\n",
    "def sqrt(x):\n",
    "    if not isinstance(x, (int, float)):\n",
    "        raise TypeError('x must be numeric')\n",
    "    elif x < 0:\n",
    "        raise ValueError('x cannot be negative')\n",
    "    # do the ral work here\n",
    "```"
   ]
  },
  {
   "cell_type": "code",
   "execution_count": null,
   "metadata": {
    "slideshow": {
     "slide_type": "slide"
    }
   },
   "outputs": [],
   "source": [
    "def sum(values):\n",
    "    total =      0  \n",
    "     for v in values:\n",
    "        total = total + v\n",
    "    return total"
   ]
  },
  {
   "cell_type": "code",
   "execution_count": null,
   "metadata": {
    "slideshow": {
     "slide_type": "fragment"
    }
   },
   "outputs": [],
   "source": [
    "sum(1)"
   ]
  },
  {
   "cell_type": "code",
   "execution_count": null,
   "metadata": {
    "slideshow": {
     "slide_type": "fragment"
    }
   },
   "outputs": [],
   "source": [
    "sum([1.1, 'a'])"
   ]
  },
  {
   "cell_type": "markdown",
   "metadata": {
    "slideshow": {
     "slide_type": "slide"
    }
   },
   "source": [
    "### 捕捉异常\n",
    "\n",
    "如何处理除数为0的风险?\n",
    "\n",
    "> \"Look before you leak.\"\n",
    "\n",
    "```python\n",
    "if y != 0:\n",
    "    ratio = x / y\n",
    "else:\n",
    "    # ...do something else...\n",
    "```\n",
    "\n",
    "> \"It's easier to ask for fogiveness than it is to get permission.\" -- Grace Hopper\n",
    "\n",
    "```python\n",
    "try:\n",
    "    ratio = x / y\n",
    "except ZeroDivisionError:\n",
    "    # ...do something...\n",
    "except TypeError:\n",
    "    # ...do something else...\n",
    "finally:\n",
    "    # ...\n",
    "```"
   ]
  },
  {
   "cell_type": "markdown",
   "metadata": {
    "slideshow": {
     "slide_type": "slide"
    }
   },
   "source": [
    "## 迭代器和生成器\n",
    "\n",
    "#### 迭代器\n",
    "\n",
    "- 迭代器是一个对象，通过内置的函数（如next）管理迭代\n",
    "- 如果对象obj是可迭代的，那么通过语法iter(obj)可以产生一个迭代器"
   ]
  },
  {
   "cell_type": "code",
   "execution_count": null,
   "metadata": {
    "slideshow": {
     "slide_type": "fragment"
    }
   },
   "outputs": [],
   "source": [
    "l = [1, 2, 3, 4]\n",
    "it = iter(l)\n",
    "next(it)"
   ]
  },
  {
   "cell_type": "markdown",
   "metadata": {
    "slideshow": {
     "slide_type": "slide"
    }
   },
   "source": [
    "#### 生成器\n",
    "\n",
    "- yield语句\n",
    "- lazy evaluation"
   ]
  },
  {
   "cell_type": "code",
   "execution_count": null,
   "metadata": {
    "slideshow": {
     "slide_type": "fragment"
    }
   },
   "outputs": [],
   "source": [
    "def factors(n):\n",
    "    results = []\n",
    "    for k in range(1, n+1):\n",
    "        if n % k == 0:\n",
    "            results.append(k)\n",
    "    return results\n",
    "\n",
    "factors(100)"
   ]
  },
  {
   "cell_type": "code",
   "execution_count": null,
   "metadata": {
    "slideshow": {
     "slide_type": "subslide"
    }
   },
   "outputs": [],
   "source": [
    "def factors(n):\n",
    "    for k in range(1, n+1):\n",
    "        if n % k == 0:\n",
    "            yield k\n",
    "\n",
    "factors(100)            "
   ]
  },
  {
   "cell_type": "code",
   "execution_count": null,
   "metadata": {
    "slideshow": {
     "slide_type": "fragment"
    }
   },
   "outputs": [],
   "source": [
    "gen_factors = factors(100)\n",
    "print(next(gen_factors))\n",
    "print(next(gen_factors))\n",
    "print(next(gen_factors))"
   ]
  },
  {
   "cell_type": "code",
   "execution_count": null,
   "metadata": {
    "slideshow": {
     "slide_type": "fragment"
    }
   },
   "outputs": [],
   "source": [
    "for factor in factors(100):\n",
    "    print(factor)"
   ]
  },
  {
   "cell_type": "markdown",
   "metadata": {
    "slideshow": {
     "slide_type": "slide"
    }
   },
   "source": [
    "## Pythonic 的语法\n",
    "\n",
    "### 条件表达式\n",
    "\n",
    "```python\n",
    "expr1 if condition else expr2\n",
    "```"
   ]
  },
  {
   "cell_type": "code",
   "execution_count": null,
   "metadata": {
    "slideshow": {
     "slide_type": "slide"
    }
   },
   "outputs": [],
   "source": [
    "def foo(n):\n",
    "    return n\n",
    "\n",
    "n = 10\n",
    "if n >= 0:\n",
    "    param = n\n",
    "else:\n",
    "    param = -n\n",
    "    \n",
    "foo(param) # call the function"
   ]
  },
  {
   "cell_type": "code",
   "execution_count": null,
   "metadata": {
    "slideshow": {
     "slide_type": "fragment"
    }
   },
   "outputs": [],
   "source": [
    "foo(n if n >= 0 else -n)"
   ]
  },
  {
   "cell_type": "markdown",
   "metadata": {
    "slideshow": {
     "slide_type": "slide"
    }
   },
   "source": [
    "### 解析语法\n",
    "\n",
    "```python\n",
    "[ expression for value in iterable if condition ]\n",
    "```\n",
    "```python\n",
    "result = []\n",
    "for value in iterable:\n",
    "    if condition:\n",
    "        result.append(value)\n",
    "```"
   ]
  },
  {
   "cell_type": "code",
   "execution_count": null,
   "metadata": {
    "slideshow": {
     "slide_type": "fragment"
    }
   },
   "outputs": [],
   "source": [
    "squares = [k*k for k in range(10) if k > 0]\n",
    "squares"
   ]
  },
  {
   "cell_type": "code",
   "execution_count": null,
   "metadata": {
    "slideshow": {
     "slide_type": "fragment"
    }
   },
   "outputs": [],
   "source": [
    "n = 100\n",
    "factors = [k for k in range(1, n+1) if n % k == 0]\n",
    "factors"
   ]
  },
  {
   "cell_type": "markdown",
   "metadata": {
    "slideshow": {
     "slide_type": "slide"
    }
   },
   "source": [
    "#### 常用的解析器\n",
    "\n",
    "```python\n",
    "[ k*k for k in range(1, n+1) ] # 列表解析\n",
    "{ k*k for k in range(1, n+1) } # 集合解析\n",
    "( k*k for k in range(1, n+1) ) # 生成器解析\n",
    "{ k: k*k for k in range(1, n+1) } # 字典解析\n",
    "```"
   ]
  },
  {
   "cell_type": "markdown",
   "metadata": {
    "slideshow": {
     "slide_type": "slide"
    }
   },
   "source": [
    "### 序列类型的打包和解包\n",
    "\n",
    "- 打包\n",
    "```python\n",
    "data = 2, 4, 6, 8\n",
    "return x, y\n",
    "```"
   ]
  },
  {
   "cell_type": "markdown",
   "metadata": {
    "slideshow": {
     "slide_type": "fragment"
    }
   },
   "source": [
    "- 解包\n",
    "```python\n",
    "a, b, c, d = range(7, 11)\n",
    "quotient, remainder = divmod(a, b)\n",
    "for x, y in [(7, 2), (5, 8), (6, 4)]:\n",
    "for k, v in mapping.items():\n",
    "```"
   ]
  },
  {
   "cell_type": "markdown",
   "metadata": {
    "slideshow": {
     "slide_type": "subslide"
    }
   },
   "source": [
    "- 同时分配\n",
    "```python\n",
    "x, y, z = 6, 2, 5\n",
    "j, k = k, j\n",
    "```"
   ]
  },
  {
   "cell_type": "code",
   "execution_count": null,
   "metadata": {
    "slideshow": {
     "slide_type": "fragment"
    }
   },
   "outputs": [],
   "source": [
    "def fibonacci():\n",
    "    a, b = 0, 1\n",
    "    while True:\n",
    "        yield a\n",
    "        a, b = b, a+b\n",
    "        \n",
    "fib = fibonacci()\n",
    "for i in range(10):\n",
    "    print(next(fib))"
   ]
  },
  {
   "cell_type": "markdown",
   "metadata": {
    "slideshow": {
     "slide_type": "slide"
    }
   },
   "source": [
    "## 作用域和命名空间\n",
    "\n",
    "- 局部变量和全局变量\n",
    "- 命名空间\n"
   ]
  },
  {
   "cell_type": "code",
   "execution_count": null,
   "metadata": {
    "slideshow": {
     "slide_type": "fragment"
    }
   },
   "outputs": [],
   "source": [
    "x = 10\n",
    "def foo():\n",
    "    x = 5\n",
    "    print(x)\n",
    "\n",
    "print(x)\n",
    "foo()"
   ]
  },
  {
   "cell_type": "markdown",
   "metadata": {
    "slideshow": {
     "slide_type": "slide"
    }
   },
   "source": [
    "## 模块和import语句\n",
    "\n",
    "```python\n",
    "from math import pi, sqrt\n",
    "import math\n",
    "```\n",
    "\n",
    "#### 数据结构和算法相关的模块\n",
    "|模块名|描述|\n",
    "|---|---|\n",
    "|array|为原始类型提供了紧凑的数组结构|\n",
    "|collections|一些额外的数据结构和对象集合|\n",
    "|copy|定义通用函数来复制对象|\n",
    "|heapq|提过基于堆的优先队列函数|\n",
    "|math|常见的数学常数和函数|\n",
    "|os|提供与操作系统交互|\n",
    "|random|提供随机数生成|\n",
    "|re|正则相关的函数|\n",
    "|sys|提供了与Python解释器交互的函数|\n",
    "|time|对测试时间或延迟程序提供支持|"
   ]
  },
  {
   "cell_type": "markdown",
   "metadata": {
    "slideshow": {
     "slide_type": "slide"
    }
   },
   "source": [
    "# Any Questions?"
   ]
  }
 ],
 "metadata": {
  "celltoolbar": "Slideshow",
  "kernelspec": {
   "display_name": "Python 3",
   "language": "python",
   "name": "python3"
  },
  "language_info": {
   "codemirror_mode": {
    "name": "ipython",
    "version": 3
   },
   "file_extension": ".py",
   "mimetype": "text/x-python",
   "name": "python",
   "nbconvert_exporter": "python",
   "pygments_lexer": "ipython3",
   "version": "3.6.5"
  }
 },
 "nbformat": 4,
 "nbformat_minor": 2
}
