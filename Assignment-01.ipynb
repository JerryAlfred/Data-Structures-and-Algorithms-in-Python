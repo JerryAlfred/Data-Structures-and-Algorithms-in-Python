{
 "cells": [
  {
   "cell_type": "markdown",
   "metadata": {
    "slideshow": {
     "slide_type": "slide"
    }
   },
   "source": [
    "## 课后作业 Assignment-01\n",
    "\n",
    "1) 实现一个简单的二维向量类Vector，使其满足以下条件：\n",
    "- 可以通过构造函数Vector(x, y) 来构造新的Vector实例，如 v1 = Vector(1, 1), v2 = Vector(2, 3)；\n",
    "- 向量之间支持“+”操作符，如 v3 = v1 + v2，其中v3的x，y值满足v3.x = v1.x + v2.x = 3, v3.y = v1.y + v2.y = 4；\n",
    "- 向量支持与常数之间的“\\*”操作，比如v2 * 2, 而v2的新的x，y值为v2(4, 6)；\n",
    "- 向量支持内置的“abs”函数来计算其长度，比如abs(v3) = 5.0。\n"
   ]
  },
  {
   "cell_type": "markdown",
   "metadata": {
    "slideshow": {
     "slide_type": "subslide"
    }
   },
   "source": [
    "Vector参考图例"
   ]
  },
  {
   "cell_type": "code",
   "execution_count": 2,
   "metadata": {
    "slideshow": {
     "slide_type": "fragment"
    }
   },
   "outputs": [
    {
     "data": {
      "image/png": "[encoded data removed]",
      "text/plain": [
       "<Figure size 432x288 with 1 Axes>"
      ]
     },
     "metadata": {},
     "output_type": "display_data"
    }
   ],
   "source": [
    "import numpy as np\n",
    "import matplotlib.pyplot as plt\n",
    "%matplotlib inline\n",
    "\n",
    "M = np.array([[1, 1], [2, 3], [3, 4]])\n",
    "\n",
    "rows,cols = M.T.shape\n",
    "\n",
    "for i,l in enumerate(range(0,cols)):\n",
    "    xs = [0, M[i,0]]\n",
    "    ys = [0, M[i,1]]\n",
    "    plt.plot(xs,ys)\n",
    "\n",
    "plt.plot(0, 0, 'ok') #<-- plot a black point at the origin\n",
    "plt.axis('equal')  #<-- set the axes to the same scale\n",
    "plt.xlim([0, 5]) #<-- set the x axis limits\n",
    "plt.ylim([0, 5]) #<-- set the y axis limits\n",
    "plt.legend(['V'+str(i+1) for i in range(cols)]) #<-- give a legend\n",
    "plt.grid(b=True, which='major') #<-- plot grid lines\n",
    "plt.title(\"Vectors\")\n",
    "plt.show()"
   ]
  },
  {
   "cell_type": "markdown",
   "metadata": {
    "slideshow": {
     "slide_type": "slide"
    }
   },
   "source": [
    "2)以下代码段提供了一个未完成的 Progression 类，其目的是想实现一个基本的数列迭代器：\n",
    "\n",
    "```python\n",
    "class Progression:\n",
    "    \"\"\"Iterator producting a generic progression.\n",
    "\n",
    "    Default iterator produces the whole numbers 0, 1, 2...\n",
    "    \"\"\"\n",
    "\n",
    "    def __init__(self, start=0):\n",
    "        \"\"\"Initilize current value to the first value of the progression.\n",
    "        \"\"\"\n",
    "        self._cur_val = start\n",
    "\n",
    "    def _advance(self):\n",
    "        \"\"\"Update sefl._cur_val to a new value.\n",
    "\n",
    "        This should be overriden by a subclass to customize progression.\n",
    "        \"\"\"\n",
    "        self._cur_val += 1\n",
    "\n",
    "    def __next__(self):\n",
    "        \"\"\"Return the next element, or else raise StopIteration error.\n",
    "        \"\"\"\n",
    "        # TODO: Implement this method.\n",
    "        pass\n",
    "\n",
    "    def __iter__(self):\n",
    "        \"\"\"Return itself as an iterator.\n",
    "        \"\"\"\n",
    "        # TODO: Implement this method.\n",
    "        pass\n",
    "\n",
    "    def print_progression(self, n):\n",
    "        \"\"\"Print next n values of the progression.\n",
    "        \"\"\"\n",
    "        # TODO: Implement this method.\n",
    "        pass\n",
    "\n",
    "```\n",
    "\n",
    "2.1)根据提供的注释修改其 \\_\\_next\\_\\_、\\_\\_iter\\_\\_和print_progression方法,使其完成一个递增数列(如数列[0, 1, 2...])迭代器的最基本操作；"
   ]
  },
  {
   "cell_type": "markdown",
   "metadata": {
    "slideshow": {
     "slide_type": "subslide"
    }
   },
   "source": [
    "2.2)以上面的Progression类为基类，通过继承Progression和重写其构造函数及_advance方法，分别实现一个等差数列(ArithmeticProgression)类、一个等比数列(GeometircProgression)类和一个斐波那契数列(FibonacciProgression)类，总体的UML图可参考下图。\n",
    "\n",
    "![](./img/2-7.png)"
   ]
  }
 ],
 "metadata": {
  "kernelspec": {
   "display_name": "Python 3",
   "language": "python",
   "name": "python3"
  },
  "language_info": {
   "codemirror_mode": {
    "name": "ipython",
    "version": 3
   },
   "file_extension": ".py",
   "mimetype": "text/x-python",
   "name": "python",
   "nbconvert_exporter": "python",
   "pygments_lexer": "ipython3",
   "version": "3.6.5"
  }
 },
 "nbformat": 4,
 "nbformat_minor": 2
}
