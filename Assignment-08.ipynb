{
 "cells": [
  {
   "cell_type": "markdown",
   "metadata": {
    "slideshow": {
     "slide_type": "slide"
    }
   },
   "source": [
    "## 课后作业 Assignment-08\n",
    "\n",
    "1) 将k个有序的链表合并成一个n节点的链表，要求时间复杂度在$O(n log k)$。例如：\n",
    "\n",
    "输入:\n",
    "[\n",
    "  1->4->5,\n",
    "  1->3->4,\n",
    "  2->6\n",
    "]  \n",
    "输出: 1->1->2->3->4->4->5->6\n",
    "\n",
    "\n",
    "> 注： 1. 链表的定义如下\n",
    "\n",
    "```python\n",
    "from typing import List\n",
    "\n",
    "\n",
    "class Node:\n",
    "    \"\"\"Singly list node\"\"\"\n",
    "\n",
    "    def __init__(self, v):\n",
    "        self._data = v\n",
    "        self._next = None\n",
    "\n",
    "\n",
    "def mergeKLists(lists: List[Node]) -> Node:\n",
    "    # TODO: implement this func.\n",
    "    pass\n",
    "\n",
    "```\n",
    "\n",
    "> 2. 可以使用python内置的heapq和PriorityQueue来实现"
   ]
  }
 ],
 "metadata": {
  "kernelspec": {
   "display_name": "Python 3",
   "language": "python",
   "name": "python3"
  },
  "language_info": {
   "codemirror_mode": {
    "name": "ipython",
    "version": 3
   },
   "file_extension": ".py",
   "mimetype": "text/x-python",
   "name": "python",
   "nbconvert_exporter": "python",
   "pygments_lexer": "ipython3",
   "version": "3.6.5"
  }
 },
 "nbformat": 4,
 "nbformat_minor": 2
}
