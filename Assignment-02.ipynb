{
 "cells": [
  {
   "cell_type": "markdown",
   "metadata": {
    "slideshow": {
     "slide_type": "slide"
    }
   },
   "source": [
    "## 课后作业 Assignment-02\n",
    "\n",
    "1) 用递归的方式实现一个函数 **digit_sum(n)** ，可以求出输入的整数n的每位数字之和，比如n=1234，digit_sum(1234)=1+2+3+4=10。\n"
   ]
  },
  {
   "cell_type": "markdown",
   "metadata": {
    "slideshow": {
     "slide_type": "slide"
    }
   },
   "source": [
    "2) 现代操作系统的磁盘目录结构可以表示成类似下图的树形结构：\n",
    "\n",
    "![](./img/4-4.png)"
   ]
  },
  {
   "cell_type": "markdown",
   "metadata": {
    "slideshow": {
     "slide_type": "subslide"
    }
   },
   "source": [
    "根据以下提出的伪代码，用Python实现一个递归函数DiskUsage(path)，实现统计path目录和其所有子目录占用磁盘空间大小的功能。\n",
    "\n",
    "```Python\n",
    "Algorithm DiskUsage(path):\n",
    "    Input: A string designating a path to a file-system entry\n",
    "    Output: The cumulative disk space used by that entry and any nested entries\n",
    "    total = size(path)\n",
    "    if path is a directory then\n",
    "        for each child entry in path do\n",
    "            total = total + DiskUsage(child)\n",
    "    return total\n",
    "```"
   ]
  },
  {
   "cell_type": "markdown",
   "metadata": {
    "slideshow": {
     "slide_type": "subslide"
    }
   },
   "source": [
    "Tips：实现过程中可能需要用到Python标注库os下的几个函数\n",
    "\n",
    "- os.path.getsize(path)\n",
    "- os.path.isdir(path)\n",
    "- os.path.listdir(path)\n",
    "- os.path.join(path, filename)\n",
    "\n",
    "具体的使用方法可以自行查阅[Python文档](https://docs.python.org/3/library/os.path.html#module-os.path)。"
   ]
  },
  {
   "cell_type": "markdown",
   "metadata": {
    "slideshow": {
     "slide_type": "slide"
    }
   },
   "source": [
    "3) 有一个n阶的楼梯，上楼时可以一次上一阶，也可以一次上两阶，请问总共有多少种上楼方法？用Python实现这个求解过程。"
   ]
  }
 ],
 "metadata": {
  "celltoolbar": "Slideshow",
  "kernelspec": {
   "display_name": "Python 3",
   "language": "python",
   "name": "python3"
  },
  "language_info": {
   "codemirror_mode": {
    "name": "ipython",
    "version": 3
   },
   "file_extension": ".py",
   "mimetype": "text/x-python",
   "name": "python",
   "nbconvert_exporter": "python",
   "pygments_lexer": "ipython3",
   "version": "3.6.5"
  }
 },
 "nbformat": 4,
 "nbformat_minor": 2
}
